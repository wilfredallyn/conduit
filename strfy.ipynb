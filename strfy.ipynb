{
 "cells": [
  {
   "cell_type": "code",
   "execution_count": null,
   "metadata": {},
   "outputs": [],
   "source": [
    "import lmdb\n",
    "import json\n",
    "from datetime import datetime\n",
    "import numpy as np\n",
    "import os\n",
    "import pandas as pd\n",
    "import plotly.express as px\n",
    "from sentence_transformers import SentenceTransformer\n",
    "import weaviate\n",
    "from dotenv import load_dotenv\n",
    "load_dotenv()\n"
   ]
  },
  {
   "cell_type": "code",
   "execution_count": null,
   "metadata": {},
   "outputs": [],
   "source": [
    "class_name = \"Event\"\n",
    "class_obj = {\n",
    "    \"class\": class_name,\n",
    "    \"description\": \"Events\",\n",
    "    \"vectorIndexConfig\": {\n",
    "        \"distance\": \"cosine\",\n",
    "    },\n",
    "    \"properties\": [\n",
    "        {\"name\": \"event_id\", \"dataType\": [\"string\"]},\n",
    "        {\"name\": \"created_at\", \"dataType\": [\"int\"]},\n",
    "        {\"name\": \"pubkey\", \"dataType\": [\"string\"]},\n",
    "        {\"name\": \"kind\", \"dataType\": [\"int\"]},\n",
    "        {\"name\": \"content\", \"dataType\": [\"string\"]},\n",
    "        # sig, tags\n",
    "    ],\n",
    "    \"vectorizer\": \"text2vec-transformers\",\n",
    "}\n",
    "client = weaviate.Client(\n",
    "    url=\"http://localhost:8080\",\n",
    ")\n",
    "# client.schema.create_class(class_obj)"
   ]
  },
  {
   "cell_type": "code",
   "execution_count": null,
   "metadata": {},
   "outputs": [],
   "source": [
    "# client.schema.delete_class('Event')"
   ]
  },
  {
   "cell_type": "code",
   "execution_count": null,
   "metadata": {},
   "outputs": [],
   "source": [
    "#  'id': 'ffff726c90d177b58b7b88add1301573469b09032f1a05f51b36c761e4b3a3d8',\n",
    "#  'kind': 7,\n",
    "#  'pubkey': 'c90e809dedf85e516b8d350b8d8d28088388e1133b7641a45a83e513db105e35',\n",
    "#  'sig': '1fcaf7a55dbb33d290061509036e216c38b63e02abaedf4e2823bd0b96698dc3bac3c06492cbb7efac784c65929d9828316d71f320b79c42d3b9d3378bae6077',\n",
    "#  'tags': [['e',\n",
    "#    '5198baed543e8ce75c744d3fc8676c2797f649cdde5e072885e56a662cc888d0'],\n",
    "#   ['p', 'c90e809dedf85e516b8d350b8d8d28088388e1133b7641a45a83e513db105e35']]}\n",
    "start_time = datetime.now()\n",
    "print(\"Start time:\", start_time.strftime(\"%Y-%m-%d %H:%M:%S\"))\n",
    "\n",
    "embedding_model = SentenceTransformer('all-MiniLM-L6-v2')\n",
    "\n",
    "env = lmdb.open(path=os.getenv(\"STRFRY_DB_FOLDER\"), max_dbs=10)\n",
    "payload_db = env.open_db(b\"rasgueadb_defaultDb__EventPayload\")\n",
    "id_db = env.open_db(b\"rasgueadb_defaultDb__Event__id\")\n",
    "\n",
    "record_count = 0\n",
    "text_kinds = [1, 31922, 31923]\n",
    "client.batch.configure(batch_size=100)\n",
    "with client.batch as batch:\n",
    "    with env.begin(db=id_db) as txn:\n",
    "        # with env.begin(db=payload_db) as tpl:\n",
    "        #     for key, value in txn.cursor():\n",
    "        #         pl = tpl.get(value)\n",
    "        #         if pl is None:\n",
    "        #             print(value)\n",
    "        #             continue\n",
    "        cursor = txn.cursor(db=id_db)\n",
    "        for key, value in cursor:\n",
    "            pl = txn.get(value, db=payload_db)\n",
    "            if pl is None:\n",
    "                print(key, value)\n",
    "                continue\n",
    "            event_hex = key.hex()[:64]  # event_id\n",
    "            event_json = json.loads(pl[1:].decode(\"utf-8\"))\n",
    "            if event_json[\"kind\"] in text_kinds:\n",
    "                emb = embedding_model.encode(event_json[\"content\"])\n",
    "                properties = {\n",
    "                    \"event_id\": event_json[\"id\"],\n",
    "                    \"created_at\": event_json[\"created_at\"],\n",
    "                    \"pubkey\": event_json[\"pubkey\"],\n",
    "                    \"kind\": event_json[\"kind\"],\n",
    "                    \"content\": event_json[\"content\"],\n",
    "                }\n",
    "                batch.add_data_object(\n",
    "                    data_object=properties,\n",
    "                    class_name=class_name,\n",
    "                    vector=emb,\n",
    "                )\n",
    "                # record_count += 1\n",
    "                # if record_count > 1000:\n",
    "                #     break\n",
    "end_time = datetime.now()\n",
    "print(\"End time:\", end_time.strftime(\"%Y-%m-%d %H:%M:%S\"))\n",
    "\n",
    "# Calculate and print the duration\n",
    "duration = end_time - start_time\n",
    "print(\"Duration:\", duration)\n"
   ]
  },
  {
   "cell_type": "code",
   "execution_count": null,
   "metadata": {},
   "outputs": [],
   "source": [
    "response = (\n",
    "    client.query\n",
    "    .get(\"Event\", [\"event_id\", \"pubkey\", \"kind\", \"content\"])\n",
    "    .with_limit(1)\n",
    "    # .with_additional(\"vector\")\n",
    "    .with_additional([\"distance\", \"id\"])\n",
    "    .do()\n",
    ")\n",
    "print(json.dumps(response, indent=4))"
   ]
  },
  {
   "cell_type": "code",
   "execution_count": null,
   "metadata": {},
   "outputs": [],
   "source": [
    "response = (\n",
    "    client.query\n",
    "    .aggregate(\"Event\")\n",
    "    .with_meta_count()\n",
    "    .do()\n",
    ")\n",
    "\n",
    "print(json.dumps(response, indent=2))"
   ]
  },
  {
   "cell_type": "code",
   "execution_count": null,
   "metadata": {},
   "outputs": [],
   "source": [
    "near_text_config = {\n",
    "  \"concepts\": [\"economics\"],\n",
    "#   \"distance\": 0.6,\n",
    "#   \"moveAwayFrom\": {\n",
    "#     \"concepts\": [\"finance\"],\n",
    "#     \"force\": 0.45\n",
    "#   },\n",
    "#   \"moveTo\": {\n",
    "#     \"concepts\": [\"haute couture\"],\n",
    "#     \"force\": 0.85\n",
    "#   }\n",
    "}\n",
    "\n",
    "response = (\n",
    "    client.query\n",
    "    .get(\"Event\", [\"event_id\", \"content\"])\n",
    "    .with_near_text(near_text_config)\n",
    "    .with_limit(1)\n",
    "    .with_additional([\"distance\", \"id\"])\n",
    "    .do()\n",
    ")\n",
    "\n",
    "print(json.dumps(response, indent=4))"
   ]
  },
  {
   "cell_type": "code",
   "execution_count": null,
   "metadata": {},
   "outputs": [],
   "source": [
    "pubkey_value = \"eab0e756d32b80bcd464f3d844b8040303075a13eabc3599a762c9ac7ab91f4f\"\n",
    "\n",
    "query = \"\"\"\n",
    "{\n",
    "  Get {\n",
    "    Event(\n",
    "      where: {\n",
    "        path: [\"pubkey\"]\n",
    "        operator: Equal\n",
    "        valueString: \"%s\"\n",
    "      }\n",
    "      limit: 10000\n",
    "    ) {\n",
    "      event_id\n",
    "      created_at\n",
    "      pubkey\n",
    "      kind\n",
    "      content\n",
    "      _additional {\n",
    "        vector\n",
    "      }\n",
    "    }\n",
    "  }\n",
    "}\n",
    "\"\"\" % pubkey_value\n",
    "\n",
    "result = client.query.raw(query)\n",
    "events = result['data']['Get']['Event']"
   ]
  },
  {
   "cell_type": "code",
   "execution_count": null,
   "metadata": {},
   "outputs": [],
   "source": [
    "vectors = [event['_additional']['vector'] for event in events]\n",
    "vectors_array = np.array(vectors)\n",
    "mean_vector = np.mean(vectors_array, axis=0)\n",
    "\n",
    "# event_ids = [event['event_id'] for event in events]\n",
    "\n",
    "# # Create a DataFrame\n",
    "# df_vec = pd.DataFrame(vectors, index=event_ids, columns=[f'feature_{i}' for i in range(len(vectors[0]))])\n"
   ]
  },
  {
   "cell_type": "code",
   "execution_count": null,
   "metadata": {},
   "outputs": [],
   "source": [
    "mean_vector[:5]"
   ]
  },
  {
   "cell_type": "code",
   "execution_count": null,
   "metadata": {},
   "outputs": [],
   "source": [
    "response = (\n",
    "    client.query\n",
    "    .get(\"Event\", [\"question\"])\n",
    "    .do()\n",
    ")"
   ]
  },
  {
   "cell_type": "code",
   "execution_count": null,
   "metadata": {},
   "outputs": [],
   "source": [
    "def process_month(event_json):\n",
    "    date = datetime.fromtimestamp(event_json['created_at'])\n",
    "    month = date.strftime(\"%Y-%m\")\n",
    "    return month\n",
    "\n",
    "def process_date(event_json):\n",
    "    date = (\n",
    "        datetime.fromtimestamp(event_json['created_at'])\n",
    "        .strftime(\"%m-%d-%Y\")\n",
    "    )\n",
    "    return date\n",
    "\n",
    "def process_kind(event_json):\n",
    "    return event_json['kind']\n",
    "\n",
    "def process_db(process_fn):\n",
    "    env = lmdb.open(path=os.getenv(\"STRFRY_DB_FOLDER\"), max_dbs=10)\n",
    "    payload_db = env.open_db(b\"rasgueadb_defaultDb__EventPayload\")\n",
    "    id_db = env.open_db(b\"rasgueadb_defaultDb__Event__id\")\n",
    "    output_list = []\n",
    "\n",
    "    with env.begin(db=id_db) as txn:\n",
    "        cursor = txn.cursor(db=id_db)\n",
    "        for key, value in cursor:\n",
    "            pl = txn.get(value, db=payload_db)\n",
    "            if pl is None:\n",
    "                print(key, value)\n",
    "                continue\n",
    "            # event_hex = key.hex()[:64]  # event_id\n",
    "            event_json = json.loads(pl[1:].decode(\"utf-8\"))\n",
    "            output_list.append(process_fn(event_json))\n",
    "    return output_list"
   ]
  },
  {
   "cell_type": "code",
   "execution_count": null,
   "metadata": {},
   "outputs": [],
   "source": [
    "month_list = process_db(process_month)\n",
    "event_counts = pd.Series(month_list).value_counts().sort_index()\n",
    "fig = px.bar(event_counts, x=event_counts.index, y=event_counts.values, labels={'x': 'Month', 'y': 'Number of Events'})\n",
    "fig.update_layout(title='Number of Events by Month', xaxis_title='Month', yaxis_title='Number of Events')\n",
    "fig.show()"
   ]
  },
  {
   "cell_type": "code",
   "execution_count": null,
   "metadata": {},
   "outputs": [],
   "source": [
    "date_list = process_db(process_date)\n",
    "event_counts = pd.Series(date_list).value_counts().sort_index()\n",
    "fig = px.bar(event_counts, x=event_counts.index, y=event_counts.values, labels={'x': 'Date', 'y': 'Number of Events'})\n",
    "fig.update_layout(title='Number of Events by Date', xaxis_title='Date', yaxis_title='Number of Events')\n",
    "fig.show()"
   ]
  },
  {
   "cell_type": "code",
   "execution_count": null,
   "metadata": {},
   "outputs": [],
   "source": [
    "kind_list = process_db(process_kind)\n",
    "counts = pd.Series(kind_list).value_counts().sort_index()\n",
    "fig = px.bar(counts, x=list(map(str, counts.index)), y=counts.values, labels={'x': 'kind', 'y': 'Number of Events'})\n",
    "fig.update_layout(title='Number of Events by kind', xaxis_title='kind', yaxis_title='Number of Events')\n",
    "fig.show()\n",
    "# 1, 30023\n"
   ]
  },
  {
   "cell_type": "code",
   "execution_count": null,
   "metadata": {},
   "outputs": [],
   "source": [
    "start_time = datetime.now()\n",
    "print(\"Start time:\", start_time.strftime(\"%Y-%m-%d %H:%M:%S\"))\n",
    "\n",
    "end_time = datetime.now()\n",
    "print(\"End time:\", end_time.strftime(\"%Y-%m-%d %H:%M:%S\"))\n",
    "\n",
    "# Calculate and print the duration\n",
    "duration = end_time - start_time\n",
    "print(\"Duration:\", duration)"
   ]
  },
  {
   "cell_type": "code",
   "execution_count": null,
   "metadata": {},
   "outputs": [],
   "source": [
    "env = lmdb.open(path=os.getenv(\"STRFRY_DB_FOLDER\"), max_dbs=10)\n",
    "payload_db = env.open_db(b\"rasgueadb_defaultDb__EventPayload\")\n",
    "id_db = env.open_db(b\"rasgueadb_defaultDb__Event__id\")\n",
    "\n",
    "\n",
    "pubkey_counts = {}\n",
    "with env.begin(db=id_db) as txn:\n",
    "    with env.begin(db=payload_db) as tpl:\n",
    "        for key, value in txn.cursor():\n",
    "            pl = tpl.get(value)\n",
    "            if pl is None:\n",
    "                raise Exception(\"db corrupt!?\")\n",
    "            event_hex = key.hex()[:64]  # event_id\n",
    "            event_json = json.loads(pl[1:].decode(\"utf-8\"))  # event json\n",
    "            pubkey = event_json['pubkey']\n",
    "            if pubkey in pubkey_counts:\n",
    "                pubkey_counts[pubkey] += 1\n",
    "            else:\n",
    "                pubkey_counts[pubkey] = 1"
   ]
  },
  {
   "cell_type": "code",
   "execution_count": null,
   "metadata": {},
   "outputs": [],
   "source": [
    "top_pubkeys = sorted(pubkey_counts, key=pubkey_counts.get, reverse=True)[:5]\n",
    "\n",
    "for pubkey in top_pubkeys:\n",
    "    print(f\"PubKey: {pubkey}, Count: {pubkey_counts[pubkey]}\")"
   ]
  }
 ],
 "metadata": {
  "kernelspec": {
   "display_name": "Python 3",
   "language": "python",
   "name": "python3"
  },
  "language_info": {
   "codemirror_mode": {
    "name": "ipython",
    "version": 3
   },
   "file_extension": ".py",
   "mimetype": "text/x-python",
   "name": "python",
   "nbconvert_exporter": "python",
   "pygments_lexer": "ipython3",
   "version": "3.11.5"
  },
  "orig_nbformat": 4
 },
 "nbformat": 4,
 "nbformat_minor": 2
}
