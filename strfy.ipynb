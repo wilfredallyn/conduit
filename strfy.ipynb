{
 "cells": [
  {
   "cell_type": "code",
   "execution_count": null,
   "metadata": {},
   "outputs": [],
   "source": [
    "%load_ext autoreload\n",
    "%autoreload 2"
   ]
  },
  {
   "cell_type": "code",
   "execution_count": null,
   "metadata": {},
   "outputs": [],
   "source": [
    "import lmdb\n",
    "import json\n",
    "from datetime import datetime, timezone\n",
    "import numpy as np\n",
    "import os\n",
    "import pandas as pd\n",
    "import plotly.express as px\n",
    "from purple_py.db import (\n",
    "    read_strfy_db,\n",
    "    get_content_for_embeddings,\n",
    "    query_db_for_record,\n",
    "    create_weaviate_record,\n",
    "    add_npub_cross_ref,\n",
    ")\n",
    "from sentence_transformers import SentenceTransformer\n",
    "import weaviate\n",
    "from dotenv import load_dotenv\n",
    "load_dotenv()\n",
    "\n",
    "client = weaviate.Client(\n",
    "    url=\"http://localhost:8080\",\n",
    ")\n"
   ]
  },
  {
   "cell_type": "code",
   "execution_count": null,
   "metadata": {},
   "outputs": [],
   "source": [
    "# def vectorize_content\n",
    "process_output = {}\n",
    "process_output[\"event_id_list\"] = []\n",
    "process_output[\"content_list\"] = []\n",
    "\n",
    "process_output = read_strfy_db(\n",
    "    client,\n",
    "    process_fn=get_content_for_embeddings,\n",
    "    process_output=process_output,\n",
    ")\n",
    "embedding_model = SentenceTransformer('all-MiniLM-L6-v2')\n",
    "process_output[\"embedding_list\"] = embedding_model.encode(process_output[\"content_list\"])"
   ]
  },
  {
   "cell_type": "code",
   "execution_count": null,
   "metadata": {},
   "outputs": [],
   "source": [
    "process_output[\"pubkey_dict\"] = {}\n",
    "process_output = query_db_for_record(\n",
    "    client=client,\n",
    "    process_fn=create_weaviate_record,\n",
    "    process_input=process_output,\n",
    ")"
   ]
  },
  {
   "cell_type": "code",
   "execution_count": null,
   "metadata": {},
   "outputs": [],
   "source": [
    "# get event by event id\n",
    "# get all events for pubkey\n",
    "\n",
    "event_query = {\n",
    "  \"where\": {\n",
    "    \"operator\": \"Equal\",\n",
    "    \"path\": [\"event_id\"],\n",
    "    \"valueString\": event_id\n",
    "  }\n",
    "}\n",
    "\n",
    "event_response = (\n",
    "    client.query\n",
    "    .get(\"Event\", [\"created_at\", \"pubkey\", \"kind\"])\n",
    "    .with_where(event_query[\"where\"])\n",
    "    .do()\n",
    ")\n",
    "event = event_response['data']['Get']['Event']"
   ]
  },
  {
   "cell_type": "code",
   "execution_count": null,
   "metadata": {},
   "outputs": [],
   "source": [
    "# get all events for pubkey\n",
    "pubkey = \"17538dc2a62769d09443f18c37cbe358fab5bbf981173542aa7c5ff171ed77c4\"  # elsat\n",
    "\n",
    "pubkey_query = {\n",
    "  \"where\": {\n",
    "    \"operator\": \"Equal\",\n",
    "    \"path\": [\"pubkey\"],\n",
    "    \"valueString\": pubkey\n",
    "  }\n",
    "}\n",
    "\n",
    "user_response = (\n",
    "    client.query\n",
    "    .get(\"User\", [\"pubkey\"])\n",
    "    # .get(\"User\", [\n",
    "    #     \"hasCreated { ... on Event { event_id created_at pubkey kind content } }\"\n",
    "    # ])\n",
    "    # .with_where(pubkey_query[\"where\"])\n",
    "    .do()\n",
    ")\n",
    "\n",
    "event_response = (\n",
    "    client.query\n",
    "    .get(\"Event\", [\"event_id\"])\n",
    "    # .get(\"User\", [\n",
    "    #     \"hasCreated { ... on Event { event_id created_at pubkey kind content } }\"\n",
    "    # ])\n",
    "    # .with_where(pubkey_query[\"where\"])\n",
    "    .do()\n",
    ")\n",
    "\n",
    "created_response = (\n",
    "    client.query\n",
    "    .get(\"User\", [\n",
    "        \"hasCreated { ... on Event { event_id created_at pubkey kind content } }\"\n",
    "    ])\n",
    "    .do()\n",
    ")\n",
    "\n",
    "# Extracting the events associated with the user\n",
    "pubkey_events = user_response['data']['Get']['User']\n",
    "events_output = event_response['data']['Get']['Event']\n",
    "created_output = created_response['data']['Get']['User']\n"
   ]
  },
  {
   "cell_type": "code",
   "execution_count": null,
   "metadata": {},
   "outputs": [],
   "source": [
    "strfry_path = os.getenv(\"STRFRY_DB_FOLDER\")\n",
    "batch_size = os.getenv(\"WEAVIATE_CLIENT_BATCH_SIZE\")\n",
    "batch_size = int(batch_size) if batch_size else 1000\n",
    "min_content_length = os.getenv(\"MIN_CONTENT_LENGTH\")\n",
    "min_content_length = int(min_content_length) if min_content_length else 50\n",
    "min_num_events = os.getenv(\"MIN_NUM_EVENTS\")\n",
    "min_num_events = int(min_num_events) if min_num_events else 5\n",
    "\n",
    "page_limit = 1000"
   ]
  },
  {
   "cell_type": "code",
   "execution_count": null,
   "metadata": {},
   "outputs": [],
   "source": [
    "print(WEAVIATE_PAGE_LIMIT)"
   ]
  },
  {
   "cell_type": "code",
   "execution_count": null,
   "metadata": {},
   "outputs": [],
   "source": [
    "add_npub_cross_ref(client)"
   ]
  },
  {
   "cell_type": "code",
   "execution_count": null,
   "metadata": {},
   "outputs": [],
   "source": [
    "# 1st pass: get all content > min_length, get embeddings\n",
    "start_time = datetime.now()\n",
    "print(\"Start time:\", start_time.strftime(\"%Y-%m-%d %H:%M:%S\"))\n",
    "\n",
    "env = lmdb.open(path=strfry_path, max_dbs=10)\n",
    "payload_db = env.open_db(b\"rasgueadb_defaultDb__EventPayload\")\n",
    "id_db = env.open_db(b\"rasgueadb_defaultDb__Event__id\")\n",
    "\n",
    "# record_count = 0\n",
    "# pubkey_dict = {}\n",
    "# event_dict = {}\n",
    "\n",
    "text_kinds = [1, 31922, 31923]\n",
    "content_list = []\n",
    "event_id_list = []\n",
    "client.batch.configure(batch_size=batch_size)\n",
    "with client.batch as batch:\n",
    "    with env.begin(db=id_db) as txn:\n",
    "        cursor = txn.cursor(db=id_db)\n",
    "        for key, value in cursor:\n",
    "            pl = txn.get(value, db=payload_db)\n",
    "            if pl is None:\n",
    "                print(key, value)\n",
    "                continue\n",
    "            event_hex = key.hex()[:64]  # event_id\n",
    "            event_json = json.loads(pl[1:].decode(\"utf-8\"))\n",
    "            if \"content\" not in event_json or len(event_json['content']) < min_content_length:\n",
    "                continue\n",
    "            if event_json[\"kind\"] in text_kinds:\n",
    "                event_id = event_json[\"id\"]\n",
    "                content = event_json['content']\n",
    "                if event_id not in event_id_list:\n",
    "                    content_list.append(content)\n",
    "                    event_id_list.append(event_id)\n",
    "end_time = datetime.now()\n",
    "print(\"End time:\", end_time.strftime(\"%Y-%m-%d %H:%M:%S\"))\n",
    "\n",
    "# Calculate and print the duration\n",
    "duration = end_time - start_time\n",
    "print(\"Duration:\", duration)\n"
   ]
  },
  {
   "cell_type": "code",
   "execution_count": null,
   "metadata": {},
   "outputs": [],
   "source": [
    "embedding_model = SentenceTransformer('all-MiniLM-L6-v2')\n",
    "embedding_list = embedding_model.encode(content_list)"
   ]
  },
  {
   "cell_type": "code",
   "execution_count": null,
   "metadata": {},
   "outputs": [],
   "source": [
    "start_time = datetime.now()\n",
    "print(\"Start time:\", start_time.strftime(\"%Y-%m-%d %H:%M:%S\"))\n",
    "\n",
    "end_time = datetime.now()\n",
    "duration = end_time - start_time\n",
    "print(\"End time:\", end_time.strftime(\"%Y-%m-%d %H:%M:%S\"))\n",
    "print(\"Duration:\", duration)\n"
   ]
  },
  {
   "cell_type": "code",
   "execution_count": null,
   "metadata": {},
   "outputs": [],
   "source": [
    "# 1st pass: get all content > min_length, get embeddings\n",
    "content_list = []\n",
    "event_id_list = []\n",
    "offset = 0\n",
    "while True:\n",
    "    events_response = client.query.get(\n",
    "        \"Event\",\n",
    "        [\"event_id\", \"content\"]\n",
    "        # [\"event_id\", \"content\", \"_additional { id }\"]\n",
    "    ).with_limit(page_limit).with_offset(offset).do()\n",
    "\n",
    "    events = events_response[\"data\"][\"Get\"][\"Event\"]\n",
    "    if events is None:\n",
    "        break\n",
    "    for event in events:\n",
    "        event['event_id']\n",
    "        content = event['content']\n",
    "        if len(content) > min_content_length:\n",
    "            content_list.append(event['content'])\n",
    "            event_id_list.append(event['event_id'])\n",
    "    if len(events) < page_limit:\n",
    "        break\n",
    "    offset += page_limit"
   ]
  },
  {
   "cell_type": "code",
   "execution_count": null,
   "metadata": {},
   "outputs": [],
   "source": [
    "users = client.query.get(\"User\", [\"name\", \"pubkey\", \"hasCreated\"]).do()\n",
    "for user in users[\"data\"][\"Get\"][\"User\"]:\n",
    "    print(f\"User: {user['name']} has created events: {user['hasCreated']}\")\n"
   ]
  },
  {
   "cell_type": "code",
   "execution_count": null,
   "metadata": {},
   "outputs": [],
   "source": [
    "users"
   ]
  },
  {
   "cell_type": "code",
   "execution_count": null,
   "metadata": {},
   "outputs": [],
   "source": [
    "event[\"_additional\"][\"id\"]"
   ]
  },
  {
   "cell_type": "code",
   "execution_count": null,
   "metadata": {},
   "outputs": [],
   "source": [
    "user_response[\"data\"][\"Get\"][\"User\"][:5]"
   ]
  },
  {
   "cell_type": "code",
   "execution_count": null,
   "metadata": {},
   "outputs": [],
   "source": [
    "events"
   ]
  },
  {
   "cell_type": "code",
   "execution_count": null,
   "metadata": {},
   "outputs": [],
   "source": [
    "embeddings = embedding_model.encode(content_list)"
   ]
  },
  {
   "cell_type": "code",
   "execution_count": null,
   "metadata": {},
   "outputs": [],
   "source": [
    "embeddings[0]"
   ]
  },
  {
   "cell_type": "code",
   "execution_count": null,
   "metadata": {},
   "outputs": [],
   "source": [
    "len(embeddings)"
   ]
  },
  {
   "cell_type": "code",
   "execution_count": null,
   "metadata": {},
   "outputs": [],
   "source": [
    "len(content_list), len(event_id_list)"
   ]
  },
  {
   "cell_type": "code",
   "execution_count": null,
   "metadata": {},
   "outputs": [],
   "source": [
    "# query pubkeys with > 5 events\n",
    "offset = 0\n",
    "event_counts = {}\n",
    "while True:\n",
    "    events_response = client.query.get(\n",
    "        \"Event\",\n",
    "        # [\"event_id\", \"content\", \"pubkey\"]\n",
    "        [\"event_id\", \"content\", \"pubkey\", \"_additional { id }\"]\n",
    "    ).with_limit(page_limit).with_offset(offset).do()\n",
    "\n",
    "    events = events_response[\"data\"][\"Get\"][\"Event\"]\n",
    "    if events is None:\n",
    "        break\n",
    "    for event in events:\n",
    "        if len(event['content']) > min_content_length:\n",
    "            pubkey = event['pubkey']\n",
    "            event_counts[pubkey] = event_counts.get(pubkey, 0) + 1\n",
    "    if len(events) < page_limit:\n",
    "        break\n",
    "    offset += page_limit\n",
    "\n",
    "pubkeys_with_events = [\n",
    "    pubkey for pubkey, count in event_counts.items() if count >= min_num_events\n",
    "]\n",
    "\n",
    "print(pubkeys_with_events)\n"
   ]
  },
  {
   "cell_type": "code",
   "execution_count": null,
   "metadata": {},
   "outputs": [],
   "source": [
    "response = (\n",
    "    client.query\n",
    "    .get(\"Event\", [\"event_id\", \"pubkey\", \"kind\", \"content\"])\n",
    "    .with_limit(1)\n",
    "    # .with_additional(\"vector\")\n",
    "    .with_additional([\"distance\", \"id\"])\n",
    "    .do()\n",
    ")\n",
    "print(json.dumps(response, indent=4))"
   ]
  },
  {
   "cell_type": "code",
   "execution_count": null,
   "metadata": {},
   "outputs": [],
   "source": [
    "response = (\n",
    "    client.query\n",
    "    .aggregate(\"Event\")\n",
    "    .with_meta_count()\n",
    "    .do()\n",
    ")\n",
    "\n",
    "print(json.dumps(response, indent=2))"
   ]
  },
  {
   "cell_type": "code",
   "execution_count": null,
   "metadata": {},
   "outputs": [],
   "source": [
    "near_text_config = {\n",
    "  \"concepts\": [\"hair typo\"],\n",
    "}\n",
    "\n",
    "response = (\n",
    "    client.query\n",
    "    .get(\"Event\", [\"event_id\", \"content\"])\n",
    "    .with_near_text(near_text_config)\n",
    "    .with_limit(100)\n",
    "    .with_additional([\"distance\", \"id\"])\n",
    "    .do()\n",
    ")\n",
    "\n",
    "result = response['data']['Get']['Event']\n",
    "# print(json.dumps(response, indent=4))"
   ]
  },
  {
   "cell_type": "code",
   "execution_count": null,
   "metadata": {},
   "outputs": [],
   "source": [
    "pubkey_value = \"eab0e756d32b80bcd464f3d844b8040303075a13eabc3599a762c9ac7ab91f4f\"\n",
    "\n",
    "query = \"\"\"\n",
    "{\n",
    "  Get {\n",
    "    Event(\n",
    "      where: {\n",
    "        path: [\"pubkey\"]\n",
    "        operator: Equal\n",
    "        valueString: \"%s\"\n",
    "      }\n",
    "      limit: 10000\n",
    "    ) {\n",
    "      event_id\n",
    "      created_at\n",
    "      pubkey\n",
    "      kind\n",
    "      content\n",
    "      _additional {\n",
    "        vector\n",
    "      }\n",
    "    }\n",
    "  }\n",
    "}\n",
    "\"\"\" % pubkey_value\n",
    "\n",
    "result = client.query.raw(query)\n",
    "events = result['data']['Get']['Event']"
   ]
  },
  {
   "cell_type": "code",
   "execution_count": null,
   "metadata": {},
   "outputs": [],
   "source": [
    "vectors = [event['_additional']['vector'] for event in events]\n",
    "vectors_array = np.array(vectors)\n",
    "mean_vector = np.mean(vectors_array, axis=0)\n",
    "\n",
    "# event_ids = [event['event_id'] for event in events]\n",
    "\n",
    "# # Create a DataFrame\n",
    "# df_vec = pd.DataFrame(vectors, index=event_ids, columns=[f'feature_{i}' for i in range(len(vectors[0]))])\n"
   ]
  },
  {
   "cell_type": "code",
   "execution_count": null,
   "metadata": {},
   "outputs": [],
   "source": [
    "mean_vector[:5]"
   ]
  },
  {
   "cell_type": "code",
   "execution_count": null,
   "metadata": {},
   "outputs": [],
   "source": [
    "response = (\n",
    "    client.query\n",
    "    .get(\"Event\", [\"question\"])\n",
    "    .do()\n",
    ")"
   ]
  },
  {
   "cell_type": "code",
   "execution_count": null,
   "metadata": {},
   "outputs": [],
   "source": [
    "def process_month(event_json):\n",
    "    date = datetime.fromtimestamp(event_json['created_at'])\n",
    "    month = date.strftime(\"%Y-%m\")\n",
    "    return month\n",
    "\n",
    "def process_date(event_json):\n",
    "    date = (\n",
    "        datetime.fromtimestamp(event_json['created_at'])\n",
    "        .strftime(\"%m-%d-%Y\")\n",
    "    )\n",
    "    return date\n",
    "\n",
    "def process_kind(event_json):\n",
    "    return event_json['kind']\n",
    "\n",
    "def process_db(process_fn):\n",
    "    env = lmdb.open(path=os.getenv(\"STRFRY_DB_FOLDER\"), max_dbs=10)\n",
    "    payload_db = env.open_db(b\"rasgueadb_defaultDb__EventPayload\")\n",
    "    id_db = env.open_db(b\"rasgueadb_defaultDb__Event__id\")\n",
    "    output_list = []\n",
    "\n",
    "    with env.begin(db=id_db) as txn:\n",
    "        cursor = txn.cursor(db=id_db)\n",
    "        for key, value in cursor:\n",
    "            pl = txn.get(value, db=payload_db)\n",
    "            if pl is None:\n",
    "                print(key, value)\n",
    "                continue\n",
    "            # event_hex = key.hex()[:64]  # event_id\n",
    "            event_json = json.loads(pl[1:].decode(\"utf-8\"))\n",
    "            output_list.append(process_fn(event_json))\n",
    "    return output_list"
   ]
  },
  {
   "cell_type": "code",
   "execution_count": null,
   "metadata": {},
   "outputs": [],
   "source": [
    "month_list = process_db(process_month)\n",
    "event_counts = pd.Series(month_list).value_counts().sort_index()\n",
    "fig = px.bar(event_counts, x=event_counts.index, y=event_counts.values, labels={'x': 'Month', 'y': 'Number of Events'})\n",
    "fig.update_layout(title='Number of Events by Month', xaxis_title='Month', yaxis_title='Number of Events')\n",
    "fig.show()"
   ]
  },
  {
   "cell_type": "code",
   "execution_count": null,
   "metadata": {},
   "outputs": [],
   "source": [
    "date_list = process_db(process_date)\n",
    "event_counts = pd.Series(date_list).value_counts().sort_index()\n",
    "fig = px.bar(event_counts, x=event_counts.index, y=event_counts.values, labels={'x': 'Date', 'y': 'Number of Events'})\n",
    "fig.update_layout(title='Number of Events by Date', xaxis_title='Date', yaxis_title='Number of Events')\n",
    "fig.show()"
   ]
  },
  {
   "cell_type": "code",
   "execution_count": null,
   "metadata": {},
   "outputs": [],
   "source": [
    "kind_list = process_db(process_kind)\n",
    "counts = pd.Series(kind_list).value_counts().sort_index()\n",
    "fig = px.bar(counts, x=list(map(str, counts.index)), y=counts.values, labels={'x': 'kind', 'y': 'Number of Events'})\n",
    "fig.update_layout(title='Number of Events by kind', xaxis_title='kind', yaxis_title='Number of Events')\n",
    "fig.show()\n",
    "# 1, 30023\n"
   ]
  },
  {
   "cell_type": "code",
   "execution_count": null,
   "metadata": {},
   "outputs": [],
   "source": [
    "start_time = datetime.now()\n",
    "print(\"Start time:\", start_time.strftime(\"%Y-%m-%d %H:%M:%S\"))\n",
    "\n",
    "end_time = datetime.now()\n",
    "print(\"End time:\", end_time.strftime(\"%Y-%m-%d %H:%M:%S\"))\n",
    "\n",
    "# Calculate and print the duration\n",
    "duration = end_time - start_time\n",
    "print(\"Duration:\", duration)"
   ]
  },
  {
   "cell_type": "code",
   "execution_count": null,
   "metadata": {},
   "outputs": [],
   "source": [
    "env = lmdb.open(path=os.getenv(\"STRFRY_DB_FOLDER\"), max_dbs=10)\n",
    "payload_db = env.open_db(b\"rasgueadb_defaultDb__EventPayload\")\n",
    "id_db = env.open_db(b\"rasgueadb_defaultDb__Event__id\")\n",
    "\n",
    "\n",
    "pubkey_counts = {}\n",
    "with env.begin(db=id_db) as txn:\n",
    "    with env.begin(db=payload_db) as tpl:\n",
    "        for key, value in txn.cursor():\n",
    "            pl = tpl.get(value)\n",
    "            if pl is None:\n",
    "                raise Exception(\"db corrupt!?\")\n",
    "            event_hex = key.hex()[:64]  # event_id\n",
    "            event_json = json.loads(pl[1:].decode(\"utf-8\"))  # event json\n",
    "            pubkey = event_json['pubkey']\n",
    "            if pubkey in pubkey_counts:\n",
    "                pubkey_counts[pubkey] += 1\n",
    "            else:\n",
    "                pubkey_counts[pubkey] = 1"
   ]
  },
  {
   "cell_type": "code",
   "execution_count": null,
   "metadata": {},
   "outputs": [],
   "source": [
    "top_pubkeys = sorted(pubkey_counts, key=pubkey_counts.get, reverse=True)[:5]\n",
    "\n",
    "for pubkey in top_pubkeys:\n",
    "    print(f\"PubKey: {pubkey}, Count: {pubkey_counts[pubkey]}\")"
   ]
  }
 ],
 "metadata": {
  "kernelspec": {
   "display_name": "Python 3",
   "language": "python",
   "name": "python3"
  },
  "language_info": {
   "codemirror_mode": {
    "name": "ipython",
    "version": 3
   },
   "file_extension": ".py",
   "mimetype": "text/x-python",
   "name": "python",
   "nbconvert_exporter": "python",
   "pygments_lexer": "ipython3",
   "version": "3.11.5"
  },
  "orig_nbformat": 4
 },
 "nbformat": 4,
 "nbformat_minor": 2
}
