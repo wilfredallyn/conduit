{
 "cells": [
  {
   "cell_type": "code",
   "execution_count": null,
   "metadata": {},
   "outputs": [],
   "source": [
    "%load_ext autoreload\n",
    "%autoreload 2"
   ]
  },
  {
   "cell_type": "code",
   "execution_count": null,
   "metadata": {},
   "outputs": [],
   "source": [
    "import lmdb\n",
    "import json\n",
    "from datetime import datetime, timezone\n",
    "import numpy as np\n",
    "import os\n",
    "import pandas as pd\n",
    "import plotly.express as px\n",
    "from sentence_transformers import SentenceTransformer\n",
    "import weaviate\n",
    "from dotenv import load_dotenv\n",
    "load_dotenv()\n",
    "\n",
    "client = weaviate.Client(\n",
    "    url=\"http://localhost:8080\",\n",
    ")\n"
   ]
  },
  {
   "cell_type": "code",
   "execution_count": null,
   "metadata": {},
   "outputs": [],
   "source": [
    "os.getenv(\"STRFRY_DB_FOLDER\")"
   ]
  },
  {
   "cell_type": "code",
   "execution_count": 48,
   "metadata": {},
   "outputs": [],
   "source": [
    "from purple_py.strfry import read_strfy_db, get_content_for_embeddings, query_db_for_record, create_weaviate_record"
   ]
  },
  {
   "cell_type": "code",
   "execution_count": 49,
   "metadata": {},
   "outputs": [],
   "source": [
    "# def vectorize_content\n",
    "process_output = {}\n",
    "process_output[\"event_id_list\"] = []\n",
    "process_output[\"content_list\"] = []\n",
    "\n",
    "process_output = read_strfy_db(\n",
    "    client,\n",
    "    process_fn=get_content_for_embeddings,\n",
    "    process_output=process_output,\n",
    ")\n",
    "embedding_model = SentenceTransformer('all-MiniLM-L6-v2')\n",
    "process_output[\"embedding_list\"] = embedding_model.encode(process_output[\"content_list\"])"
   ]
  },
  {
   "cell_type": "code",
   "execution_count": 50,
   "metadata": {},
   "outputs": [],
   "source": [
    "process_output[\"pubkey_dict\"] = {}\n",
    "process_output = query_db_for_record(\n",
    "    client=client,\n",
    "    process_fn=create_weaviate_record,\n",
    "    process_input=process_output,\n",
    ")"
   ]
  },
  {
   "cell_type": "code",
   "execution_count": null,
   "metadata": {},
   "outputs": [],
   "source": [
    "# def load_data_into_weaviate"
   ]
  },
  {
   "cell_type": "code",
   "execution_count": null,
   "metadata": {},
   "outputs": [],
   "source": [
    "len(event_id_list), len(content_list), len(embedding_list)"
   ]
  },
  {
   "cell_type": "code",
   "execution_count": 46,
   "metadata": {},
   "outputs": [],
   "source": [
    "\n",
    "user_class_obj = {\n",
    "    \"class\": \"User\",\n",
    "    \"description\": \"Users\",\n",
    "    \"vectorIndexType\": \"hnsw\",\n",
    "    \"vectorIndexConfig\": {\n",
    "        \"skip\": True,  # don't need to vector index users\n",
    "    },\n",
    "    \"properties\": [\n",
    "        { \"name\": \"pubkey\", \"dataType\": [\"text\"]},\n",
    "        { \"name\": \"name\", \"dataType\": [\"text\"]},\n",
    "        { \"name\": \"hasCreated\", \"dataType\": [\"Event\"]}  # cross-reference\n",
    "    ],\n",
    "    \"vectorizer\": None,\n",
    "}\n",
    "# client.schema.delete_class('User')\n",
    "client.schema.create_class(user_class_obj)"
   ]
  },
  {
   "cell_type": "code",
   "execution_count": 47,
   "metadata": {},
   "outputs": [],
   "source": [
    "event_class_obj = {\n",
    "    \"class\": \"Event\",\n",
    "    \"description\": \"Events\",\n",
    "    \"vectorIndexType\": \"hnsw\",\n",
    "    \"vectorIndexConfig\": {\n",
    "        \"distance\": \"cosine\",\n",
    "    },\n",
    "    \"invertedIndexConfig\": {\n",
    "        \"stopwords\": {\n",
    "            \"preset\": \"en\",\n",
    "        }\n",
    "    },\n",
    "    \"properties\": [\n",
    "        {\n",
    "            \"name\": \"event_id\",\n",
    "            \"dataType\": [\"text\"],\n",
    "            \"moduleConfig\": {\n",
    "                \"text2vec-transformers\": {\n",
    "                    \"skip\": True,\n",
    "                    \"vectorizePropertyName\": False\n",
    "                }\n",
    "            }\n",
    "        },\n",
    "        {\n",
    "            \"name\": \"created_at\",\n",
    "            \"dataType\": [\"date\"],\n",
    "            \"moduleConfig\": {\n",
    "                \"text2vec-transformers\": {\n",
    "                    \"skip\": True,\n",
    "                    \"vectorizePropertyName\": False\n",
    "                }\n",
    "            }\n",
    "        },\n",
    "        {\n",
    "            \"name\": \"pubkey\",\n",
    "            \"dataType\": [\"text\"],\n",
    "            \"moduleConfig\": {\n",
    "                \"text2vec-transformers\": {\n",
    "                    \"skip\": True,\n",
    "                    \"vectorizePropertyName\": False\n",
    "                }\n",
    "            }\n",
    "        },\n",
    "        {\n",
    "            \"name\": \"kind\",\n",
    "            \"dataType\": [\"int\"],\n",
    "            \"moduleConfig\": {\n",
    "                \"text2vec-transformers\": {\n",
    "                    \"skip\": True,\n",
    "                    \"vectorizePropertyName\": False\n",
    "                }\n",
    "            }\n",
    "        },\n",
    "        {\n",
    "            \"name\": \"content\",\n",
    "            \"dataType\": [\"text\"],\n",
    "            \"moduleConfig\": {\n",
    "                \"text2vec-transformers\": {\n",
    "                    \"skip\": False,\n",
    "                    \"vectorizePropertyName\": False\n",
    "                }\n",
    "            }\n",
    "        },\n",
    "        # tags\n",
    "    ],\n",
    "    \"vectorizer\": \"text2vec-transformers\",\n",
    "    'moduleConfig': {\n",
    "        'text2vec-transformers': {\n",
    "            'vectorizeClassName': False,\n",
    "        }\n",
    "    }\n",
    "}\n",
    "# client.schema.delete_class('Event')\n",
    "client.schema.create_class(event_class_obj)"
   ]
  },
  {
   "cell_type": "code",
   "execution_count": null,
   "metadata": {},
   "outputs": [],
   "source": [
    "# get event by event id\n",
    "# get all events for pubkey\n",
    "\n",
    "event_query = {\n",
    "  \"where\": {\n",
    "    \"operator\": \"Equal\",\n",
    "    \"path\": [\"event_id\"],\n",
    "    \"valueString\": event_id\n",
    "  }\n",
    "}\n",
    "\n",
    "event_response = (\n",
    "    client.query\n",
    "    .get(\"Event\", [\"created_at\", \"pubkey\", \"kind\"])\n",
    "    .with_where(event_query[\"where\"])\n",
    "    .do()\n",
    ")\n",
    "event = event_response['data']['Get']['Event']"
   ]
  },
  {
   "cell_type": "code",
   "execution_count": 61,
   "metadata": {},
   "outputs": [],
   "source": [
    "# get all events for pubkey\n",
    "pubkey = \"17538dc2a62769d09443f18c37cbe358fab5bbf981173542aa7c5ff171ed77c4\"  # elsat\n",
    "\n",
    "pubkey_query = {\n",
    "  \"where\": {\n",
    "    \"operator\": \"Equal\",\n",
    "    \"path\": [\"pubkey\"],\n",
    "    \"valueString\": pubkey\n",
    "  }\n",
    "}\n",
    "\n",
    "user_response = (\n",
    "    client.query\n",
    "    .get(\"User\", [\"pubkey\"])\n",
    "    # .get(\"User\", [\n",
    "    #     \"hasCreated { ... on Event { event_id created_at pubkey kind content } }\"\n",
    "    # ])\n",
    "    # .with_where(pubkey_query[\"where\"])\n",
    "    .do()\n",
    ")\n",
    "\n",
    "event_response = (\n",
    "    client.query\n",
    "    .get(\"Event\", [\"event_id\"])\n",
    "    # .get(\"User\", [\n",
    "    #     \"hasCreated { ... on Event { event_id created_at pubkey kind content } }\"\n",
    "    # ])\n",
    "    # .with_where(pubkey_query[\"where\"])\n",
    "    .do()\n",
    ")\n",
    "\n",
    "# Execute the query\n",
    "created_response = (\n",
    "    client.query\n",
    "    .get(\"User\", [\"pubkey\"])\n",
    "    .with_where(pubkey_query[\"where\"])\n",
    "    .do()\n",
    ")\n",
    "\n",
    "# Extracting the events associated with the user\n",
    "pubkey_events = user_response['data']['Get']['User']\n",
    "events_output = event_response['data']['Get']['Event']\n",
    "# for user in events:\n",
    "#     if 'hasCreated' in user and user['hasCreated'] is not None:\n",
    "#         for event in user['hasCreated']:\n",
    "#             print(event)\n"
   ]
  },
  {
   "cell_type": "code",
   "execution_count": 62,
   "metadata": {},
   "outputs": [
    {
     "data": {
      "text/plain": [
       "[{'event_id': '5ff7d82f23e955d99ba2af8437581b40702e0f9d2032c99e61e31e60cc744405'},\n",
       " {'event_id': '5278a6e4985a347292b8a7205e138717bf96076ad9648abbce39250fa0022b80'},\n",
       " {'event_id': 'bd869ae8d06aeb9f77b29e455943ed26c4b64371265a15300d293db9a9159570'},\n",
       " {'event_id': '0c1ba6625193064d45b9230ec86a3ad3f36df279ccf23516096b904466585a3e'},\n",
       " {'event_id': '0a04e4db3914a9e620c727d37f6650310c37bbf1c45089134c3c892205bd0909'},\n",
       " {'event_id': 'fbfbb399f00d311995181943a51d63dbb7fc1af1b304c56ce714538df54af4b8'},\n",
       " {'event_id': 'a4869cc73fd6c23323489bb3cb2b3aee90179a08c42c81779d7825ca68ffc07c'},\n",
       " {'event_id': '4e9967d462e6000bc08867fe8d1dfc87fda08e2a3db131efaa817fa53e9c8656'},\n",
       " {'event_id': '2e692ef1a5f7b404d946ad549e909c57c1b5e300f653e0cfafd5837830c0ea48'},\n",
       " {'event_id': 'b734b4ddd66c2cc1ba785dceb68623a7706bb6f63c0b6b5252d92ab3bf631fb6'},\n",
       " {'event_id': '5d573e4f97ae6b28748d25889c9a281fb294f58918b7c16cf9ffedd6f34564e1'},\n",
       " {'event_id': '1ca89f65cdc9314560c343684aa2bf5f04f5ae0546efcfe0e00498bad514a7f6'},\n",
       " {'event_id': 'c576e378c9bd037a6c3a3b47d2e656d3c49aef14dbab3359381f7c65ba753b68'},\n",
       " {'event_id': 'f6fd9b12d9c696b18fa21ba7f17b8b9df5ca7cdc6767101c69d63c772bb1015d'},\n",
       " {'event_id': '9b7325ddb9c967af822befe69c3f680b2dcca927998fff88694f1f04e9dc3031'},\n",
       " {'event_id': '330ecbe1de20c372ff0ba3ffa4b690d51fb43bc35c47df050d6f563657d83c2f'}]"
      ]
     },
     "execution_count": 62,
     "metadata": {},
     "output_type": "execute_result"
    }
   ],
   "source": [
    "events_output"
   ]
  },
  {
   "cell_type": "code",
   "execution_count": 54,
   "metadata": {},
   "outputs": [
    {
     "data": {
      "text/plain": [
       "[{'pubkey': 'f3f5992cdb39e6108768d543fbd384a11efc3713085617ee28932ebb1614e07c'},\n",
       " {'pubkey': '7dc1677112f05eaf49547806543b1c006ce3257278e52b1c9abff63270ed704f'},\n",
       " {'pubkey': 'fcf70a45cfa817eaa813b9ba8a375d713d3169f4a27f3dcac3d49112df67d37e'},\n",
       " {'pubkey': '6b0a60cff3eca5a2b2505ccb3f7133d8422045cbef40f3d2c6189fb0b952e7d4'},\n",
       " {'pubkey': 'fb7d9edb022881ac80da6369832f67e300f06d8524a2a55d1aa88aed51b481ba'},\n",
       " {'pubkey': '6e75f7972397ca3295e0f4ca0fbc6eb9cc79be85bafdd56bd378220ca8eee74e'},\n",
       " {'pubkey': 'a96a35a224402b8075c4da20f0477896afcc3395b6fad63e30a648a8222a6a69'},\n",
       " {'pubkey': '7d33ba57d8a6e8869a1f1d5215254597594ac0dbfeb01b690def8c461b82db35'},\n",
       " {'pubkey': 'eb119234c467ac9d2ffea5b7284f3a74bd04287a12cfd58a22d19626434cddf2'},\n",
       " {'pubkey': 'bf95e1a45bd5ec5ca0d420f4f55cd01645c7849f57fdd13b8c5afec4ebdcc848'},\n",
       " {'pubkey': '2edbcea694d164629854a52583458fd6d965b161e3c48b57d3aff01940558884'},\n",
       " {'pubkey': 'fe200a4937fbf805c079fe967bc80799f0321822a048a7150ddeae12f3c49a48'},\n",
       " {'pubkey': 'fea400befeb5bf115b16575e2176bfbd8fb8ab9985ac170adb402bf8c89b9d0a'},\n",
       " {'pubkey': '50c5c98ccc31ca9f1ef56a547afc4cb48195fe5603d4f7874a221db965867c8e'},\n",
       " {'pubkey': '58edc6ae61f49115ec95808fbc8768851cd358a6566085c154da2c4ce070cfa5'}]"
      ]
     },
     "execution_count": 54,
     "metadata": {},
     "output_type": "execute_result"
    }
   ],
   "source": [
    "pubkey_events"
   ]
  },
  {
   "cell_type": "code",
   "execution_count": null,
   "metadata": {},
   "outputs": [],
   "source": [
    "strfry_path = os.getenv(\"STRFRY_DB_FOLDER\")\n",
    "batch_size = os.getenv(\"WEAVIATE_CLIENT_BATCH_SIZE\")\n",
    "batch_size = int(batch_size) if batch_size else 1000\n",
    "min_content_length = os.getenv(\"MIN_CONTENT_LENGTH\")\n",
    "min_content_length = int(min_content_length) if min_content_length else 50\n",
    "min_num_events = os.getenv(\"MIN_NUM_EVENTS\")\n",
    "min_num_events = int(min_num_events) if min_num_events else 5\n",
    "\n",
    "page_limit = 1000"
   ]
  },
  {
   "cell_type": "code",
   "execution_count": null,
   "metadata": {},
   "outputs": [],
   "source": [
    "# 1st pass: get all content > min_length, get embeddings\n",
    "start_time = datetime.now()\n",
    "print(\"Start time:\", start_time.strftime(\"%Y-%m-%d %H:%M:%S\"))\n",
    "\n",
    "env = lmdb.open(path=strfry_path, max_dbs=10)\n",
    "payload_db = env.open_db(b\"rasgueadb_defaultDb__EventPayload\")\n",
    "id_db = env.open_db(b\"rasgueadb_defaultDb__Event__id\")\n",
    "\n",
    "# record_count = 0\n",
    "# pubkey_dict = {}\n",
    "# event_dict = {}\n",
    "\n",
    "text_kinds = [1, 31922, 31923]\n",
    "content_list = []\n",
    "event_id_list = []\n",
    "client.batch.configure(batch_size=batch_size)\n",
    "with client.batch as batch:\n",
    "    with env.begin(db=id_db) as txn:\n",
    "        cursor = txn.cursor(db=id_db)\n",
    "        for key, value in cursor:\n",
    "            pl = txn.get(value, db=payload_db)\n",
    "            if pl is None:\n",
    "                print(key, value)\n",
    "                continue\n",
    "            event_hex = key.hex()[:64]  # event_id\n",
    "            event_json = json.loads(pl[1:].decode(\"utf-8\"))\n",
    "            if \"content\" not in event_json or len(event_json['content']) < min_content_length:\n",
    "                continue\n",
    "            if event_json[\"kind\"] in text_kinds:\n",
    "                event_id = event_json[\"id\"]\n",
    "                content = event_json['content']\n",
    "                if event_id not in event_id_list:\n",
    "                    content_list.append(content)\n",
    "                    event_id_list.append(event_id)\n",
    "end_time = datetime.now()\n",
    "print(\"End time:\", end_time.strftime(\"%Y-%m-%d %H:%M:%S\"))\n",
    "\n",
    "# Calculate and print the duration\n",
    "duration = end_time - start_time\n",
    "print(\"Duration:\", duration)\n"
   ]
  },
  {
   "cell_type": "code",
   "execution_count": null,
   "metadata": {},
   "outputs": [],
   "source": [
    "len(event_id_list), len(content_list)"
   ]
  },
  {
   "cell_type": "code",
   "execution_count": null,
   "metadata": {},
   "outputs": [],
   "source": [
    "len(event_id_list), len(content_list)"
   ]
  },
  {
   "cell_type": "code",
   "execution_count": null,
   "metadata": {},
   "outputs": [],
   "source": [
    "embedding_model = SentenceTransformer('all-MiniLM-L6-v2')\n",
    "embedding_list = embedding_model.encode(content_list)"
   ]
  },
  {
   "cell_type": "code",
   "execution_count": null,
   "metadata": {},
   "outputs": [],
   "source": [
    "# 2nd pass: load events and users by querying events\n",
    "start_time = datetime.now()\n",
    "print(\"Start time:\", start_time.strftime(\"%Y-%m-%d %H:%M:%S\"))\n",
    "\n",
    "env = lmdb.open(path=strfry_path, max_dbs=10)\n",
    "payload_db = env.open_db(b\"rasgueadb_defaultDb__EventPayload\")\n",
    "id_db = env.open_db(b\"rasgueadb_defaultDb__Event__id\")\n",
    "\n",
    "record_count = 0\n",
    "text_kinds = [1, 31922, 31923]\n",
    "pubkey_dict = {}\n",
    "client.batch.configure(batch_size=batch_size)\n",
    "\n",
    "with client.batch as batch:\n",
    "    with env.begin(db=id_db) as txn:\n",
    "        # for event_id, embedding in zip(event_id_list, embedding_list):\n",
    "        for event_id in event_id_list:\n",
    "            db_key = bytes.fromhex(event_id)\n",
    "            cur = txn.cursor()\n",
    "            cur.set_range(db_key)\n",
    "            k, v = cur.item()\n",
    "            if k[:32] == event_id:\n",
    "                pl = tpl.get(v)\n",
    "                if pl:\n",
    "                    ev = pl[1:].decode('utf-8')\n",
    "            \n",
    "            value = txn.get(db_key, db=id_db)\n",
    "            if value is None:\n",
    "                print(\"Event ID not found:\", event_id)\n",
    "                continue\n",
    "            pl = txn.get(value, db=payload_db)\n",
    "            if pl is None:\n",
    "                print(\"No payload for event ID:\", event_id)\n",
    "                continue\n",
    "\n",
    "            event_json = json.loads(pl[1:].decode(\"utf-8\"))\n",
    "            pubkey = event_json[\"pubkey\"]\n",
    "            dt_utc = datetime.fromtimestamp(event_json[\"created_at\"], timezone.utc)\n",
    "            event_properties = {\n",
    "                \"event_id\": event_id,\n",
    "                \"created_at\": dt_utc.isoformat(),\n",
    "                \"pubkey\": pubkey,\n",
    "                \"kind\": event_json[\"kind\"],\n",
    "                \"content\": event_json[\"content\"],\n",
    "            }\n",
    "            batch.add_data_object(\n",
    "                data_object=event_properties,\n",
    "                class_name=\"Event\",\n",
    "                # vector=embedding,\n",
    "            )\n",
    "            if pubkey not in pubkey_dict:\n",
    "                pubkey_dict[pubkey] = None\n",
    "                user_properties = { \"pubkey\": pubkey,} \n",
    "                batch.add_data_object(\n",
    "                    data_object=user_properties,\n",
    "                    class_name=\"User\",\n",
    "                )\n",
    "            break\n",
    "end_time = datetime.now()\n",
    "duration = end_time - start_time\n",
    "print(\"End time:\", end_time.strftime(\"%Y-%m-%d %H:%M:%S\"))\n",
    "print(\"Duration:\", duration)\n"
   ]
  },
  {
   "cell_type": "code",
   "execution_count": null,
   "metadata": {},
   "outputs": [],
   "source": [
    "db_key"
   ]
  },
  {
   "cell_type": "code",
   "execution_count": null,
   "metadata": {},
   "outputs": [],
   "source": [
    "# 1st pass: get all content > min_length, get embeddings\n",
    "content_list = []\n",
    "event_id_list = []\n",
    "offset = 0\n",
    "while True:\n",
    "    events_response = client.query.get(\n",
    "        \"Event\",\n",
    "        [\"event_id\", \"content\"]\n",
    "        # [\"event_id\", \"content\", \"_additional { id }\"]\n",
    "    ).with_limit(page_limit).with_offset(offset).do()\n",
    "\n",
    "    events = events_response[\"data\"][\"Get\"][\"Event\"]\n",
    "    if events is None:\n",
    "        break\n",
    "    for event in events:\n",
    "        event['event_id']\n",
    "        content = event['content']\n",
    "        if len(content) > min_content_length:\n",
    "            content_list.append(event['content'])\n",
    "            event_id_list.append(event['event_id'])\n",
    "    if len(events) < page_limit:\n",
    "        break\n",
    "    offset += page_limit"
   ]
  },
  {
   "cell_type": "code",
   "execution_count": null,
   "metadata": {},
   "outputs": [],
   "source": [
    "# 2nd pass: load events and users\n",
    "start_time = datetime.now()\n",
    "print(\"Start time:\", start_time.strftime(\"%Y-%m-%d %H:%M:%S\"))\n",
    "\n",
    "env = lmdb.open(path=strfry_path, max_dbs=10)\n",
    "payload_db = env.open_db(b\"rasgueadb_defaultDb__EventPayload\")\n",
    "id_db = env.open_db(b\"rasgueadb_defaultDb__Event__id\")\n",
    "\n",
    "record_count = 0\n",
    "text_kinds = [1, 31922, 31923]\n",
    "pubkey_dict = {}\n",
    "event_dict = {}\n",
    "content_list = []\n",
    "event_id_list = []\n",
    "client.batch.configure(batch_size=batch_size)\n",
    "with client.batch as batch:\n",
    "    with env.begin(db=id_db) as txn:\n",
    "        cursor = txn.cursor(db=id_db)\n",
    "        for key, value in cursor:\n",
    "            pl = txn.get(value, db=payload_db)\n",
    "            if pl is None:\n",
    "                print(key, value)\n",
    "                continue\n",
    "            event_hex = key.hex()[:64]  # event_id\n",
    "            event_json = json.loads(pl[1:].decode(\"utf-8\"))\n",
    "            if \"content\" not in event_json or len(event_json['content']) < min_content_length:\n",
    "                continue\n",
    "            if event_json[\"kind\"] in text_kinds:\n",
    "                pubkey = event_json[\"pubkey\"]\n",
    "                event_id = event_json[\"id\"]\n",
    "                content = event_json['content']\n",
    "\n",
    "                if event_id not in event_id_list:\n",
    "                    content_list.append(content)\n",
    "                    event_id_list.append(event_id)\n",
    "            \n",
    "                    event_properties = {\n",
    "                        \"event_id\": event_id,\n",
    "                        \"created_at\": event_json[\"created_at\"],\n",
    "                        \"pubkey\": pubkey,\n",
    "                        \"kind\": event_json[\"kind\"],\n",
    "                        \"content\": event_json[\"content\"],\n",
    "                    }\n",
    "                    batch.add_data_object(\n",
    "                        data_object=event_properties,\n",
    "                        class_name=\"Event\",\n",
    "                        #vector=emb,\n",
    "                    )\n",
    "                    if pubkey not in pubkey_dict:\n",
    "                        pubkey_dict[pubkey] = None\n",
    "                        user_properties = {\n",
    "                            \"pubkey\": pubkey,\n",
    "                        }\n",
    "                        batch.add_data_object(\n",
    "                            data_object=user_properties,\n",
    "                            class_name=\"User\",\n",
    "                        )\n",
    "# embeddings = embedding_model.encode(content_list)\n",
    "\n",
    "\n",
    "end_time = datetime.now()\n",
    "print(\"End time:\", end_time.strftime(\"%Y-%m-%d %H:%M:%S\"))\n",
    "\n",
    "# Calculate and print the duration\n",
    "duration = end_time - start_time\n",
    "print(\"Duration:\", duration)\n"
   ]
  },
  {
   "cell_type": "code",
   "execution_count": null,
   "metadata": {},
   "outputs": [],
   "source": [
    "# create cross-reference\n",
    "\n",
    "start_time = datetime.now()\n",
    "print(\"Start time:\", start_time.strftime(\"%Y-%m-%d %H:%M:%S\"))\n",
    "\n",
    "\n",
    "offset = 0\n",
    "user_uuids_dict = {}\n",
    "with client.batch as batch:\n",
    "    while True:\n",
    "        events_response = client.query.get(\n",
    "            \"Event\",\n",
    "            [\"event_id\", \"content\", \"pubkey\", \"_additional { id }\"]\n",
    "        ).with_limit(page_limit).with_offset(offset).do()\n",
    "\n",
    "        events = events_response[\"data\"][\"Get\"][\"Event\"]\n",
    "        if not events:\n",
    "            break\n",
    "        for event in events:\n",
    "            pubkey = event[\"pubkey\"]\n",
    "            user_uuid = user_uuids_dict.get(pubkey)\n",
    "\n",
    "            if not user_uuid:\n",
    "                pubkey_query = {\n",
    "                    \"where\": {\n",
    "                        \"operator\": \"Equal\",\n",
    "                        \"path\": [\"pubkey\"],\n",
    "                        \"valueString\": pubkey\n",
    "                    }\n",
    "                }\n",
    "\n",
    "                user_response = (\n",
    "                    client.query\n",
    "                    .get(\"User\", [\"_additional { id }\"])\n",
    "                    .with_where(pubkey_query[\"where\"])\n",
    "                    .do()\n",
    "                )\n",
    "                if user_response[\"data\"][\"Get\"][\"User\"]:\n",
    "                    user_uuid = user_response[\"data\"][\"Get\"][\"User\"][0][\"_additional\"][\"id\"]\n",
    "                    user_uuids_dict[pubkey] = user_uuid\n",
    "\n",
    "            if user_uuid:\n",
    "                batch.add_reference(\n",
    "                    from_object_uuid=user_uuid,\n",
    "                    from_object_class_name=\"User\",\n",
    "                    from_property_name=\"hasCreated\",\n",
    "                    to_object_uuid=event[\"_additional\"][\"id\"],\n",
    "                    to_object_class_name=\"Event\"\n",
    "                )\n",
    "        if len(events) < page_limit:\n",
    "            break\n",
    "        offset += page_limit\n",
    "\n",
    "end_time = datetime.now()\n",
    "print(\"End time:\", end_time.strftime(\"%Y-%m-%d %H:%M:%S\"))\n",
    "\n",
    "# Calculate and print the duration\n",
    "duration = end_time - start_time\n",
    "print(\"Duration:\", duration)\n"
   ]
  },
  {
   "cell_type": "code",
   "execution_count": null,
   "metadata": {},
   "outputs": [],
   "source": [
    "users = client.query.get(\"User\", [\"name\", \"pubkey\", \"hasCreated\"]).do()\n",
    "for user in users[\"data\"][\"Get\"][\"User\"]:\n",
    "    print(f\"User: {user['name']} has created events: {user['hasCreated']}\")\n"
   ]
  },
  {
   "cell_type": "code",
   "execution_count": null,
   "metadata": {},
   "outputs": [],
   "source": [
    "users"
   ]
  },
  {
   "cell_type": "code",
   "execution_count": null,
   "metadata": {},
   "outputs": [],
   "source": [
    "event[\"_additional\"][\"id\"]"
   ]
  },
  {
   "cell_type": "code",
   "execution_count": null,
   "metadata": {},
   "outputs": [],
   "source": [
    "user_response[\"data\"][\"Get\"][\"User\"][:5]"
   ]
  },
  {
   "cell_type": "code",
   "execution_count": null,
   "metadata": {},
   "outputs": [],
   "source": [
    "events"
   ]
  },
  {
   "cell_type": "code",
   "execution_count": null,
   "metadata": {},
   "outputs": [],
   "source": [
    "embeddings = embedding_model.encode(content_list)"
   ]
  },
  {
   "cell_type": "code",
   "execution_count": null,
   "metadata": {},
   "outputs": [],
   "source": [
    "embeddings[0]"
   ]
  },
  {
   "cell_type": "code",
   "execution_count": null,
   "metadata": {},
   "outputs": [],
   "source": [
    "len(embeddings)"
   ]
  },
  {
   "cell_type": "code",
   "execution_count": null,
   "metadata": {},
   "outputs": [],
   "source": [
    "len(content_list), len(event_id_list)"
   ]
  },
  {
   "cell_type": "code",
   "execution_count": null,
   "metadata": {},
   "outputs": [],
   "source": [
    "# query pubkeys with > 5 events\n",
    "offset = 0\n",
    "event_counts = {}\n",
    "while True:\n",
    "    events_response = client.query.get(\n",
    "        \"Event\",\n",
    "        # [\"event_id\", \"content\", \"pubkey\"]\n",
    "        [\"event_id\", \"content\", \"pubkey\", \"_additional { id }\"]\n",
    "    ).with_limit(page_limit).with_offset(offset).do()\n",
    "\n",
    "    events = events_response[\"data\"][\"Get\"][\"Event\"]\n",
    "    if events is None:\n",
    "        break\n",
    "    for event in events:\n",
    "        if len(event['content']) > min_content_length:\n",
    "            pubkey = event['pubkey']\n",
    "            event_counts[pubkey] = event_counts.get(pubkey, 0) + 1\n",
    "    if len(events) < page_limit:\n",
    "        break\n",
    "    offset += page_limit\n",
    "\n",
    "pubkeys_with_events = [\n",
    "    pubkey for pubkey, count in event_counts.items() if count >= min_num_events\n",
    "]\n",
    "\n",
    "print(pubkeys_with_events)\n"
   ]
  },
  {
   "cell_type": "code",
   "execution_count": null,
   "metadata": {},
   "outputs": [],
   "source": [
    "events = events_response[\"data\"][\"Get\"][\"Event\"]\n",
    "events[0]"
   ]
  },
  {
   "cell_type": "code",
   "execution_count": null,
   "metadata": {},
   "outputs": [],
   "source": [
    "response = (\n",
    "    client.query\n",
    "    .get(\"Event\", [\"event_id\", \"pubkey\", \"kind\", \"content\"])\n",
    "    .with_limit(1)\n",
    "    # .with_additional(\"vector\")\n",
    "    .with_additional([\"distance\", \"id\"])\n",
    "    .do()\n",
    ")\n",
    "print(json.dumps(response, indent=4))"
   ]
  },
  {
   "cell_type": "code",
   "execution_count": null,
   "metadata": {},
   "outputs": [],
   "source": [
    "response = (\n",
    "    client.query\n",
    "    .aggregate(\"Event\")\n",
    "    .with_meta_count()\n",
    "    .do()\n",
    ")\n",
    "\n",
    "print(json.dumps(response, indent=2))"
   ]
  },
  {
   "cell_type": "code",
   "execution_count": null,
   "metadata": {},
   "outputs": [],
   "source": [
    "near_text_config = {\n",
    "  \"concepts\": [\"hair typo\"],\n",
    "}\n",
    "\n",
    "response = (\n",
    "    client.query\n",
    "    .get(\"Event\", [\"event_id\", \"content\"])\n",
    "    .with_near_text(near_text_config)\n",
    "    .with_limit(100)\n",
    "    .with_additional([\"distance\", \"id\"])\n",
    "    .do()\n",
    ")\n",
    "\n",
    "result = response['data']['Get']['Event']\n",
    "# print(json.dumps(response, indent=4))"
   ]
  },
  {
   "cell_type": "code",
   "execution_count": null,
   "metadata": {},
   "outputs": [],
   "source": [
    "pubkey_value = \"eab0e756d32b80bcd464f3d844b8040303075a13eabc3599a762c9ac7ab91f4f\"\n",
    "\n",
    "query = \"\"\"\n",
    "{\n",
    "  Get {\n",
    "    Event(\n",
    "      where: {\n",
    "        path: [\"pubkey\"]\n",
    "        operator: Equal\n",
    "        valueString: \"%s\"\n",
    "      }\n",
    "      limit: 10000\n",
    "    ) {\n",
    "      event_id\n",
    "      created_at\n",
    "      pubkey\n",
    "      kind\n",
    "      content\n",
    "      _additional {\n",
    "        vector\n",
    "      }\n",
    "    }\n",
    "  }\n",
    "}\n",
    "\"\"\" % pubkey_value\n",
    "\n",
    "result = client.query.raw(query)\n",
    "events = result['data']['Get']['Event']"
   ]
  },
  {
   "cell_type": "code",
   "execution_count": null,
   "metadata": {},
   "outputs": [],
   "source": [
    "vectors = [event['_additional']['vector'] for event in events]\n",
    "vectors_array = np.array(vectors)\n",
    "mean_vector = np.mean(vectors_array, axis=0)\n",
    "\n",
    "# event_ids = [event['event_id'] for event in events]\n",
    "\n",
    "# # Create a DataFrame\n",
    "# df_vec = pd.DataFrame(vectors, index=event_ids, columns=[f'feature_{i}' for i in range(len(vectors[0]))])\n"
   ]
  },
  {
   "cell_type": "code",
   "execution_count": null,
   "metadata": {},
   "outputs": [],
   "source": [
    "mean_vector[:5]"
   ]
  },
  {
   "cell_type": "code",
   "execution_count": null,
   "metadata": {},
   "outputs": [],
   "source": [
    "response = (\n",
    "    client.query\n",
    "    .get(\"Event\", [\"question\"])\n",
    "    .do()\n",
    ")"
   ]
  },
  {
   "cell_type": "code",
   "execution_count": null,
   "metadata": {},
   "outputs": [],
   "source": [
    "def process_month(event_json):\n",
    "    date = datetime.fromtimestamp(event_json['created_at'])\n",
    "    month = date.strftime(\"%Y-%m\")\n",
    "    return month\n",
    "\n",
    "def process_date(event_json):\n",
    "    date = (\n",
    "        datetime.fromtimestamp(event_json['created_at'])\n",
    "        .strftime(\"%m-%d-%Y\")\n",
    "    )\n",
    "    return date\n",
    "\n",
    "def process_kind(event_json):\n",
    "    return event_json['kind']\n",
    "\n",
    "def process_db(process_fn):\n",
    "    env = lmdb.open(path=os.getenv(\"STRFRY_DB_FOLDER\"), max_dbs=10)\n",
    "    payload_db = env.open_db(b\"rasgueadb_defaultDb__EventPayload\")\n",
    "    id_db = env.open_db(b\"rasgueadb_defaultDb__Event__id\")\n",
    "    output_list = []\n",
    "\n",
    "    with env.begin(db=id_db) as txn:\n",
    "        cursor = txn.cursor(db=id_db)\n",
    "        for key, value in cursor:\n",
    "            pl = txn.get(value, db=payload_db)\n",
    "            if pl is None:\n",
    "                print(key, value)\n",
    "                continue\n",
    "            # event_hex = key.hex()[:64]  # event_id\n",
    "            event_json = json.loads(pl[1:].decode(\"utf-8\"))\n",
    "            output_list.append(process_fn(event_json))\n",
    "    return output_list"
   ]
  },
  {
   "cell_type": "code",
   "execution_count": null,
   "metadata": {},
   "outputs": [],
   "source": [
    "month_list = process_db(process_month)\n",
    "event_counts = pd.Series(month_list).value_counts().sort_index()\n",
    "fig = px.bar(event_counts, x=event_counts.index, y=event_counts.values, labels={'x': 'Month', 'y': 'Number of Events'})\n",
    "fig.update_layout(title='Number of Events by Month', xaxis_title='Month', yaxis_title='Number of Events')\n",
    "fig.show()"
   ]
  },
  {
   "cell_type": "code",
   "execution_count": null,
   "metadata": {},
   "outputs": [],
   "source": [
    "date_list = process_db(process_date)\n",
    "event_counts = pd.Series(date_list).value_counts().sort_index()\n",
    "fig = px.bar(event_counts, x=event_counts.index, y=event_counts.values, labels={'x': 'Date', 'y': 'Number of Events'})\n",
    "fig.update_layout(title='Number of Events by Date', xaxis_title='Date', yaxis_title='Number of Events')\n",
    "fig.show()"
   ]
  },
  {
   "cell_type": "code",
   "execution_count": null,
   "metadata": {},
   "outputs": [],
   "source": [
    "kind_list = process_db(process_kind)\n",
    "counts = pd.Series(kind_list).value_counts().sort_index()\n",
    "fig = px.bar(counts, x=list(map(str, counts.index)), y=counts.values, labels={'x': 'kind', 'y': 'Number of Events'})\n",
    "fig.update_layout(title='Number of Events by kind', xaxis_title='kind', yaxis_title='Number of Events')\n",
    "fig.show()\n",
    "# 1, 30023\n"
   ]
  },
  {
   "cell_type": "code",
   "execution_count": null,
   "metadata": {},
   "outputs": [],
   "source": [
    "start_time = datetime.now()\n",
    "print(\"Start time:\", start_time.strftime(\"%Y-%m-%d %H:%M:%S\"))\n",
    "\n",
    "end_time = datetime.now()\n",
    "print(\"End time:\", end_time.strftime(\"%Y-%m-%d %H:%M:%S\"))\n",
    "\n",
    "# Calculate and print the duration\n",
    "duration = end_time - start_time\n",
    "print(\"Duration:\", duration)"
   ]
  },
  {
   "cell_type": "code",
   "execution_count": null,
   "metadata": {},
   "outputs": [],
   "source": [
    "env = lmdb.open(path=os.getenv(\"STRFRY_DB_FOLDER\"), max_dbs=10)\n",
    "payload_db = env.open_db(b\"rasgueadb_defaultDb__EventPayload\")\n",
    "id_db = env.open_db(b\"rasgueadb_defaultDb__Event__id\")\n",
    "\n",
    "\n",
    "pubkey_counts = {}\n",
    "with env.begin(db=id_db) as txn:\n",
    "    with env.begin(db=payload_db) as tpl:\n",
    "        for key, value in txn.cursor():\n",
    "            pl = tpl.get(value)\n",
    "            if pl is None:\n",
    "                raise Exception(\"db corrupt!?\")\n",
    "            event_hex = key.hex()[:64]  # event_id\n",
    "            event_json = json.loads(pl[1:].decode(\"utf-8\"))  # event json\n",
    "            pubkey = event_json['pubkey']\n",
    "            if pubkey in pubkey_counts:\n",
    "                pubkey_counts[pubkey] += 1\n",
    "            else:\n",
    "                pubkey_counts[pubkey] = 1"
   ]
  },
  {
   "cell_type": "code",
   "execution_count": null,
   "metadata": {},
   "outputs": [],
   "source": [
    "top_pubkeys = sorted(pubkey_counts, key=pubkey_counts.get, reverse=True)[:5]\n",
    "\n",
    "for pubkey in top_pubkeys:\n",
    "    print(f\"PubKey: {pubkey}, Count: {pubkey_counts[pubkey]}\")"
   ]
  }
 ],
 "metadata": {
  "kernelspec": {
   "display_name": "Python 3",
   "language": "python",
   "name": "python3"
  },
  "language_info": {
   "codemirror_mode": {
    "name": "ipython",
    "version": 3
   },
   "file_extension": ".py",
   "mimetype": "text/x-python",
   "name": "python",
   "nbconvert_exporter": "python",
   "pygments_lexer": "ipython3",
   "version": "3.11.5"
  },
  "orig_nbformat": 4
 },
 "nbformat": 4,
 "nbformat_minor": 2
}
