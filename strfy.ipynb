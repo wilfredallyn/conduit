{
 "cells": [
  {
   "cell_type": "code",
   "execution_count": null,
   "metadata": {},
   "outputs": [],
   "source": [
    "%load_ext autoreload\n",
    "%autoreload 2"
   ]
  },
  {
   "cell_type": "code",
   "execution_count": null,
   "metadata": {},
   "outputs": [],
   "source": [
    "import lmdb\n",
    "import json\n",
    "from datetime import datetime, timezone\n",
    "import numpy as np\n",
    "import os\n",
    "import pandas as pd\n",
    "import plotly.express as px\n",
    "from purple_py.log import logger\n",
    "from purple_py.db import (\n",
    "    load_events_into_weaviate,\n",
    "    load_neo4j_data,\n",
    "    create_weaviate_user_class,\n",
    "    create_weaviate_event_class,\n",
    "    add_npub_mean_vec,\n",
    "    get_summary_text,\n",
    ")\n",
    "from purple_py.embed import get_mean_vectors\n",
    "from purple_py.query import query_weaviate, search_weaviate, filter_users, get_user_uuid\n",
    "from purple_py.utils import parse_datetime, parse_datetime_str\n",
    "from sentence_transformers import SentenceTransformer\n",
    "import weaviate\n",
    "from nostr_sdk import Keys, Client, Filter, Options, PublicKey, Timestamp\n",
    "from dotenv import load_dotenv\n",
    "load_dotenv()\n",
    "from purple_py.parse import parse_event_json\n",
    "from purple_py.utils import get_event_bech, get_npub\n",
    "\n",
    "client = weaviate.Client(\n",
    "    url=\"http://localhost:8080\",\n",
    ")\n"
   ]
  },
  {
   "cell_type": "code",
   "execution_count": null,
   "metadata": {},
   "outputs": [],
   "source": [
    "response = (\n",
    "    client.query\n",
    "    .aggregate(\"Event\")\n",
    "    .with_group_by_filter([\"kind\"])\n",
    "    .with_fields(\"groupedBy { value }\")\n",
    "    .with_meta_count()\n",
    "    .do()\n",
    ")"
   ]
  },
  {
   "cell_type": "code",
   "execution_count": null,
   "metadata": {},
   "outputs": [],
   "source": [
    "response"
   ]
  },
  {
   "cell_type": "code",
   "execution_count": null,
   "metadata": {},
   "outputs": [],
   "source": [
    "response = (\n",
    "    client.query\n",
    "    .aggregate(\"Event\")\n",
    "    .with_group_by_filter([\"kind\"])\n",
    "    .with_fields(\"groupedBy { value }\")\n",
    "    .with_meta_count()\n",
    "    .do()\n",
    ")\n",
    "events = response['data']['Aggregate']['Event']\n",
    "kind_count_list = [{'kind': event['groupedBy']['value'], 'count': event['meta']['count']} for event in events]\n",
    "\n",
    "df = pd.DataFrame(kind_count_list)"
   ]
  },
  {
   "cell_type": "code",
   "execution_count": null,
   "metadata": {},
   "outputs": [],
   "source": [
    "output = query_weaviate(client, kind=31923)"
   ]
  },
  {
   "cell_type": "code",
   "execution_count": null,
   "metadata": {},
   "outputs": [],
   "source": [
    "len(output)"
   ]
  },
  {
   "cell_type": "code",
   "execution_count": null,
   "metadata": {},
   "outputs": [],
   "source": [
    "response"
   ]
  },
  {
   "cell_type": "code",
   "execution_count": null,
   "metadata": {},
   "outputs": [],
   "source": [
    "created_at_list = get_summary_text(client)"
   ]
  },
  {
   "cell_type": "code",
   "execution_count": null,
   "metadata": {},
   "outputs": [],
   "source": [
    "datetime.utcfromtimestamp(int(np.percentile(created_at_list, 25))), datetime.utcfromtimestamp(int(np.percentile(created_at_list, 75)))"
   ]
  },
  {
   "cell_type": "code",
   "execution_count": null,
   "metadata": {},
   "outputs": [],
   "source": [
    "np.percentile(dates, 25)"
   ]
  },
  {
   "cell_type": "code",
   "execution_count": null,
   "metadata": {},
   "outputs": [],
   "source": [
    "dates = [datetime.utcfromtimestamp(ts) for ts in created_at_list]\n",
    "lower_date = np.percentile(dates, 25))\n",
    "upper_date = np.percentile(dates, 75))\n",
    "\n",
    "df = pd.DataFrame({'Date': dates})\n",
    "\n",
    "# Create the box plot\n",
    "fig = px.box(df, y='Date')\n",
    "\n",
    "fig.update_yaxes(range=[\"2022-01-01\", \"2022-12-31\"])\n",
    "\n",
    "# Customize the layout\n",
    "fig.update_layout(\n",
    "    title='Box Plot of Timestamps',\n",
    "    yaxis_title='Date'\n",
    ")\n",
    "\n",
    "# Show the plot\n",
    "fig.show()"
   ]
  },
  {
   "cell_type": "code",
   "execution_count": null,
   "metadata": {},
   "outputs": [],
   "source": [
    "df.Date.median()"
   ]
  },
  {
   "cell_type": "code",
   "execution_count": null,
   "metadata": {},
   "outputs": [],
   "source": [
    "created_at_list[0]"
   ]
  },
  {
   "cell_type": "code",
   "execution_count": null,
   "metadata": {},
   "outputs": [],
   "source": [
    "parse_datetime_str(round(start_date)), parse_datetime_str(round(end_date))"
   ]
  },
  {
   "cell_type": "code",
   "execution_count": null,
   "metadata": {},
   "outputs": [],
   "source": [
    "len(out)"
   ]
  },
  {
   "cell_type": "code",
   "execution_count": null,
   "metadata": {},
   "outputs": [],
   "source": [
    "parse_datetime_str(1652076009)"
   ]
  },
  {
   "cell_type": "code",
   "execution_count": null,
   "metadata": {},
   "outputs": [],
   "source": [
    "out[:2]"
   ]
  },
  {
   "cell_type": "code",
   "execution_count": null,
   "metadata": {},
   "outputs": [],
   "source": [
    "response = client.get_meta()\n",
    "print(json.dumps(response, indent=2))"
   ]
  },
  {
   "cell_type": "code",
   "execution_count": null,
   "metadata": {},
   "outputs": [],
   "source": []
  },
  {
   "cell_type": "code",
   "execution_count": null,
   "metadata": {},
   "outputs": [],
   "source": [
    "start_time = datetime.now()\n",
    "print(\"Start time:\", start_time.strftime(\"%Y-%m-%d %H:%M:%S\"))\n",
    "\n",
    "add_npub_mean_vec(client)\n",
    "\n",
    "end_time = datetime.now()\n",
    "duration = end_time - start_time\n",
    "print(\"End time:\", end_time.strftime(\"%Y-%m-%d %H:%M:%S\"))\n",
    "print(\"Duration:\", duration)\n"
   ]
  },
  {
   "cell_type": "code",
   "execution_count": null,
   "metadata": {},
   "outputs": [],
   "source": [
    "df_mean.index[26]"
   ]
  },
  {
   "cell_type": "code",
   "execution_count": null,
   "metadata": {},
   "outputs": [],
   "source": [
    "pubkey =\"ffca54e078fd9884a745d70eb0159c0b8a9e7d383a4906a7484b83ebf6101dd5\"\n",
    "response = (\n",
    "    client.query.get(\"User\", [\"pubkey, name\"])\n",
    "    .with_near_object({\"id\": get_user_uuid(client, pubkey)})\n",
    "    .with_limit(5)\n",
    "    .with_additional([\"distance\"])\n",
    "    .do()\n",
    ")\n",
    "\n",
    "df_similar = pd.DataFrame(response[\"data\"][\"Get\"][\"User\"])\n",
    "df_similar[\"distance\"] = df_similar[\"_additional\"].apply(\n",
    "    lambda x: x[\"distance\"] if isinstance(x, dict) else None\n",
    ")\n",
    "df_similar[\"npub\"] = df_similar[\"pubkey\"].apply(get_npub)\n",
    "df_similar = df_similar.sort_values(\"distance\", ascending=True).drop(columns=[\"_additional\"])"
   ]
  },
  {
   "cell_type": "code",
   "execution_count": null,
   "metadata": {},
   "outputs": [],
   "source": [
    "df_similar"
   ]
  },
  {
   "cell_type": "code",
   "execution_count": null,
   "metadata": {},
   "outputs": [],
   "source": [
    "similar_data = [\n",
    "    {\n",
    "        \"npub\": f\"[{record}](https://njump.me/{record})\",\n",
    "    }\n",
    "    for record in df_similar[\"npub\"]\n",
    "]"
   ]
  },
  {
   "cell_type": "code",
   "execution_count": null,
   "metadata": {},
   "outputs": [],
   "source": [
    "similar_data"
   ]
  },
  {
   "cell_type": "code",
   "execution_count": null,
   "metadata": {},
   "outputs": [],
   "source": [
    "df_similar"
   ]
  },
  {
   "cell_type": "code",
   "execution_count": null,
   "metadata": {},
   "outputs": [],
   "source": [
    "df_similar[['pubkey', 'name']].to_dict('records')"
   ]
  },
  {
   "cell_type": "code",
   "execution_count": null,
   "metadata": {},
   "outputs": [],
   "source": [
    "similar_data = [\n",
    "    {\n",
    "        \"npub\": f\"[{record['npub']}](https://njump.me/{record['npub']})\",\n",
    "    }\n",
    "    for record in df_similar.iterrows()\n",
    "]"
   ]
  },
  {
   "cell_type": "code",
   "execution_count": null,
   "metadata": {},
   "outputs": [],
   "source": [
    "df = pd.DataFrame(response[\"data\"][\"Get\"][\"User\"])\n",
    "df['distance'] = df['_additional'].apply(lambda x: x['distance'])\n"
   ]
  },
  {
   "cell_type": "code",
   "execution_count": null,
   "metadata": {},
   "outputs": [],
   "source": [
    "df.pubkey.apply(get_npub)"
   ]
  },
  {
   "cell_type": "code",
   "execution_count": null,
   "metadata": {},
   "outputs": [],
   "source": [
    "df.npub.iloc[1]"
   ]
  },
  {
   "cell_type": "code",
   "execution_count": null,
   "metadata": {},
   "outputs": [],
   "source": [
    "response[\"data\"][\"Get\"][\"User\"]"
   ]
  },
  {
   "cell_type": "code",
   "execution_count": null,
   "metadata": {},
   "outputs": [],
   "source": [
    "npub=\"npub1t3ggcd843pnwcu6p4tcsesd02t5jx2aelpvusypu5hk0925nhauqjjl5g4\""
   ]
  },
  {
   "cell_type": "code",
   "execution_count": null,
   "metadata": {},
   "outputs": [],
   "source": [
    "df_filter = filter_users(client, min_num_events=5)"
   ]
  },
  {
   "cell_type": "code",
   "execution_count": null,
   "metadata": {},
   "outputs": [],
   "source": [
    "len(df_filter.pubkey.unique())"
   ]
  },
  {
   "cell_type": "code",
   "execution_count": null,
   "metadata": {},
   "outputs": [],
   "source": [
    "df_mean = get_mean_vectors(df_filter)"
   ]
  },
  {
   "cell_type": "code",
   "execution_count": null,
   "metadata": {},
   "outputs": [],
   "source": [
    "df_mean"
   ]
  },
  {
   "cell_type": "code",
   "execution_count": null,
   "metadata": {},
   "outputs": [],
   "source": [
    "df_mean.head()"
   ]
  },
  {
   "cell_type": "code",
   "execution_count": null,
   "metadata": {},
   "outputs": [],
   "source": [
    "df_filter = filter_users(client, min_num_events=5)\n",
    "df_vec = df_filter.groupby(\"pubkey\")[\"vector\"].apply(\n",
    "    lambda x: np.mean(x.tolist(), axis=0)\n",
    ")"
   ]
  },
  {
   "cell_type": "code",
   "execution_count": null,
   "metadata": {},
   "outputs": [],
   "source": [
    "npub = df_vec.index[0]\n",
    "type(df_vec.loc[npub])"
   ]
  },
  {
   "cell_type": "code",
   "execution_count": null,
   "metadata": {},
   "outputs": [],
   "source": []
  },
  {
   "cell_type": "code",
   "execution_count": null,
   "metadata": {},
   "outputs": [],
   "source": [
    "for pubkey in df_vec.index:\n",
    "    print(pubkey)\n",
    "    break"
   ]
  },
  {
   "cell_type": "code",
   "execution_count": null,
   "metadata": {},
   "outputs": [],
   "source": [
    "vec = df_filter.groupby('pubkey').get_group('e417ee3d910253993ae0ce6b41d4a24609970f132958d75b2d9b634d60a3cc08')['vector'].tolist()\n",
    "mean_vec = np.mean(vec, axis=0)\n"
   ]
  },
  {
   "cell_type": "code",
   "execution_count": null,
   "metadata": {},
   "outputs": [],
   "source": [
    "len(mean_vec)"
   ]
  },
  {
   "cell_type": "code",
   "execution_count": null,
   "metadata": {},
   "outputs": [],
   "source": [
    "where_filter = {\n",
    "  \"valueInt\": 5,\n",
    "  \"operator\": \"GreaterThanEqual\",\n",
    "  \"path\": [\"hasCreated\"]\n",
    "}\n",
    "\n",
    "response = (\n",
    "  client.query\n",
    "  .get(\"User\", [\"pubkey\", \"hasCreated {... on Event { event_id, content _additional { vector } }}\"])\n",
    "  .with_where(where_filter)\n",
    "  .with_limit(10000)\n",
    "  .do()\n",
    ")\n",
    "\n",
    "data = []\n",
    "\n",
    "# Iterate over each user in the response\n",
    "for user in response['data']['Get']['User']:\n",
    "    pubkey = user['pubkey']\n",
    "    \n",
    "    # Check if the user has created any events\n",
    "    if 'hasCreated' in user:\n",
    "        # Iterate over each event created by the user\n",
    "        for event in user['hasCreated']:\n",
    "            event_id = event.get('event_id', '')\n",
    "            content = event.get('content', '')\n",
    "            vector = event.get('_additional', {}).get('vector', [])\n",
    "\n",
    "            # Append the data to the list\n",
    "            data.append({'pubkey': pubkey, 'event_id': event_id, 'content': content, 'vector': vector})\n",
    "\n",
    "# Convert the list of dictionaries to a pandas DataFrame\n",
    "df = pd.DataFrame(data)\n"
   ]
  },
  {
   "cell_type": "code",
   "execution_count": null,
   "metadata": {},
   "outputs": [],
   "source": [
    "len(df)"
   ]
  },
  {
   "cell_type": "code",
   "execution_count": null,
   "metadata": {},
   "outputs": [],
   "source": [
    "len(df.pubkey.unique())"
   ]
  },
  {
   "cell_type": "code",
   "execution_count": null,
   "metadata": {},
   "outputs": [],
   "source": [
    "response['data']['Get']['User'][0].keys()"
   ]
  },
  {
   "cell_type": "code",
   "execution_count": null,
   "metadata": {},
   "outputs": [],
   "source": [
    "response = search_weaviate(client, \"cycling\")"
   ]
  },
  {
   "cell_type": "code",
   "execution_count": null,
   "metadata": {},
   "outputs": [],
   "source": [
    "graphql_query = \"\"\"\n",
    "{\n",
    "    Aggregate {\n",
    "        User {\n",
    "            meta {\n",
    "                count\n",
    "            }\n",
    "        }\n",
    "    }\n",
    "}\n",
    "\"\"\"\n",
    "result = client.query.raw(graphql_query)\n",
    "if \"errors\" in result:\n",
    "    print(\"Error in GraphQL Query:\", result[\"errors\"])\n",
    "user_count = result[\"data\"][\"Aggregate\"][\"User\"][0][\"meta\"][\"count\"]"
   ]
  },
  {
   "cell_type": "code",
   "execution_count": null,
   "metadata": {},
   "outputs": [],
   "source": [
    "user_count"
   ]
  },
  {
   "cell_type": "code",
   "execution_count": null,
   "metadata": {},
   "outputs": [],
   "source": [
    "all_users = get_all_user_pubkeys_paginated(client)"
   ]
  },
  {
   "cell_type": "code",
   "execution_count": null,
   "metadata": {},
   "outputs": [],
   "source": [
    "len(all_users)"
   ]
  },
  {
   "cell_type": "code",
   "execution_count": null,
   "metadata": {},
   "outputs": [],
   "source": [
    "result"
   ]
  },
  {
   "cell_type": "code",
   "execution_count": null,
   "metadata": {},
   "outputs": [],
   "source": [
    "response = (\n",
    "    client.query.aggregate(\"User\")\n",
    "    .with_group_by_filter([\"pubkey\"])\n",
    "    .with_meta_count()\n",
    "    .do()\n",
    ")"
   ]
  },
  {
   "cell_type": "code",
   "execution_count": null,
   "metadata": {},
   "outputs": [],
   "source": [
    "len(response['data']['Aggregate']['User'])"
   ]
  },
  {
   "cell_type": "code",
   "execution_count": null,
   "metadata": {},
   "outputs": [],
   "source": [
    "# response = (\n",
    "#     client.query.aggregate(\"User\")\n",
    "#     .with_group_by_filter([\"pubkey\"])  # Grouping by user's public key\n",
    "#     .with_fields(\"hasCreated { meta { count } }\")  # Counting the number of events created\n",
    "#     .with_meta_count()\n",
    "#     .do()\n",
    "# )\n",
    "# response = (\n",
    "#     client.query.aggregate(\"User\")\n",
    "#     .with_fields(\"count\")\n",
    "#     .with_fields(\"hasCreated { count }\")  # Count the number of events created by each user\n",
    "#     .with_meta_count()\n",
    "#     .do()\n",
    "# )\n",
    "\n",
    "# Fetch all users\n",
    "users_response = (\n",
    "    client.query.get(\"User\", [\"pubkey\"])\n",
    "    .with_limit(10000)  # Adjust the limit based on your expected number of users\n",
    "    .do()\n",
    ")\n",
    "\n",
    "if \"errors\" in users_response:\n",
    "    print(\"Error fetching users:\", users_response[\"errors\"])\n",
    "    return None\n",
    "\n",
    "# Extract user pubkeys\n",
    "user_pubkeys = [user[\"pubkey\"] for user in users_response[\"data\"][\"Get\"][\"User\"]]\n",
    "\n",
    "# Now fetch count of hasCreated for each user\n",
    "user_event_counts = []\n",
    "for pubkey in user_pubkeys:\n",
    "    events_count_response = (\n",
    "        client.query.aggregate(\"Event\")\n",
    "        .with_where({\"path\": [\"createdBy\"], \"operator\": \"Equal\", \"valueString\": pubkey})\n",
    "        .with_fields(\"count\")\n",
    "        .do()\n",
    "    )\n",
    "\n",
    "    if \"errors\" in events_count_response:\n",
    "        print(f\"Error fetching event count for user {pubkey}:\", events_count_response[\"errors\"])\n",
    "        continue\n",
    "\n",
    "    event_count = events_count_response[\"data\"][\"Aggregate\"][\"Event\"][\"count\"]\n",
    "    user_event_counts.append({\"pubkey\": pubkey, \"event_count\": event_count})\n",
    "\n",
    "# Convert to DataFrame or your preferred data structure\n",
    "\n"
   ]
  },
  {
   "cell_type": "code",
   "execution_count": null,
   "metadata": {},
   "outputs": [],
   "source": [
    "response"
   ]
  },
  {
   "cell_type": "code",
   "execution_count": null,
   "metadata": {},
   "outputs": [],
   "source": [
    "def filter_users_debug(client, num_events=5):\n",
    "    # Step 1: Aggregate users\n",
    "    graphql_query = f\"\"\"\n",
    "    {{\n",
    "        Aggregate {{\n",
    "            User(\n",
    "                where: {{\n",
    "                    operator: GreaterThan,\n",
    "                    path: [\"hasCreated\"],\n",
    "                    valueInt: {num_events}\n",
    "                }}\n",
    "            ) {{\n",
    "                groupBy: [\"pubkey\"]\n",
    "            }}\n",
    "        }}\n",
    "    }}\n",
    "    \"\"\"\n",
    "\n",
    "    # Execute the query\n",
    "    result = client.query.raw(graphql_query)\n",
    "\n",
    "    # Print the raw result for debugging\n",
    "    print(\"GraphQL Query Result:\", result)\n",
    "\n",
    "    # Check if the result contains errors\n",
    "    if \"errors\" in result:\n",
    "        print(\"Error in GraphQL Query:\", result[\"errors\"])\n",
    "        return None\n",
    "\n",
    "    # Proceed with your processing...\n",
    "    # ...\n",
    "\n",
    "    return result  # or some processed form of the result\n"
   ]
  },
  {
   "cell_type": "code",
   "execution_count": null,
   "metadata": {},
   "outputs": [],
   "source": [
    "df_users = filter_users_debug(client)"
   ]
  },
  {
   "cell_type": "code",
   "execution_count": null,
   "metadata": {},
   "outputs": [],
   "source": [
    "df_users = filter_users_nb(client)"
   ]
  },
  {
   "cell_type": "code",
   "execution_count": null,
   "metadata": {},
   "outputs": [],
   "source": [
    "df_users"
   ]
  },
  {
   "cell_type": "code",
   "execution_count": null,
   "metadata": {},
   "outputs": [],
   "source": [
    "# results = query_weaviate(client, npub=\"your_npub_value\", kind=\"your_kind_value\")\n",
    "response = query_weaviate(client, npub=\"npub1t3ggcd843pnwcu6p4tcsesd02t5jx2aelpvusypu5hk0925nhauqjjl5g4\")\n",
    "# \n",
    "\n"
   ]
  },
  {
   "cell_type": "code",
   "execution_count": null,
   "metadata": {},
   "outputs": [],
   "source": [
    "# text_kinds = [1, 31922, 31923]\n",
    "cal = query_weaviate(client, kind=\"31923\")"
   ]
  },
  {
   "cell_type": "code",
   "execution_count": null,
   "metadata": {},
   "outputs": [],
   "source": [
    "cal.iloc[0]['event_id']"
   ]
  },
  {
   "cell_type": "code",
   "execution_count": null,
   "metadata": {},
   "outputs": [],
   "source": [
    "lan = search_weaviate(client, \"Yondar Dev Call\", limit=20)"
   ]
  },
  {
   "cell_type": "code",
   "execution_count": null,
   "metadata": {},
   "outputs": [],
   "source": [
    "lan[lan['content'].str.contains('yondar', na=False, case=False)]\n"
   ]
  },
  {
   "cell_type": "code",
   "execution_count": null,
   "metadata": {},
   "outputs": [],
   "source": [
    "data = response.to_dict('records')"
   ]
  },
  {
   "cell_type": "code",
   "execution_count": null,
   "metadata": {},
   "outputs": [],
   "source": [
    "data[0]"
   ]
  },
  {
   "cell_type": "code",
   "execution_count": null,
   "metadata": {},
   "outputs": [],
   "source": [
    "len(response)"
   ]
  },
  {
   "cell_type": "code",
   "execution_count": null,
   "metadata": {},
   "outputs": [],
   "source": [
    "# client.schema.delete_class('User')\n",
    "# client.schema.delete_class('Event')\n"
   ]
  },
  {
   "cell_type": "code",
   "execution_count": null,
   "metadata": {},
   "outputs": [],
   "source": [
    "# define Event class before User\n",
    "create_weaviate_event_class(client)\n",
    "create_weaviate_user_class(client)"
   ]
  },
  {
   "cell_type": "code",
   "execution_count": null,
   "metadata": {},
   "outputs": [],
   "source": [
    "start_time = datetime.now()\n",
    "print(\"Start time:\", start_time.strftime(\"%Y-%m-%d %H:%M:%S\"))\n",
    "\n",
    "load_events_into_weaviate(client)\n",
    "\n",
    "end_time = datetime.now()\n",
    "duration = end_time - start_time\n",
    "print(\"End time:\", end_time.strftime(\"%Y-%m-%d %H:%M:%S\"))\n",
    "print(\"Duration:\", duration)\n"
   ]
  },
  {
   "cell_type": "code",
   "execution_count": null,
   "metadata": {},
   "outputs": [],
   "source": [
    "# get event by event id\n",
    "# get all events for pubkey\n",
    "\n",
    "event_query = {\n",
    "  \"where\": {\n",
    "    \"operator\": \"Equal\",\n",
    "    \"path\": [\"event_id\"],\n",
    "    \"valueString\": event_id\n",
    "  }\n",
    "}\n",
    "\n",
    "event_response = (\n",
    "    client.query\n",
    "    .get(\"Event\", [\"created_at\", \"pubkey\", \"kind\"])\n",
    "    .with_where(event_query[\"where\"])\n",
    "    .do()\n",
    ")\n",
    "event = event_response['data']['Get']['Event']"
   ]
  },
  {
   "cell_type": "code",
   "execution_count": null,
   "metadata": {},
   "outputs": [],
   "source": [
    "# get all events for pubkey\n",
    "pubkey = \"17538dc2a62769d09443f18c37cbe358fab5bbf981173542aa7c5ff171ed77c4\"  # elsat\n",
    "\n",
    "pubkey_query = {\n",
    "  \"where\": {\n",
    "    \"operator\": \"Equal\",\n",
    "    \"path\": [\"pubkey\"],\n",
    "    \"valueString\": pubkey\n",
    "  }\n",
    "}\n",
    "\n",
    "user_response = (\n",
    "    client.query\n",
    "    .get(\"User\", [\"pubkey\"])\n",
    "    # .get(\"User\", [\n",
    "    #     \"hasCreated { ... on Event { event_id created_at pubkey kind content } }\"\n",
    "    # ])\n",
    "    # .with_where(pubkey_query[\"where\"])\n",
    "    .do()\n",
    ")\n",
    "\n",
    "event_response = (\n",
    "    client.query\n",
    "    .get(\"Event\", [\"event_id\"])\n",
    "    # .get(\"User\", [\n",
    "    #     \"hasCreated { ... on Event { event_id created_at pubkey kind content } }\"\n",
    "    # ])\n",
    "    # .with_where(pubkey_query[\"where\"])\n",
    "    .do()\n",
    ")\n",
    "\n",
    "created_response = (\n",
    "    client.query\n",
    "    .get(\"User\", [\n",
    "        \"hasCreated { ... on Event { event_id created_at pubkey kind content } }\"\n",
    "    ])\n",
    "    .do()\n",
    ")\n",
    "\n",
    "# Extracting the events associated with the user\n",
    "pubkey_events = user_response['data']['Get']['User']\n",
    "events_output = event_response['data']['Get']['Event']\n",
    "created_output = created_response['data']['Get']['User']\n"
   ]
  },
  {
   "cell_type": "code",
   "execution_count": null,
   "metadata": {},
   "outputs": [],
   "source": [
    "len(pubkey_events), len(events_output),  len(created_output)"
   ]
  },
  {
   "cell_type": "code",
   "execution_count": null,
   "metadata": {},
   "outputs": [],
   "source": [
    "created_output"
   ]
  },
  {
   "cell_type": "code",
   "execution_count": null,
   "metadata": {},
   "outputs": [],
   "source": [
    "# 1st pass: get all content > min_length, get embeddings\n",
    "start_time = datetime.now()\n",
    "print(\"Start time:\", start_time.strftime(\"%Y-%m-%d %H:%M:%S\"))\n",
    "\n",
    "env = lmdb.open(path=strfry_path, max_dbs=10)\n",
    "payload_db = env.open_db(b\"rasgueadb_defaultDb__EventPayload\")\n",
    "id_db = env.open_db(b\"rasgueadb_defaultDb__Event__id\")\n",
    "\n",
    "# record_count = 0\n",
    "# pubkey_dict = {}\n",
    "# event_dict = {}\n",
    "\n",
    "text_kinds = [1, 31922, 31923]\n",
    "content_list = []\n",
    "event_id_list = []\n",
    "client.batch.configure(batch_size=batch_size)\n",
    "with client.batch as batch:\n",
    "    with env.begin(db=id_db) as txn:\n",
    "        cursor = txn.cursor(db=id_db)\n",
    "        for key, value in cursor:\n",
    "            pl = txn.get(value, db=payload_db)\n",
    "            if pl is None:\n",
    "                print(key, value)\n",
    "                continue\n",
    "            event_hex = key.hex()[:64]  # event_id\n",
    "            event_json = json.loads(pl[1:].decode(\"utf-8\"))\n",
    "            if \"content\" not in event_json or len(event_json['content']) < min_content_length:\n",
    "                continue\n",
    "            if event_json[\"kind\"] in text_kinds:\n",
    "                event_id = event_json[\"id\"]\n",
    "                content = event_json['content']\n",
    "                if event_id not in event_id_list:\n",
    "                    content_list.append(content)\n",
    "                    event_id_list.append(event_id)\n",
    "end_time = datetime.now()\n",
    "print(\"End time:\", end_time.strftime(\"%Y-%m-%d %H:%M:%S\"))\n",
    "\n",
    "# Calculate and print the duration\n",
    "duration = end_time - start_time\n",
    "print(\"Duration:\", duration)\n"
   ]
  },
  {
   "cell_type": "code",
   "execution_count": null,
   "metadata": {},
   "outputs": [],
   "source": [
    "start_time = datetime.now()\n",
    "print(\"Start time:\", start_time.strftime(\"%Y-%m-%d %H:%M:%S\"))\n",
    "\n",
    "end_time = datetime.now()\n",
    "duration = end_time - start_time\n",
    "print(\"End time:\", end_time.strftime(\"%Y-%m-%d %H:%M:%S\"))\n",
    "print(\"Duration:\", duration)\n"
   ]
  },
  {
   "cell_type": "code",
   "execution_count": null,
   "metadata": {},
   "outputs": [],
   "source": [
    "# 1st pass: get all content > min_length, get embeddings\n",
    "content_list = []\n",
    "event_id_list = []\n",
    "offset = 0\n",
    "while True:\n",
    "    events_response = client.query.get(\n",
    "        \"Event\",\n",
    "        [\"event_id\", \"content\"]\n",
    "        # [\"event_id\", \"content\", \"_additional { id }\"]\n",
    "    ).with_limit(page_limit).with_offset(offset).do()\n",
    "\n",
    "    events = events_response[\"data\"][\"Get\"][\"Event\"]\n",
    "    if events is None:\n",
    "        break\n",
    "    for event in events:\n",
    "        event['event_id']\n",
    "        content = event['content']\n",
    "        if len(content) > min_content_length:\n",
    "            content_list.append(event['content'])\n",
    "            event_id_list.append(event['event_id'])\n",
    "    if len(events) < page_limit:\n",
    "        break\n",
    "    offset += page_limit"
   ]
  },
  {
   "cell_type": "code",
   "execution_count": null,
   "metadata": {},
   "outputs": [],
   "source": [
    "users = client.query.get(\"User\", [\"name\", \"pubkey\", \"hasCreated\"]).do()\n",
    "for user in users[\"data\"][\"Get\"][\"User\"]:\n",
    "    print(f\"User: {user['name']} has created events: {user['hasCreated']}\")\n"
   ]
  },
  {
   "cell_type": "code",
   "execution_count": null,
   "metadata": {},
   "outputs": [],
   "source": [
    "event[\"_additional\"][\"id\"]"
   ]
  },
  {
   "cell_type": "code",
   "execution_count": null,
   "metadata": {},
   "outputs": [],
   "source": [
    "user_response[\"data\"][\"Get\"][\"User\"][:5]"
   ]
  },
  {
   "cell_type": "code",
   "execution_count": null,
   "metadata": {},
   "outputs": [],
   "source": [
    "embeddings = embedding_model.encode(content_list)"
   ]
  },
  {
   "cell_type": "code",
   "execution_count": null,
   "metadata": {},
   "outputs": [],
   "source": [
    "embeddings[0]"
   ]
  },
  {
   "cell_type": "code",
   "execution_count": null,
   "metadata": {},
   "outputs": [],
   "source": [
    "len(embeddings)"
   ]
  },
  {
   "cell_type": "code",
   "execution_count": null,
   "metadata": {},
   "outputs": [],
   "source": [
    "len(content_list), len(event_id_list)"
   ]
  },
  {
   "cell_type": "code",
   "execution_count": null,
   "metadata": {},
   "outputs": [],
   "source": [
    "# query pubkeys with > 5 events\n",
    "offset = 0\n",
    "event_counts = {}\n",
    "while True:\n",
    "    events_response = client.query.get(\n",
    "        \"Event\",\n",
    "        # [\"event_id\", \"content\", \"pubkey\"]\n",
    "        [\"event_id\", \"content\", \"pubkey\", \"_additional { id }\"]\n",
    "    ).with_limit(page_limit).with_offset(offset).do()\n",
    "\n",
    "    events = events_response[\"data\"][\"Get\"][\"Event\"]\n",
    "    if events is None:\n",
    "        break\n",
    "    for event in events:\n",
    "        if len(event['content']) > min_content_length:\n",
    "            pubkey = event['pubkey']\n",
    "            event_counts[pubkey] = event_counts.get(pubkey, 0) + 1\n",
    "    if len(events) < page_limit:\n",
    "        break\n",
    "    offset += page_limit\n",
    "\n",
    "pubkeys_with_events = [\n",
    "    pubkey for pubkey, count in event_counts.items() if count >= min_num_events\n",
    "]\n",
    "\n",
    "print(pubkeys_with_events)\n"
   ]
  },
  {
   "cell_type": "code",
   "execution_count": null,
   "metadata": {},
   "outputs": [],
   "source": [
    "response = (\n",
    "    client.query\n",
    "    .get(\"Event\", [\"event_id\", \"pubkey\", \"kind\", \"content\"])\n",
    "    .with_limit(1)\n",
    "    # .with_additional(\"vector\")\n",
    "    .with_additional([\"distance\", \"id\"])\n",
    "    .do()\n",
    ")\n",
    "print(json.dumps(response, indent=4))"
   ]
  },
  {
   "cell_type": "code",
   "execution_count": null,
   "metadata": {},
   "outputs": [],
   "source": [
    "response = (\n",
    "    client.query\n",
    "    .aggregate(\"Event\")\n",
    "    .with_meta_count()\n",
    "    .do()\n",
    ")\n",
    "\n",
    "print(json.dumps(response, indent=2))"
   ]
  },
  {
   "cell_type": "code",
   "execution_count": null,
   "metadata": {},
   "outputs": [],
   "source": [
    "near_text_config = {\n",
    "  \"concepts\": [\"hair typo\"],\n",
    "}\n",
    "\n",
    "response = (\n",
    "    client.query\n",
    "    .get(\"Event\", [\"event_id\", \"content\"])\n",
    "    .with_near_text(near_text_config)\n",
    "    .with_limit(100)\n",
    "    .with_additional([\"distance\", \"id\"])\n",
    "    .do()\n",
    ")\n",
    "\n",
    "result = response['data']['Get']['Event']\n",
    "# print(json.dumps(response, indent=4))"
   ]
  },
  {
   "cell_type": "code",
   "execution_count": null,
   "metadata": {},
   "outputs": [],
   "source": [
    "pubkey_value = \"eab0e756d32b80bcd464f3d844b8040303075a13eabc3599a762c9ac7ab91f4f\"\n",
    "\n",
    "query = \"\"\"\n",
    "{\n",
    "  Get {\n",
    "    Event(\n",
    "      where: {\n",
    "        path: [\"pubkey\"]\n",
    "        operator: Equal\n",
    "        valueString: \"%s\"\n",
    "      }\n",
    "      limit: 10000\n",
    "    ) {\n",
    "      event_id\n",
    "      created_at\n",
    "      pubkey\n",
    "      kind\n",
    "      content\n",
    "      _additional {\n",
    "        vector\n",
    "      }\n",
    "    }\n",
    "  }\n",
    "}\n",
    "\"\"\" % pubkey_value\n",
    "\n",
    "result = client.query.raw(query)\n",
    "events = result['data']['Get']['Event']"
   ]
  },
  {
   "cell_type": "code",
   "execution_count": null,
   "metadata": {},
   "outputs": [],
   "source": [
    "vectors = [event['_additional']['vector'] for event in events]\n",
    "vectors_array = np.array(vectors)\n",
    "mean_vector = np.mean(vectors_array, axis=0)\n",
    "\n",
    "# event_ids = [event['event_id'] for event in events]\n",
    "\n",
    "# # Create a DataFrame\n",
    "# df_vec = pd.DataFrame(vectors, index=event_ids, columns=[f'feature_{i}' for i in range(len(vectors[0]))])\n"
   ]
  },
  {
   "cell_type": "code",
   "execution_count": null,
   "metadata": {},
   "outputs": [],
   "source": [
    "mean_vector[:5]"
   ]
  },
  {
   "cell_type": "code",
   "execution_count": null,
   "metadata": {},
   "outputs": [],
   "source": [
    "response = (\n",
    "    client.query\n",
    "    .get(\"Event\", [\"question\"])\n",
    "    .do()\n",
    ")"
   ]
  },
  {
   "cell_type": "code",
   "execution_count": null,
   "metadata": {},
   "outputs": [],
   "source": [
    "def process_month(event_json):\n",
    "    date = datetime.fromtimestamp(event_json['created_at'])\n",
    "    month = date.strftime(\"%Y-%m\")\n",
    "    return month\n",
    "\n",
    "def process_date(event_json):\n",
    "    date = (\n",
    "        datetime.fromtimestamp(event_json['created_at'])\n",
    "        .strftime(\"%m-%d-%Y\")\n",
    "    )\n",
    "    return date\n",
    "\n",
    "def process_kind(event_json):\n",
    "    return event_json['kind']\n",
    "\n",
    "def process_db(process_fn):\n",
    "    env = lmdb.open(path=os.getenv(\"STRFRY_DB_FOLDER\"), max_dbs=10)\n",
    "    payload_db = env.open_db(b\"rasgueadb_defaultDb__EventPayload\")\n",
    "    id_db = env.open_db(b\"rasgueadb_defaultDb__Event__id\")\n",
    "    output_list = []\n",
    "\n",
    "    with env.begin(db=id_db) as txn:\n",
    "        cursor = txn.cursor(db=id_db)\n",
    "        for key, value in cursor:\n",
    "            pl = txn.get(value, db=payload_db)\n",
    "            if pl is None:\n",
    "                print(key, value)\n",
    "                continue\n",
    "            # event_hex = key.hex()[:64]  # event_id\n",
    "            event_json = json.loads(pl[1:].decode(\"utf-8\"))\n",
    "            output_list.append(process_fn(event_json))\n",
    "    return output_list"
   ]
  },
  {
   "cell_type": "code",
   "execution_count": null,
   "metadata": {},
   "outputs": [],
   "source": [
    "month_list = process_db(process_month)\n",
    "event_counts = pd.Series(month_list).value_counts().sort_index()\n",
    "fig = px.bar(event_counts, x=event_counts.index, y=event_counts.values, labels={'x': 'Month', 'y': 'Number of Events'})\n",
    "fig.update_layout(title='Number of Events by Month', xaxis_title='Month', yaxis_title='Number of Events')\n",
    "fig.show()"
   ]
  },
  {
   "cell_type": "code",
   "execution_count": null,
   "metadata": {},
   "outputs": [],
   "source": [
    "date_list = process_db(process_date)\n",
    "event_counts = pd.Series(date_list).value_counts().sort_index()\n",
    "fig = px.bar(event_counts, x=event_counts.index, y=event_counts.values, labels={'x': 'Date', 'y': 'Number of Events'})\n",
    "fig.update_layout(title='Number of Events by Date', xaxis_title='Date', yaxis_title='Number of Events')\n",
    "fig.show()"
   ]
  },
  {
   "cell_type": "code",
   "execution_count": null,
   "metadata": {},
   "outputs": [],
   "source": [
    "kind_list = process_db(process_kind)\n",
    "counts = pd.Series(kind_list).value_counts().sort_index()\n",
    "fig = px.bar(counts, x=list(map(str, counts.index)), y=counts.values, labels={'x': 'kind', 'y': 'Number of Events'})\n",
    "fig.update_layout(title='Number of Events by kind', xaxis_title='kind', yaxis_title='Number of Events')\n",
    "fig.show()\n",
    "# 1, 30023\n"
   ]
  },
  {
   "cell_type": "code",
   "execution_count": null,
   "metadata": {},
   "outputs": [],
   "source": [
    "start_time = datetime.now()\n",
    "print(\"Start time:\", start_time.strftime(\"%Y-%m-%d %H:%M:%S\"))\n",
    "\n",
    "end_time = datetime.now()\n",
    "print(\"End time:\", end_time.strftime(\"%Y-%m-%d %H:%M:%S\"))\n",
    "\n",
    "# Calculate and print the duration\n",
    "duration = end_time - start_time\n",
    "print(\"Duration:\", duration)"
   ]
  },
  {
   "cell_type": "code",
   "execution_count": null,
   "metadata": {},
   "outputs": [],
   "source": [
    "env = lmdb.open(path=os.getenv(\"STRFRY_DB_FOLDER\"), max_dbs=10)\n",
    "payload_db = env.open_db(b\"rasgueadb_defaultDb__EventPayload\")\n",
    "id_db = env.open_db(b\"rasgueadb_defaultDb__Event__id\")\n",
    "\n",
    "\n",
    "pubkey_counts = {}\n",
    "with env.begin(db=id_db) as txn:\n",
    "    with env.begin(db=payload_db) as tpl:\n",
    "        for key, value in txn.cursor():\n",
    "            pl = tpl.get(value)\n",
    "            if pl is None:\n",
    "                raise Exception(\"db corrupt!?\")\n",
    "            event_hex = key.hex()[:64]  # event_id\n",
    "            event_json = json.loads(pl[1:].decode(\"utf-8\"))  # event json\n",
    "            pubkey = event_json['pubkey']\n",
    "            if pubkey in pubkey_counts:\n",
    "                pubkey_counts[pubkey] += 1\n",
    "            else:\n",
    "                pubkey_counts[pubkey] = 1"
   ]
  },
  {
   "cell_type": "code",
   "execution_count": null,
   "metadata": {},
   "outputs": [],
   "source": [
    "top_pubkeys = sorted(pubkey_counts, key=pubkey_counts.get, reverse=True)[:5]\n",
    "\n",
    "for pubkey in top_pubkeys:\n",
    "    print(f\"PubKey: {pubkey}, Count: {pubkey_counts[pubkey]}\")"
   ]
  }
 ],
 "metadata": {
  "kernelspec": {
   "display_name": "Python 3",
   "language": "python",
   "name": "python3"
  },
  "language_info": {
   "codemirror_mode": {
    "name": "ipython",
    "version": 3
   },
   "file_extension": ".py",
   "mimetype": "text/x-python",
   "name": "python",
   "nbconvert_exporter": "python",
   "pygments_lexer": "ipython3",
   "version": "3.11.5"
  },
  "orig_nbformat": 4
 },
 "nbformat": 4,
 "nbformat_minor": 2
}
