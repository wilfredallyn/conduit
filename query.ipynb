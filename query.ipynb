{
 "cells": [
  {
   "cell_type": "code",
   "execution_count": null,
   "metadata": {},
   "outputs": [],
   "source": [
    "%load_ext autoreload\n",
    "%autoreload 2"
   ]
  },
  {
   "cell_type": "code",
   "execution_count": null,
   "metadata": {},
   "outputs": [],
   "source": [
    "from analyze import get_events_by_time\n",
    "from datetime import datetime, timedelta\n",
    "from parse import parse_tags\n",
    "import pandas as pd\n",
    "import json\n",
    "from ingest import write_tables\n",
    "from parse import parse_mention_tags, parse_reply_tags, parse_user_metadata, parse_follows, parse_reactions\n",
    "from nostr_sdk import Keys, Client, EventBuilder, Filter, PublicKey, EventId, Options, Timestamp, EventId, Event\n",
    "from datetime import timedelta\n",
    "import numpy as np\n",
    "import time\n",
    "from query import query_relay, query_db, get_table\n",
    "from utils import postprocess, get_npub, get_pubkey_hex, get_event_bech\n",
    "\n",
    "from sqlalchemy import create_engine, Column, BigInteger, String\n",
    "from sqlalchemy.dialects.postgresql import JSONB\n",
    "from sqlalchemy.orm import declarative_base, sessionmaker\n",
    "from sqla_models import User, Follow, Reply, Mention\n",
    "import plotly.express as px\n",
    "\n",
    "pablo_npub = \"npub1l2vyh47mk2p0qlsku7hg0vn29faehy9hy34ygaclpn66ukqp3afqutajft\"\n",
    "pablo_hex = get_pubkey_hex(pablo_npub)\n",
    "will_npub = \"npub1xtscya34g58tk0z605fvr788k263gsu6cy9x0mhnm87echrgufzsevkk5s\"\n",
    "will_hex = get_pubkey_hex(will_npub)\n",
    "local_npub1 = \"npub1ujm8l8mupgwvu8pye2ged78pg3huectlmm6at66x5wffgvl2fkgsygt8l4\"\n",
    "# local_npub2 = \"npub18cd2agsh7qgju43zr9qwduggd4vnqtpyhzremtr6lwgpm3ue3t3qlx2snh\"\n",
    "\n",
    "from sqlalchemy import create_engine, Column, BigInteger, String\n",
    "engine = create_engine(\n",
    "    \"postgresql://postgres@localhost:5432/postgres\"\n",
    ")\n",
    "Session = sessionmaker(bind=engine)\n",
    "\n"
   ]
  },
  {
   "cell_type": "code",
   "execution_count": null,
   "metadata": {},
   "outputs": [],
   "source": [
    "keys = Keys.generate()\n",
    "# print(keys.public_key().to_bech32())\n",
    "opts = Options().timeout(timedelta(seconds=30))\n",
    "client = Client.with_opts(keys, opts)\n",
    "# client = Client(keys)\n",
    "client.add_relay(\"wss://relay.damus.io\")\n",
    "client.add_relay(\"wss://nostr.oxtr.dev\")\n",
    "client.add_relay('wss://relay.nostr.band')\n",
    "client.add_relay('wss://relay.primal.net')\n",
    "client.add_relay('wss://relay.mostr.pub')\n",
    "client.connect()\n",
    "# PublicKey.from_hex('031ea306188fee631a86f1a0e49cee8f3d62592b2e7be5f8eb1788e327db340a').to_bech32()"
   ]
  },
  {
   "cell_type": "code",
   "execution_count": null,
   "metadata": {},
   "outputs": [],
   "source": [
    "df_new = query_relay(client, npub=None, kind=None, num_days=14, num_limit=100000, timeout_secs=300)"
   ]
  },
  {
   "cell_type": "code",
   "execution_count": null,
   "metadata": {},
   "outputs": [],
   "source": [
    "len(df_new)"
   ]
  },
  {
   "cell_type": "code",
   "execution_count": null,
   "metadata": {},
   "outputs": [],
   "source": [
    "df_new.created_at.min(), df_new.created_at.max()"
   ]
  },
  {
   "cell_type": "code",
   "execution_count": null,
   "metadata": {},
   "outputs": [],
   "source": [
    "len(df_all)"
   ]
  },
  {
   "cell_type": "code",
   "execution_count": null,
   "metadata": {},
   "outputs": [],
   "source": [
    "df_all = pd.read_pickle('df_all.pkl')"
   ]
  },
  {
   "cell_type": "code",
   "execution_count": null,
   "metadata": {},
   "outputs": [],
   "source": [
    "get_npub('9630f464cca6a5147aa8a35f0bcdd3ce485324e732fd39e09233b1d848238f31')"
   ]
  },
  {
   "cell_type": "code",
   "execution_count": null,
   "metadata": {},
   "outputs": [],
   "source": [
    "write_tables(df_all, engine)"
   ]
  },
  {
   "cell_type": "code",
   "execution_count": null,
   "metadata": {},
   "outputs": [],
   "source": [
    "df_replys = get_table(Session, Reply)\n",
    "df_mentions = get_table(Session, Mention)"
   ]
  },
  {
   "cell_type": "code",
   "execution_count": null,
   "metadata": {},
   "outputs": [],
   "source": [
    "df_mentions.columns"
   ]
  },
  {
   "cell_type": "code",
   "execution_count": null,
   "metadata": {},
   "outputs": [],
   "source": [
    "df_replys.columns"
   ]
  },
  {
   "cell_type": "code",
   "execution_count": null,
   "metadata": {},
   "outputs": [],
   "source": [
    "df_replys.head()"
   ]
  },
  {
   "cell_type": "code",
   "execution_count": null,
   "metadata": {},
   "outputs": [],
   "source": [
    "df_mentions.head()"
   ]
  },
  {
   "cell_type": "code",
   "execution_count": null,
   "metadata": {},
   "outputs": [],
   "source": [
    "df_mentions[['created_at', 'kind','pubkey', 'ref_id','petname']]"
   ]
  },
  {
   "cell_type": "code",
   "execution_count": null,
   "metadata": {},
   "outputs": [],
   "source": [
    "with Session() as session:\n",
    "    sqla_query = session.query(Mention)\n",
    "    results = sqla_query.all()\n",
    "df = pd.DataFrame([r.__dict__ for r in results])\n",
    "df = df.drop('_sa_instance_state', axis=1)"
   ]
  },
  {
   "cell_type": "code",
   "execution_count": null,
   "metadata": {},
   "outputs": [],
   "source": [
    "get_npub('32e1827635450ebb3c5a7d12c1f8e7b2b514439ac10a67eef3d9fd9c5c68e245')"
   ]
  },
  {
   "cell_type": "code",
   "execution_count": null,
   "metadata": {},
   "outputs": [],
   "source": [
    "get_pubkey_hex('npub1sn0wdenkukak0d9dfczzeacvhkrgz92ak56egt7vdgzn8pv2wfqqhrjdv9')"
   ]
  },
  {
   "cell_type": "code",
   "execution_count": null,
   "metadata": {},
   "outputs": [],
   "source": [
    "get_event_bech('cbcfaf6d9dcd954eacc6bd2411fab49d3c5e7fe17316bbe0eba57768f9d067f8')"
   ]
  },
  {
   "cell_type": "code",
   "execution_count": null,
   "metadata": {},
   "outputs": [],
   "source": [
    "get_npub('9c163c7351f8832b08b56cbb2e095960d1c5060dd6b0e461e813f0f07459119e')"
   ]
  },
  {
   "cell_type": "code",
   "execution_count": null,
   "metadata": {},
   "outputs": [],
   "source": [
    "PublicKey.from_hex(\"b7cb65f26431da2218e3514cb7185dd142dec1961657d209fbf0a2d49db8e5bf\").to_bech32()"
   ]
  },
  {
   "cell_type": "code",
   "execution_count": null,
   "metadata": {},
   "outputs": [],
   "source": [
    "PublicKey.from_bech32(local_npub1).to_hex()"
   ]
  },
  {
   "cell_type": "code",
   "execution_count": null,
   "metadata": {},
   "outputs": [],
   "source": [
    "PublicKey.from_hex(\"e4b67f9f7c0a1cce1c24ca9196f8e1446fcce17fdef5d5eb46a3929433ea4d91\").to_bech32()\n",
    "npub18cd2agsh7qgju43zr9qwduggd4vnqtpyhzremtr6lwgpm3ue3t3qlx2snh"
   ]
  },
  {
   "cell_type": "code",
   "execution_count": null,
   "metadata": {},
   "outputs": [],
   "source": [
    "df = query_relay(\n",
    "    client, kind=1, npub=pablo_npub, num_days=5, num_limit=None, timeout_secs=30\n",
    ")"
   ]
  },
  {
   "cell_type": "code",
   "execution_count": null,
   "metadata": {},
   "outputs": [],
   "source": [
    "filter = Filter().limit(100000)\n",
    "all_events = client.get_events_of([filter], None)\n",
    "df_all = pd.DataFrame([json.loads(event.as_json()) for event in all_events]).set_index(\"id\")"
   ]
  },
  {
   "cell_type": "code",
   "execution_count": null,
   "metadata": {},
   "outputs": [],
   "source": [
    "df_user = parse_user_metadata(df_all)"
   ]
  },
  {
   "cell_type": "code",
   "execution_count": null,
   "metadata": {},
   "outputs": [],
   "source": [
    "get_npub('32e1827635450ebb3c5a7d12c1f8e7b2b514439ac10a67eef3d9fd9c5c68e245')"
   ]
  },
  {
   "cell_type": "code",
   "execution_count": null,
   "metadata": {},
   "outputs": [],
   "source": [
    "len(df_user)"
   ]
  },
  {
   "cell_type": "code",
   "execution_count": null,
   "metadata": {},
   "outputs": [],
   "source": [
    "df_user.head()"
   ]
  },
  {
   "cell_type": "code",
   "execution_count": null,
   "metadata": {},
   "outputs": [],
   "source": [
    "df_reactions.loc['de731a08f6e723896d57f07209e800ebffe52dea4cf5f8ce084aa92f91501425']"
   ]
  },
  {
   "cell_type": "code",
   "execution_count": null,
   "metadata": {},
   "outputs": [],
   "source": [
    "df_reactions = parse_reactions(df_all)"
   ]
  },
  {
   "cell_type": "code",
   "execution_count": null,
   "metadata": {},
   "outputs": [],
   "source": [
    "df_reactions[df_reactions.pubkey.isnull()]"
   ]
  },
  {
   "cell_type": "code",
   "execution_count": null,
   "metadata": {},
   "outputs": [],
   "source": [
    "df_reactions.to_sql(\"reaction\", engine, if_exists=\"replace\")"
   ]
  },
  {
   "cell_type": "code",
   "execution_count": null,
   "metadata": {},
   "outputs": [],
   "source": [
    "df_reactions.head()"
   ]
  },
  {
   "cell_type": "code",
   "execution_count": null,
   "metadata": {},
   "outputs": [],
   "source": [
    "df_user = parse_user_metadata(df_all)"
   ]
  },
  {
   "cell_type": "code",
   "execution_count": null,
   "metadata": {},
   "outputs": [],
   "source": [
    "df_user.head()"
   ]
  },
  {
   "cell_type": "code",
   "execution_count": null,
   "metadata": {},
   "outputs": [],
   "source": [
    "df_follo=parse_follows(df_all)"
   ]
  },
  {
   "cell_type": "code",
   "execution_count": null,
   "metadata": {},
   "outputs": [],
   "source": [
    "df_follo.head()"
   ]
  },
  {
   "cell_type": "code",
   "execution_count": null,
   "metadata": {},
   "outputs": [],
   "source": [
    "df_all[df_all.kind == 7].head()"
   ]
  },
  {
   "cell_type": "code",
   "execution_count": null,
   "metadata": {},
   "outputs": [],
   "source": [
    "df_reactions.head()"
   ]
  },
  {
   "cell_type": "code",
   "execution_count": null,
   "metadata": {},
   "outputs": [],
   "source": [
    "len(df_reactions)"
   ]
  },
  {
   "cell_type": "code",
   "execution_count": null,
   "metadata": {},
   "outputs": [],
   "source": [
    "EventId.from_hex(df_reactions.iloc[2340]['id']).to_bech32()"
   ]
  },
  {
   "cell_type": "code",
   "execution_count": null,
   "metadata": {},
   "outputs": [],
   "source": [
    "df_reactions.iloc[2340]"
   ]
  },
  {
   "cell_type": "code",
   "execution_count": null,
   "metadata": {},
   "outputs": [],
   "source": [
    "df_all.loc['1ab3ab140025472491ec1e82f1368f2fff152b44a68d6b48e4301fa92991d144']['tags']"
   ]
  },
  {
   "cell_type": "code",
   "execution_count": null,
   "metadata": {},
   "outputs": [],
   "source": []
  },
  {
   "cell_type": "code",
   "execution_count": null,
   "metadata": {},
   "outputs": [],
   "source": []
  },
  {
   "cell_type": "code",
   "execution_count": null,
   "metadata": {},
   "outputs": [],
   "source": [
    "PublicKey.from_hex(\"ee6ea13ab9fe5c4a68eaf9b1a34fe014a66b40117c50ee2a614f4cda959b6e74\").to_bech32()"
   ]
  },
  {
   "cell_type": "code",
   "execution_count": null,
   "metadata": {},
   "outputs": [],
   "source": [
    "# df_all = pd.read_pickle('df_all.pkl')\n",
    "\n",
    "# df_reply = parse_reply_tags(df_all)\n",
    "# df_mention = parse_mention_tags(df_all)\n",
    "# df_reply.to_sql('reply', engine, if_exists=\"replace\")\n",
    "# df_mention.to_sql('mention', engine, if_exists=\"replace\")\n",
    "df_user = parse_user_metadata(df_all)\n",
    "user_cols = [col.name for col in inspect(User).columns]\n",
    "user_cols = [col for col in user_cols if col != \"id\"]\n",
    "df_user[user_cols].to_sql('user', engine, if_exists=\"replace\")"
   ]
  },
  {
   "cell_type": "code",
   "execution_count": null,
   "metadata": {},
   "outputs": [],
   "source": [
    "row = df_user.loc['91fd1de594297ff4cdeae5a58aa7be91dd281bd0df56ae9af191f5add3372e30']"
   ]
  },
  {
   "cell_type": "code",
   "execution_count": null,
   "metadata": {},
   "outputs": [],
   "source": [
    "# # Filter().event(event_id)\n",
    "# from datetime import datetime, timedelta\n",
    "\n",
    "# # Calculate the timestamp for 1 day ago\n",
    "# one_day_ago = datetime.now() - timedelta(days=1)\n",
    "# filter = Filter().author(pablo_hex).since(Timestamp.from_secs(int(one_day_ago.timestamp())))\n",
    "\n",
    "filter = Filter().author(pablo_hex).since(get_filter_timestamp(num_days=1))\n",
    "pablo_events = client.get_events_of([filter], None)\n",
    "df_pablo = pd.DataFrame([json.loads(event.as_json()) for event in pablo_events]).set_index(\"id\")"
   ]
  },
  {
   "cell_type": "code",
   "execution_count": null,
   "metadata": {},
   "outputs": [],
   "source": [
    "EventId.from_hex('1bcdbf7623a26f8ed6f08148c7bf39fa93e0aac85b1b4555ccb029697e0c0cbe').to_bech32()"
   ]
  },
  {
   "cell_type": "code",
   "execution_count": null,
   "metadata": {},
   "outputs": [],
   "source": [
    "PublicKey.from_hex('08c9d8c533064607a7f274961f7b375f3d2fc24ba11b77333c76c0d8377ab1f3').to_bech32()"
   ]
  },
  {
   "cell_type": "code",
   "execution_count": null,
   "metadata": {},
   "outputs": [],
   "source": [
    "df_kind_7 = query_db(Session=Session, kind=7)"
   ]
  },
  {
   "cell_type": "code",
   "execution_count": null,
   "metadata": {},
   "outputs": [],
   "source": [
    "df_kind_7.iloc[12].reset_index()"
   ]
  },
  {
   "cell_type": "code",
   "execution_count": null,
   "metadata": {},
   "outputs": [],
   "source": [
    "df_all[df_all.kind == 7]['tags'].iloc[13]"
   ]
  },
  {
   "cell_type": "code",
   "execution_count": null,
   "metadata": {},
   "outputs": [],
   "source": [
    "df_all[df_all.kind == 7].head().reset_index().explode(\"tags\")"
   ]
  },
  {
   "cell_type": "code",
   "execution_count": null,
   "metadata": {},
   "outputs": [],
   "source": [
    "df1.rename(columns={'follows': 'p'}, inplace=True)"
   ]
  },
  {
   "cell_type": "code",
   "execution_count": null,
   "metadata": {},
   "outputs": [],
   "source": [
    "(df1.equals(df2)) and (df1.dtypes.equals(df2.dtypes))\n"
   ]
  },
  {
   "cell_type": "code",
   "execution_count": null,
   "metadata": {},
   "outputs": [],
   "source": [
    "df_follows"
   ]
  },
  {
   "cell_type": "code",
   "execution_count": null,
   "metadata": {},
   "outputs": [],
   "source": [
    "df1 = df_follows"
   ]
  },
  {
   "cell_type": "code",
   "execution_count": null,
   "metadata": {},
   "outputs": [],
   "source": [
    "df1.columns, df2.columns"
   ]
  },
  {
   "cell_type": "code",
   "execution_count": null,
   "metadata": {},
   "outputs": [],
   "source": [
    "df_kind_7.iloc[12]['tags']"
   ]
  },
  {
   "cell_type": "code",
   "execution_count": null,
   "metadata": {},
   "outputs": [],
   "source": [
    "# df_all[df_all.kind == 3].groupby('pubkey')['content'].count().sort_values(ascending=False)\n",
    "\n",
    "# df_all.kind == 3\n",
    "kind_3 = df_all.kind == 3\n",
    "df_all[(kind_3) & (df_all['pubkey'] == \"43637a311a15f1c253b5d60778ab7544ac639b88e168e7224a900d4a41283183\")]['tags'].iloc[0]"
   ]
  },
  {
   "cell_type": "code",
   "execution_count": null,
   "metadata": {},
   "outputs": [],
   "source": [
    "dfr = parse_tags(\n",
    "    df_all[df_all[\"kind\"] == 7], filter_tag=[\"p\", \"e\"], keep_last=True\n",
    ")"
   ]
  },
  {
   "cell_type": "code",
   "execution_count": null,
   "metadata": {},
   "outputs": [],
   "source": [
    "dfr.columns"
   ]
  },
  {
   "cell_type": "code",
   "execution_count": null,
   "metadata": {},
   "outputs": [],
   "source": [
    "dfr.loc[dfr.id == '20f7c35d9a42a65e31a3b80d632aa5e1bdd2f0fc4aa8f9e920b7898ba47cc778']\n",
    "# dfr.loc[dfr.id == '20f7c35d9a42a65e31a3b80d632aa5e1bdd2f0fc4aa8f9e920b7898ba47cc778'].iloc[0]['pubkey']"
   ]
  },
  {
   "cell_type": "code",
   "execution_count": null,
   "metadata": {},
   "outputs": [],
   "source": [
    "len(dfr)"
   ]
  },
  {
   "cell_type": "code",
   "execution_count": null,
   "metadata": {},
   "outputs": [],
   "source": [
    "# dfr2 = dfr.groupby(['id', 'pubkey'])\n",
    "# dfr2 = dfr.replace({np.nan: None}).groupby(['id', 'pubkey'], as_index=False).first()\n",
    "dfr2 = dfr.groupby(['id', 'pubkey'], as_index=False).first()"
   ]
  },
  {
   "cell_type": "code",
   "execution_count": null,
   "metadata": {},
   "outputs": [],
   "source": [
    "dfr2[dfr2['id']=='20f7c35d9a42a65e31a3b80d632aa5e1bdd2f0fc4aa8f9e920b7898ba47cc778']"
   ]
  },
  {
   "cell_type": "code",
   "execution_count": null,
   "metadata": {},
   "outputs": [],
   "source": [
    "dfr2.get_group(('20f7c35d9a42a65e31a3b80d632aa5e1bdd2f0fc4aa8f9e920b7898ba47cc778', '93518f91dfa51d8acf39217cdcd3d2ccd178433cb9e72368544aacd7412cb50c'))\n"
   ]
  },
  {
   "cell_type": "code",
   "execution_count": null,
   "metadata": {},
   "outputs": [],
   "source": [
    "df_follow = parse_follows(df_all)\n",
    "df_follow.to_sql('follow', engine, if_exists=\"replace\")\n",
    "df_follow.to_csv(\"neo4j-import/follows.csv\")"
   ]
  },
  {
   "cell_type": "code",
   "execution_count": null,
   "metadata": {},
   "outputs": [],
   "source": [
    "df_kind_3 = query_db(\n",
    "    Session=Session,\n",
    "    kind=3\n",
    ")\n",
    "# df_follows = parse_tags(df_kind_3, output_col=\"follows\", filter_tag=\"p\")\n",
    "# df_follows.to_sql('follow', engine, if_exists=\"replace\")\n",
    "# df_follows.head(100).to_csv(\"follows.csv\", index=False)\n",
    "\n",
    "# follower_counts = df_follows.groupby('follows').size().reset_index(name='num_followers')\n",
    "# follower_counts.sort_values('num_followers', ascending=False)['follows'].iloc[0]"
   ]
  },
  {
   "cell_type": "code",
   "execution_count": null,
   "metadata": {},
   "outputs": [],
   "source": [
    "df_kind_3.head()"
   ]
  },
  {
   "cell_type": "code",
   "execution_count": null,
   "metadata": {},
   "outputs": [],
   "source": [
    "df_kind_3.columns"
   ]
  },
  {
   "cell_type": "code",
   "execution_count": null,
   "metadata": {},
   "outputs": [],
   "source": [
    "df2 = parse_tags(df_kind_3, 'fol', 'p')"
   ]
  },
  {
   "cell_type": "code",
   "execution_count": null,
   "metadata": {},
   "outputs": [],
   "source": []
  },
  {
   "cell_type": "code",
   "execution_count": null,
   "metadata": {},
   "outputs": [],
   "source": [
    "df_local = query_db(\n",
    "    Session=Session,\n",
    "    npub=local_npub1,\n",
    ")"
   ]
  },
  {
   "cell_type": "code",
   "execution_count": null,
   "metadata": {},
   "outputs": [],
   "source": [
    "df_local"
   ]
  },
  {
   "cell_type": "code",
   "execution_count": null,
   "metadata": {},
   "outputs": [],
   "source": [
    "dfm = df_local.reset_index(drop=True).explode(\"tags\")\n",
    "# df = df[df[\"tags\"].str[0] == \"e\"]"
   ]
  },
  {
   "cell_type": "code",
   "execution_count": null,
   "metadata": {},
   "outputs": [],
   "source": [
    "df_local"
   ]
  },
  {
   "cell_type": "code",
   "execution_count": null,
   "metadata": {},
   "outputs": [],
   "source": [
    "dfr1 = parse_reply_tags_old(df_local)\n",
    "dfr2 = parse_reply_tags(df_local)"
   ]
  },
  {
   "cell_type": "code",
   "execution_count": null,
   "metadata": {},
   "outputs": [],
   "source": [
    "dfm1 = parse_mention_tags_old(df_local)\n",
    "dfm2 = parse_mention_tags(df_local)"
   ]
  },
  {
   "cell_type": "code",
   "execution_count": null,
   "metadata": {},
   "outputs": [],
   "source": [
    "dfm1"
   ]
  },
  {
   "cell_type": "code",
   "execution_count": null,
   "metadata": {},
   "outputs": [],
   "source": [
    "dfm2"
   ]
  },
  {
   "cell_type": "code",
   "execution_count": null,
   "metadata": {},
   "outputs": [],
   "source": [
    "dfr1"
   ]
  },
  {
   "cell_type": "code",
   "execution_count": null,
   "metadata": {},
   "outputs": [],
   "source": [
    "dfr2"
   ]
  },
  {
   "cell_type": "code",
   "execution_count": null,
   "metadata": {},
   "outputs": [],
   "source": [
    "df_local.tags.iloc[1]"
   ]
  },
  {
   "cell_type": "code",
   "execution_count": null,
   "metadata": {},
   "outputs": [],
   "source": [
    "dfm"
   ]
  },
  {
   "cell_type": "code",
   "execution_count": null,
   "metadata": {},
   "outputs": [],
   "source": [
    "# read sql table with sqla\n",
    "with Session() as session:\n",
    "    results = session.query(Follow).all()\n",
    "df = pd.DataFrame([r.__dict__ for r in results])\n",
    "df = df.drop('_sa_instance_state', axis=1)\n",
    "\n",
    "\n",
    "# read sql table with raw sql query\n",
    "# sql_query = \"SELECT * FROM events\"\n",
    "# sql_query = \"SELECT * FROM events WHERE tags ? 't'\"\n",
    "sql_query = \"SELECT * FROM events WHERE tags->>'t' = 'sm41623576'\";\n",
    "\n",
    "df_results = pd.read_sql(sql_query, engine)"
   ]
  },
  {
   "cell_type": "code",
   "execution_count": null,
   "metadata": {},
   "outputs": [],
   "source": [
    "df"
   ]
  },
  {
   "cell_type": "code",
   "execution_count": null,
   "metadata": {},
   "outputs": [],
   "source": [
    "df_local.columns"
   ]
  },
  {
   "cell_type": "code",
   "execution_count": null,
   "metadata": {},
   "outputs": [],
   "source": [
    "df_local = get_events_by_time(df_local)\n",
    "df_local[[\"created_at\", \"day_of_week\", \"hour_of_day\"]]"
   ]
  },
  {
   "cell_type": "code",
   "execution_count": null,
   "metadata": {},
   "outputs": [],
   "source": [
    "PublicKey.from_hex('22dd8df1fed1da2574c4917146d93dcb679549aeead8f98cbbaf166d183662ad').to_bech32()"
   ]
  },
  {
   "cell_type": "code",
   "execution_count": null,
   "metadata": {},
   "outputs": [],
   "source": [
    "PublicKey.from_hex('3e1aaea217f0112e56221940e6f1086d59302c24b8879dac7afb901dc7998ae2').to_bech32()\n"
   ]
  },
  {
   "cell_type": "code",
   "execution_count": null,
   "metadata": {},
   "outputs": [],
   "source": [
    "len(all_events)"
   ]
  },
  {
   "cell_type": "code",
   "execution_count": null,
   "metadata": {},
   "outputs": [],
   "source": [
    "pd.to_pickle(df_all, 'df_all.pkl')"
   ]
  },
  {
   "cell_type": "code",
   "execution_count": null,
   "metadata": {},
   "outputs": [],
   "source": [
    "# df = pd.read_pickle('df_all.pkl')\n",
    "df_all.to_sql('event', engine, if_exists=\"replace\", dtype={'tags': JSONB,})"
   ]
  },
  {
   "cell_type": "code",
   "execution_count": null,
   "metadata": {},
   "outputs": [],
   "source": [
    "users = df.pubkey.unique()[:10]\n",
    "df_temp = df[df.pubkey.isin(users)]"
   ]
  },
  {
   "cell_type": "code",
   "execution_count": null,
   "metadata": {},
   "outputs": [],
   "source": [
    "EventId.from_hex(\"be169dcde5d3a423916827449f37bd09be0e2cbb34ddf62204d6c0ba97d03a0c\").to_bech32()"
   ]
  },
  {
   "cell_type": "code",
   "execution_count": null,
   "metadata": {},
   "outputs": [],
   "source": [
    "df_reply = parse_reply_tags(df)\n",
    "df_mention = parse_mention_tags(df)"
   ]
  },
  {
   "cell_type": "code",
   "execution_count": null,
   "metadata": {},
   "outputs": [],
   "source": [
    "df_reply.columns, df_mention.columns"
   ]
  },
  {
   "cell_type": "code",
   "execution_count": null,
   "metadata": {},
   "outputs": [],
   "source": [
    "df_mention"
   ]
  },
  {
   "cell_type": "code",
   "execution_count": null,
   "metadata": {},
   "outputs": [],
   "source": [
    "dft = df[df.pubkey.isin(top_pubkeys)]"
   ]
  },
  {
   "cell_type": "code",
   "execution_count": null,
   "metadata": {},
   "outputs": [],
   "source": [
    "top_pubkeys = df.groupby('pubkey').size().sort_values(ascending=False).index[5:10]"
   ]
  },
  {
   "cell_type": "code",
   "execution_count": null,
   "metadata": {},
   "outputs": [],
   "source": [
    "dft.groupby(['pubkey', 'kind']).size().reset_index()"
   ]
  },
  {
   "cell_type": "code",
   "execution_count": null,
   "metadata": {},
   "outputs": [],
   "source": [
    "df_mention.dtypes"
   ]
  },
  {
   "cell_type": "code",
   "execution_count": null,
   "metadata": {},
   "outputs": [],
   "source": [
    "dft.kind = dft.kind.astype(str)\n",
    "px.histogram(dft, x=\"pubkey\", color=\"kind\")\n",
    "\n",
    "# fig = px.histogram(\n",
    "#     x=df.kind.astype(str), title=f\"Histogram of events by kind for {npub_value}\"\n",
    "# )\n",
    "\n",
    "# px.histogram(dfx, x=\"kind\", y=\"count\", color=\"pubkey\", pattern_shape=\"nation\", pattern_shape_sequence=[\".\", \"x\", \"+\"])\n",
    "# px.bar(\n",
    "#     dft.groupby(['pubkey', 'kind']).size().reset_index(),\n",
    "#     )"
   ]
  },
  {
   "cell_type": "code",
   "execution_count": null,
   "metadata": {},
   "outputs": [],
   "source": [
    "df.groupby('pubkey').size().sort_values(ascending=False)[:10]"
   ]
  },
  {
   "cell_type": "code",
   "execution_count": null,
   "metadata": {},
   "outputs": [],
   "source": [
    "df.columns"
   ]
  },
  {
   "cell_type": "code",
   "execution_count": null,
   "metadata": {},
   "outputs": [],
   "source": [
    "df_mention.columns"
   ]
  },
  {
   "cell_type": "code",
   "execution_count": null,
   "metadata": {},
   "outputs": [],
   "source": [
    "df_temp"
   ]
  },
  {
   "cell_type": "code",
   "execution_count": null,
   "metadata": {},
   "outputs": [],
   "source": [
    "# df = px.data.tips()\n",
    "\n",
    "# fig = px.histogram(df, x=\"total_bill\", y=\"tip\", color=\"sex\", marginal=\"rug\", hover_data=df.columns)\n",
    "# fig.show()\n",
    "\n",
    "fig = px.histogram(df_temp, x=\"pubkey\", y=\"count\", color=\"kind\", pattern_shape=\"nation\", pattern_shape_sequence=[\".\", \"x\", \"+\"])\n",
    "# fig = px.histogram(df, x=\"total_bill\", y=\"tip\", color=\"sex\", marginal=\"rug\", hover_data=df.co lumns)\n",
    "fig.show()"
   ]
  },
  {
   "cell_type": "code",
   "execution_count": null,
   "metadata": {},
   "outputs": [],
   "source": [
    "# EventId.from_hex('3f770d65d3a764a9c5cb503ae123e62ec7598ad035d836e2a810f3877a745b24').to_bech32()\n",
    "# PublicKey.from_hex('3f770d65d3a764a9c5cb503ae123e62ec7598ad035d836e2a810f3877a745b24').to_bech32()"
   ]
  },
  {
   "cell_type": "code",
   "execution_count": null,
   "metadata": {},
   "outputs": [],
   "source": [
    "grp = df_reply.groupby('event_id').size().reset_index(name='count')\n",
    "grp.sort_values('count', ascending=False)['event_id'].iloc[0]"
   ]
  },
  {
   "cell_type": "code",
   "execution_count": null,
   "metadata": {},
   "outputs": [],
   "source": [
    "# thread\n",
    "df_reply[df_reply.event_id == orig_id].sort_values('created_at', ascending=True)['source_id'].iloc[0]"
   ]
  },
  {
   "cell_type": "code",
   "execution_count": null,
   "metadata": {},
   "outputs": [],
   "source": [
    "pablo = \"npub1l2vyh47mk2p0qlsku7hg0vn29faehy9hy34ygaclpn66ukqp3afqutajft\"\n",
    "PublicKey.from_bech32(pablo).to_hex()"
   ]
  },
  {
   "cell_type": "code",
   "execution_count": null,
   "metadata": {},
   "outputs": [],
   "source": [
    "pablo = \"npub1l2vyh47mk2p0qlsku7hg0vn29faehy9hy34ygaclpn66ukqp3afqutajft\"\n",
    "pk = PublicKey.from_bech32(pablo)\n",
    "filter = Filter().author(pk.to_hex()).limit(50000)\n",
    "\n",
    "events_pablo = client.get_events_of([filter], timedelta(seconds=1000))\n",
    "df_pablo = pd.DataFrame([json.loads(event.as_json()) for event in events_pablo]).set_index(\"id\")"
   ]
  },
  {
   "cell_type": "code",
   "execution_count": null,
   "metadata": {},
   "outputs": [],
   "source": [
    "def get_events(npub):\n",
    "    # Subtract 7 days from the current date and time\n",
    "    start_ts = (datetime.now() - timedelta(days=7)).timestamp()\n",
    "    # timestamp = int(seven_days_ago.timestamp())\n",
    "    pk = PublicKey.from_bech32(npub)\n",
    "    filter = Filter().author(pk.to_hex()).since(start_ts)\n",
    "    event = client.get_events_of([filter], timedelta(seconds=1000))"
   ]
  },
  {
   "cell_type": "code",
   "execution_count": null,
   "metadata": {},
   "outputs": [],
   "source": [
    "df_pablo = pd.read_pickle('pablo.pkl')"
   ]
  },
  {
   "cell_type": "code",
   "execution_count": null,
   "metadata": {},
   "outputs": [],
   "source": [
    "# pd.to_pickle(df_pablo, 'pablo.pkl')\n",
    "len(df_pablo)"
   ]
  },
  {
   "cell_type": "code",
   "execution_count": null,
   "metadata": {},
   "outputs": [],
   "source": [
    "temp = df_pablo.loc['5ff739f0d1998ed71a52e45d043a1a98d95aa4cac4072d7046cc01df448b5227'].iloc[0]['tags'][0]"
   ]
  },
  {
   "cell_type": "code",
   "execution_count": null,
   "metadata": {},
   "outputs": [],
   "source": [
    "# df.to_sql('events', engine, if_exists=\"replace\", dtype={\n",
    "#     'tags': JSONB,\n",
    "#     'tags_relay_url': JSONB,\n",
    "# })\n",
    "\n",
    "# df_e.to_sql('replys', engine, if_exists=\"replace\")\n",
    "# df_p.to_sql('mentions', engine, if_exists=\"replace\")"
   ]
  },
  {
   "cell_type": "code",
   "execution_count": null,
   "metadata": {},
   "outputs": [],
   "source": [
    "df_pablo.columns"
   ]
  },
  {
   "cell_type": "code",
   "execution_count": null,
   "metadata": {},
   "outputs": [],
   "source": [
    "df_reply.columns"
   ]
  },
  {
   "cell_type": "code",
   "execution_count": null,
   "metadata": {},
   "outputs": [],
   "source": [
    "df_mention.columns"
   ]
  },
  {
   "cell_type": "code",
   "execution_count": null,
   "metadata": {},
   "outputs": [],
   "source": [
    "grp = df_e.groupby('event_id').size().reset_index(name='count')"
   ]
  },
  {
   "cell_type": "code",
   "execution_count": null,
   "metadata": {},
   "outputs": [],
   "source": [
    "grp.sort_values('count', ascending=False)['event_id'].iloc[2]"
   ]
  },
  {
   "cell_type": "code",
   "execution_count": null,
   "metadata": {},
   "outputs": [],
   "source": [
    "# EventId.from_hex('ef53730b18bc0a77db1078f66bebe516a13e10e036357e2750e7890da1ae047c').to_bech32()\n",
    "EventId.from_hex('b6b186d3a97cb621ada7ffea9f26589c32643802b012024f4a1f2bc850faef5b') # should be nevent1 not note1\n"
   ]
  },
  {
   "cell_type": "code",
   "execution_count": null,
   "metadata": {},
   "outputs": [],
   "source": [
    "EventId.from_hex('b6b186d3a97cb621ada7ffea9f26589c32643802b012024f4a1f2bc850faef5b').to_bech32()"
   ]
  },
  {
   "cell_type": "code",
   "execution_count": null,
   "metadata": {},
   "outputs": [],
   "source": [
    "df_e[df_e.event_id == 'a6f436a59fdb5e23c757b1e30478742996c54413df777843e0a731af56a96eea']['source_id'].iloc[0]"
   ]
  },
  {
   "cell_type": "code",
   "execution_count": null,
   "metadata": {},
   "outputs": [],
   "source": [
    "results = pd.read_sql(\"select * from replys\", engine)"
   ]
  },
  {
   "cell_type": "code",
   "execution_count": null,
   "metadata": {},
   "outputs": [],
   "source": [
    "df_e.head()"
   ]
  },
  {
   "cell_type": "code",
   "execution_count": null,
   "metadata": {},
   "outputs": [],
   "source": [
    "results"
   ]
  },
  {
   "cell_type": "code",
   "execution_count": null,
   "metadata": {},
   "outputs": [],
   "source": [
    "df_e['e_col4'].unique()"
   ]
  },
  {
   "cell_type": "code",
   "execution_count": null,
   "metadata": {},
   "outputs": [],
   "source": [
    "df_p['p_col3'].unique()"
   ]
  },
  {
   "cell_type": "code",
   "execution_count": null,
   "metadata": {},
   "outputs": [],
   "source": [
    "df_pablo.head()"
   ]
  },
  {
   "cell_type": "code",
   "execution_count": null,
   "metadata": {},
   "outputs": [],
   "source": [
    "tags_count = []\n",
    "for item in df_pablo['tags']:\n",
    "    print(item)\n",
    "    break\n",
    "# result = [(lst[0], len(lst)) if lst else (None, 0) for lst in df_pablo['tags']]\n",
    "\n",
    "# print(result)"
   ]
  },
  {
   "cell_type": "code",
   "execution_count": null,
   "metadata": {},
   "outputs": [],
   "source": [
    "result[0]"
   ]
  },
  {
   "cell_type": "code",
   "execution_count": null,
   "metadata": {},
   "outputs": [],
   "source": [
    "df_pablo.iloc[1]['tags']"
   ]
  },
  {
   "cell_type": "code",
   "execution_count": null,
   "metadata": {},
   "outputs": [],
   "source": [
    "# def query_events(client, kind=None, num_limit=1000):\n",
    "filter = Filter().limit(50000)\n",
    "events = client.get_events_of([filter], timedelta(seconds=1000))\n",
    "df = pd.DataFrame([json.loads(event.as_json()) for event in events]).set_index(\"id\")"
   ]
  },
  {
   "cell_type": "code",
   "execution_count": null,
   "metadata": {},
   "outputs": [],
   "source": [
    "out = df['tags'].apply(lambda x: x.keys() if x else None)"
   ]
  },
  {
   "cell_type": "code",
   "execution_count": null,
   "metadata": {},
   "outputs": [],
   "source": [
    "df.tags.iloc[0]"
   ]
  },
  {
   "cell_type": "code",
   "execution_count": null,
   "metadata": {},
   "outputs": [],
   "source": [
    "from collections import defaultdict\n",
    "all_tags = defaultdict(int)\n",
    "for row in out.values:\n",
    "    if row is None:\n",
    "        continue\n",
    "    for item in list(row):\n",
    "        all_tags[item] += 1"
   ]
  },
  {
   "cell_type": "code",
   "execution_count": null,
   "metadata": {},
   "outputs": [],
   "source": [
    "all_tags"
   ]
  },
  {
   "cell_type": "code",
   "execution_count": null,
   "metadata": {},
   "outputs": [],
   "source": [
    "len(all_tags)"
   ]
  },
  {
   "cell_type": "code",
   "execution_count": null,
   "metadata": {},
   "outputs": [],
   "source": [
    "df.iloc[0]['pubkey']"
   ]
  },
  {
   "cell_type": "code",
   "execution_count": null,
   "metadata": {},
   "outputs": [],
   "source": [
    "# Using the `size` method which returns the count of each group\n",
    "grouped = df.groupby('pubkey').size().reset_index(name='count')\n",
    "\n",
    "# OR using the `count` method\n",
    "# grouped = df.groupby('kind')['kind'].count().reset_index(name='count')\n"
   ]
  },
  {
   "cell_type": "code",
   "execution_count": null,
   "metadata": {},
   "outputs": [],
   "source": [
    "grouped.sort_values('count', ascending=False).head(10)"
   ]
  },
  {
   "cell_type": "code",
   "execution_count": null,
   "metadata": {},
   "outputs": [],
   "source": [
    "# pd.to_pickle(df, 'events_50000.pkl')\n",
    "# df = pd.read_pickle('events_100.pkl')"
   ]
  },
  {
   "cell_type": "code",
   "execution_count": null,
   "metadata": {},
   "outputs": [],
   "source": [
    "PublicKey.from_hex(df_pablo.pubkey.unique()[0]).to_bech32()"
   ]
  },
  {
   "cell_type": "code",
   "execution_count": null,
   "metadata": {},
   "outputs": [],
   "source": [
    "for i in range(20):\n",
    "    print(df_pablo.iloc[i]['tags'])"
   ]
  },
  {
   "cell_type": "code",
   "execution_count": null,
   "metadata": {},
   "outputs": [],
   "source": [
    "df_pablo.to_sql('pablo', engine, if_exists=\"replace\", dtype={'tags': JSONB})"
   ]
  },
  {
   "cell_type": "code",
   "execution_count": null,
   "metadata": {},
   "outputs": [],
   "source": [
    "# df = query_relay(client)\n",
    "# loses association with key (e or p may have different relay url)\n",
    "df[\"tags_relay_url\"] = df[\"tags\"].apply(\n",
    "    lambda x: {item[0]: item[2] for item in x if len(item) > 2} or None\n",
    ")\n",
    "df['tags'] = df['tags'].apply(lambda x: {item[0]: item[1] if len(item) > 1 else None for item in x} or None)\n",
    "\n",
    "df.to_sql('events', engine, if_exists=\"replace\", dtype={\n",
    "    'tags': JSONB,\n",
    "    'tags_relay_url': JSONB,\n",
    "})\n",
    "\n",
    "# sql_query = \"SELECT * FROM events\"\n",
    "# sql_query = \"SELECT * FROM events WHERE tags ? 't'\"\n",
    "# sql_query = \"SELECT * FROM events;\"\n",
    "\n",
    "# df_results = pd.read_sql(sql_query, engine)\n"
   ]
  },
  {
   "cell_type": "code",
   "execution_count": null,
   "metadata": {},
   "outputs": [],
   "source": [
    "# Create a SQLAlchemy engine and session factory\n",
    "Session = sessionmaker(bind=engine)\n",
    "\n",
    "# Define the ORM class for the 'events' table\n",
    "Base = declarative_base()\n",
    "\n",
    "class Events(Base):\n",
    "    __tablename__ = \"events\"\n",
    "    id = Column(String, primary_key=True)\n",
    "    created_at = Column(BigInteger)\n",
    "    kind = Column(BigInteger)\n",
    "    tags = Column(JSONB)\n",
    "    tags_relay_url = Column(JSONB)\n",
    "    pubkey = Column(String)\n",
    "    content = Column(String)\n",
    "    sig = Column(String)\n"
   ]
  },
  {
   "cell_type": "code",
   "execution_count": null,
   "metadata": {},
   "outputs": [],
   "source": [
    "df.groupby('pubkey').size()"
   ]
  },
  {
   "cell_type": "code",
   "execution_count": null,
   "metadata": {},
   "outputs": [],
   "source": [
    "# Create a session and query the table using the ORM\n",
    "with Session() as session:\n",
    "    results = session.query(Events).all()\n",
    "\n",
    "# Convert the results into a pandas DataFrame\n",
    "df = pd.DataFrame([r.__dict__ for r in results])\n",
    "\n",
    "# Removing unnecessary meta-data related columns\n",
    "# df = df.drop('_sa_instance_state', axis=1)\n",
    "\n",
    "print(df)"
   ]
  },
  {
   "cell_type": "code",
   "execution_count": null,
   "metadata": {},
   "outputs": [],
   "source": [
    "npub = \"npub1dergggklka99wwrs92yz8wdjs952h2ux2ha2ed598ngwu9w7a6fsh9xzpc\"\n",
    "pk = PublicKey.from_bech32(npub)\n",
    "pk.to_hex()"
   ]
  },
  {
   "cell_type": "code",
   "execution_count": null,
   "metadata": {},
   "outputs": [],
   "source": [
    "event_id = EventId.from_hex(df.loc[0, 'id'])\n",
    "event_id.to_bech32()"
   ]
  },
  {
   "cell_type": "code",
   "execution_count": null,
   "metadata": {},
   "outputs": [],
   "source": [
    "event_id.to_bech32()"
   ]
  },
  {
   "cell_type": "code",
   "execution_count": null,
   "metadata": {},
   "outputs": [],
   "source": [
    "type(keys), type(keys.public_key()), type(keys.public_key().to_bech32())"
   ]
  },
  {
   "cell_type": "code",
   "execution_count": null,
   "metadata": {},
   "outputs": [],
   "source": [
    "# create kind name -> kind val dict\n",
    "# handle 3rd field (recommended relay url optional) in tag list (see nips1)\n",
    "# get events for all kinds\n",
    "# get zaps\n",
    "# large query"
   ]
  },
  {
   "cell_type": "code",
   "execution_count": null,
   "metadata": {},
   "outputs": [],
   "source": [
    "def query_zaps():\n",
    "    filter = Filter().kind(9735).limit(10)\n",
    "    events = client.get_events_of([filter], timedelta(seconds=10))\n",
    "    return pd.DataFrame([json.loads(event.as_json()) for event in events])"
   ]
  }
 ],
 "metadata": {
  "kernelspec": {
   "display_name": "nos",
   "language": "python",
   "name": "python3"
  },
  "language_info": {
   "codemirror_mode": {
    "name": "ipython",
    "version": 3
   },
   "file_extension": ".py",
   "mimetype": "text/x-python",
   "name": "python",
   "nbconvert_exporter": "python",
   "pygments_lexer": "ipython3",
   "version": "3.10.12"
  },
  "orig_nbformat": 4
 },
 "nbformat": 4,
 "nbformat_minor": 2
}
