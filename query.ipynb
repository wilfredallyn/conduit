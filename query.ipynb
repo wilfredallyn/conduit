{
 "cells": [
  {
   "cell_type": "code",
   "execution_count": 2,
   "metadata": {},
   "outputs": [],
   "source": [
    "import pandas as pd\n",
    "import json\n",
    "from nostr_sdk import Keys, Client, EventBuilder, Filter, PublicKey\n",
    "from datetime import timedelta\n",
    "import time"
   ]
  },
  {
   "cell_type": "code",
   "execution_count": 5,
   "metadata": {},
   "outputs": [
    {
     "name": "stdout",
     "output_type": "stream",
     "text": [
      "npub1v9wndp52p34hqcvdqkdgw0ut87hfxsva6gj9tfh0kylygc4juyeszc3cht\n"
     ]
    }
   ],
   "source": [
    "keys = Keys.generate()\n",
    "print(keys.public_key().to_bech32())\n",
    "client = Client(keys)\n",
    "client.add_relay(\"wss://relay.damus.io\")\n",
    "client.connect()\n",
    "# PublicKey.from_hex('031ea306188fee631a86f1a0e49cee8f3d62592b2e7be5f8eb1788e327db340a').to_bech32()"
   ]
  },
  {
   "cell_type": "code",
   "execution_count": 6,
   "metadata": {},
   "outputs": [
    {
     "data": {
      "text/plain": [
       "(nostr_sdk.nostr_sdk.Keys, nostr_sdk.nostr_sdk.PublicKey, str)"
      ]
     },
     "execution_count": 6,
     "metadata": {},
     "output_type": "execute_result"
    }
   ],
   "source": [
    "type(keys), type(keys.public_key()), type(keys.public_key().to_bech32())"
   ]
  },
  {
   "cell_type": "code",
   "execution_count": 7,
   "metadata": {},
   "outputs": [],
   "source": [
    "def query_events(pubkey):\n",
    "    pk = PublicKey.from_bech32(pubkey)\n",
    "    filter = Filter().kind(1).author(pk.to_hex()).limit(10)\n",
    "    events = client.get_events_of([filter], timedelta(seconds=10))\n",
    "    return pd.DataFrame([json.loads(event.as_json()) for event in events])\n",
    "    "
   ]
  },
  {
   "cell_type": "code",
   "execution_count": 8,
   "metadata": {},
   "outputs": [],
   "source": [
    "dfd = query_events(\"npub1dergggklka99wwrs92yz8wdjs952h2ux2ha2ed598ngwu9w7a6fsh9xzpc\")"
   ]
  },
  {
   "cell_type": "code",
   "execution_count": 11,
   "metadata": {},
   "outputs": [],
   "source": [
    "filter = Filter().kind(1).limit(100)\n",
    "events = client.get_events_of([filter], timedelta(seconds=10))\n",
    "df = pd.DataFrame([json.loads(event.as_json()) for event in events])"
   ]
  },
  {
   "cell_type": "code",
   "execution_count": 14,
   "metadata": {},
   "outputs": [],
   "source": [
    "df.to_csv('events_100.csv')"
   ]
  },
  {
   "cell_type": "code",
   "execution_count": null,
   "metadata": {},
   "outputs": [],
   "source": [
    "# convert hex to bech32: 031ea306188fee631a86f1a0e49cee8f3d62592b2e7be5f8eb1788e327db340a"
   ]
  },
  {
   "cell_type": "code",
   "execution_count": 15,
   "metadata": {},
   "outputs": [
    {
     "data": {
      "text/plain": [
       "'まだやってるのか・・・＞【声出し復活！】チルノのパーフェクトさんすう教室踊ってみたオフ2023 in 北海道 【バーカ！バーカ！】#チルノオフ\\nhttps://www.nicovideo.jp/watch/sm41623576?ref=nostr\\n#sm41623576\\n#ニコニコ動画'"
      ]
     },
     "execution_count": 15,
     "metadata": {},
     "output_type": "execute_result"
    }
   ],
   "source": [
    "df.loc[0, 'content']"
   ]
  },
  {
   "cell_type": "code",
   "execution_count": 17,
   "metadata": {},
   "outputs": [],
   "source": [
    "df.to_pickle('events_100.pkl')"
   ]
  },
  {
   "cell_type": "code",
   "execution_count": 18,
   "metadata": {},
   "outputs": [],
   "source": [
    "df2 = pd.read_pickle('events_100.pkl')"
   ]
  },
  {
   "cell_type": "code",
   "execution_count": 19,
   "metadata": {},
   "outputs": [
    {
     "data": {
      "text/html": [
       "<div>\n",
       "<style scoped>\n",
       "    .dataframe tbody tr th:only-of-type {\n",
       "        vertical-align: middle;\n",
       "    }\n",
       "\n",
       "    .dataframe tbody tr th {\n",
       "        vertical-align: top;\n",
       "    }\n",
       "\n",
       "    .dataframe thead th {\n",
       "        text-align: right;\n",
       "    }\n",
       "</style>\n",
       "<table border=\"1\" class=\"dataframe\">\n",
       "  <thead>\n",
       "    <tr style=\"text-align: right;\">\n",
       "      <th></th>\n",
       "      <th>content</th>\n",
       "      <th>created_at</th>\n",
       "      <th>id</th>\n",
       "      <th>kind</th>\n",
       "      <th>pubkey</th>\n",
       "      <th>sig</th>\n",
       "      <th>tags</th>\n",
       "    </tr>\n",
       "  </thead>\n",
       "  <tbody>\n",
       "    <tr>\n",
       "      <th>0</th>\n",
       "      <td>まだやってるのか・・・＞【声出し復活！】チルノのパーフェクトさんすう教室踊ってみたオフ202...</td>\n",
       "      <td>1694435660</td>\n",
       "      <td>aa140b39d834edf433980e6fe7d0f6a011e4ee0ba435f8...</td>\n",
       "      <td>1</td>\n",
       "      <td>1f617e368ce633acef348a2f755dd0a459e56e39476669...</td>\n",
       "      <td>51c2b9fb88895aab8cecf762cafaf8b921ec92bbf2eb6d...</td>\n",
       "      <td>[[t, sm41623576], [client, coracle]]</td>\n",
       "    </tr>\n",
       "    <tr>\n",
       "      <th>1</th>\n",
       "      <td>What is the last thing to go through a fly's m...</td>\n",
       "      <td>1694435658</td>\n",
       "      <td>6fd2ab59dfd3a0979581ec04969069221ae0491cc22570...</td>\n",
       "      <td>1</td>\n",
       "      <td>d690ba058d9c4f6f4fc91438289817df19da4e04494dc4...</td>\n",
       "      <td>38a2bb0645731613941d388c304c31ae96f6939abf190b...</td>\n",
       "      <td>[]</td>\n",
       "    </tr>\n",
       "    <tr>\n",
       "      <th>2</th>\n",
       "      <td>https://image.nostr.build/f432803781d6004bed1a...</td>\n",
       "      <td>1694435656</td>\n",
       "      <td>232ee4cfbdd378cc20c6ab0e7bb7e4912c8344d0d8bba8...</td>\n",
       "      <td>1</td>\n",
       "      <td>78e47dfe683faf1869a5378aa4b4a52d768d799bd8eb38...</td>\n",
       "      <td>a07421297ab12e1e51f21fec894b7b16becf857a9f8b6f...</td>\n",
       "      <td>[]</td>\n",
       "    </tr>\n",
       "    <tr>\n",
       "      <th>3</th>\n",
       "      <td>Most great people have attained their greatest...</td>\n",
       "      <td>1694435652</td>\n",
       "      <td>c0889790ead173575e57fdf7adbb053093d1f7b4d72c38...</td>\n",
       "      <td>1</td>\n",
       "      <td>1987f7a6dab8428d8fd14721fbaf1ff28a2c61817f86dc...</td>\n",
       "      <td>4d897f9cb7541714be1b912707c789b946a673de402ae9...</td>\n",
       "      <td>[]</td>\n",
       "    </tr>\n",
       "    <tr>\n",
       "      <th>4</th>\n",
       "      <td>wow makna sat ternyata dalam juga ya. cocok ba...</td>\n",
       "      <td>1694435650</td>\n",
       "      <td>d277c1c96983b576eda19718b8855d26e20d223d9ff6e4...</td>\n",
       "      <td>1</td>\n",
       "      <td>c3495ddc53079b931f8727e7f7428c93f1612266210c0a...</td>\n",
       "      <td>af3e10de065b4e324d0cd9c266b89f88a260648d98ed79...</td>\n",
       "      <td>[]</td>\n",
       "    </tr>\n",
       "    <tr>\n",
       "      <th>...</th>\n",
       "      <td>...</td>\n",
       "      <td>...</td>\n",
       "      <td>...</td>\n",
       "      <td>...</td>\n",
       "      <td>...</td>\n",
       "      <td>...</td>\n",
       "      <td>...</td>\n",
       "    </tr>\n",
       "    <tr>\n",
       "      <th>95</th>\n",
       "      <td>https://youtu.be/--bIyenPc20?si=rOBaQ3hhSm-Svx...</td>\n",
       "      <td>1694435410</td>\n",
       "      <td>46493cc0e9c8137599f41fb600a7b588fddb72b8881e50...</td>\n",
       "      <td>1</td>\n",
       "      <td>cd68b38a24db7f395d26fa1a053b5bffdfe35f7811af53...</td>\n",
       "      <td>ad583e0653836a97a8f5bb1f902d922d9ab9fecc4bc697...</td>\n",
       "      <td>[[t, 911]]</td>\n",
       "    </tr>\n",
       "    <tr>\n",
       "      <th>96</th>\n",
       "      <td>風呂った</td>\n",
       "      <td>1694435409</td>\n",
       "      <td>f550e8635da04c6c98e26db72971d1189ff0af17cb7f33...</td>\n",
       "      <td>1</td>\n",
       "      <td>0c9b1e9fef76c88b63f86645dc33bb7777f0259ec41e67...</td>\n",
       "      <td>93abb20e2c40fff22542321f3ddd6153ddcbe2bc848079...</td>\n",
       "      <td>[]</td>\n",
       "    </tr>\n",
       "    <tr>\n",
       "      <th>97</th>\n",
       "      <td>Gm and pv! Have a great day fren ☯️💜⚡🫂</td>\n",
       "      <td>1694435409</td>\n",
       "      <td>b152009f4ebc328b9cfb3a2a2859ae04a38e762d5efde2...</td>\n",
       "      <td>1</td>\n",
       "      <td>f839fb6714598a7233d09dbd42af82cc9781d0faa57474...</td>\n",
       "      <td>96cd0d7d3ff218e47b9ce6d613adeea63e924a37abc7b0...</td>\n",
       "      <td>[[e, f4aa3e803d1069a54bea8d9f36f44be72d9340c42...</td>\n",
       "    </tr>\n",
       "    <tr>\n",
       "      <th>98</th>\n",
       "      <td>Fancy.</td>\n",
       "      <td>1694435408</td>\n",
       "      <td>968a5d10c7283c08bd4d7a526325f6cbf93e1f3e79c54d...</td>\n",
       "      <td>1</td>\n",
       "      <td>717d4b62ed661dec51fb39962728a424dd00f8edb68da2...</td>\n",
       "      <td>642de29575434285741163a98de7b899f8d8dd6b8317ab...</td>\n",
       "      <td>[[e, 0f9390a6cc2fcac800fa253964ca151576ae4557a...</td>\n",
       "    </tr>\n",
       "    <tr>\n",
       "      <th>99</th>\n",
       "      <td>pong...🏓⚡</td>\n",
       "      <td>1694435404</td>\n",
       "      <td>6b9674b320a6114d0870875d610b34640a31bddc2c1a0c...</td>\n",
       "      <td>1</td>\n",
       "      <td>fcea9f4a6116e48b26bde24eee5b127377d331489c2039...</td>\n",
       "      <td>b3b0be15d12b1c0c7004f17563a8a672218d45e6cdb39a...</td>\n",
       "      <td>[]</td>\n",
       "    </tr>\n",
       "  </tbody>\n",
       "</table>\n",
       "<p>100 rows × 7 columns</p>\n",
       "</div>"
      ],
      "text/plain": [
       "                                              content  created_at  \\\n",
       "0   まだやってるのか・・・＞【声出し復活！】チルノのパーフェクトさんすう教室踊ってみたオフ202...  1694435660   \n",
       "1   What is the last thing to go through a fly's m...  1694435658   \n",
       "2   https://image.nostr.build/f432803781d6004bed1a...  1694435656   \n",
       "3   Most great people have attained their greatest...  1694435652   \n",
       "4   wow makna sat ternyata dalam juga ya. cocok ba...  1694435650   \n",
       "..                                                ...         ...   \n",
       "95  https://youtu.be/--bIyenPc20?si=rOBaQ3hhSm-Svx...  1694435410   \n",
       "96                                               風呂った  1694435409   \n",
       "97             Gm and pv! Have a great day fren ☯️💜⚡🫂  1694435409   \n",
       "98                                            Fancy.   1694435408   \n",
       "99                                          pong...🏓⚡  1694435404   \n",
       "\n",
       "                                                   id  kind  \\\n",
       "0   aa140b39d834edf433980e6fe7d0f6a011e4ee0ba435f8...     1   \n",
       "1   6fd2ab59dfd3a0979581ec04969069221ae0491cc22570...     1   \n",
       "2   232ee4cfbdd378cc20c6ab0e7bb7e4912c8344d0d8bba8...     1   \n",
       "3   c0889790ead173575e57fdf7adbb053093d1f7b4d72c38...     1   \n",
       "4   d277c1c96983b576eda19718b8855d26e20d223d9ff6e4...     1   \n",
       "..                                                ...   ...   \n",
       "95  46493cc0e9c8137599f41fb600a7b588fddb72b8881e50...     1   \n",
       "96  f550e8635da04c6c98e26db72971d1189ff0af17cb7f33...     1   \n",
       "97  b152009f4ebc328b9cfb3a2a2859ae04a38e762d5efde2...     1   \n",
       "98  968a5d10c7283c08bd4d7a526325f6cbf93e1f3e79c54d...     1   \n",
       "99  6b9674b320a6114d0870875d610b34640a31bddc2c1a0c...     1   \n",
       "\n",
       "                                               pubkey  \\\n",
       "0   1f617e368ce633acef348a2f755dd0a459e56e39476669...   \n",
       "1   d690ba058d9c4f6f4fc91438289817df19da4e04494dc4...   \n",
       "2   78e47dfe683faf1869a5378aa4b4a52d768d799bd8eb38...   \n",
       "3   1987f7a6dab8428d8fd14721fbaf1ff28a2c61817f86dc...   \n",
       "4   c3495ddc53079b931f8727e7f7428c93f1612266210c0a...   \n",
       "..                                                ...   \n",
       "95  cd68b38a24db7f395d26fa1a053b5bffdfe35f7811af53...   \n",
       "96  0c9b1e9fef76c88b63f86645dc33bb7777f0259ec41e67...   \n",
       "97  f839fb6714598a7233d09dbd42af82cc9781d0faa57474...   \n",
       "98  717d4b62ed661dec51fb39962728a424dd00f8edb68da2...   \n",
       "99  fcea9f4a6116e48b26bde24eee5b127377d331489c2039...   \n",
       "\n",
       "                                                  sig  \\\n",
       "0   51c2b9fb88895aab8cecf762cafaf8b921ec92bbf2eb6d...   \n",
       "1   38a2bb0645731613941d388c304c31ae96f6939abf190b...   \n",
       "2   a07421297ab12e1e51f21fec894b7b16becf857a9f8b6f...   \n",
       "3   4d897f9cb7541714be1b912707c789b946a673de402ae9...   \n",
       "4   af3e10de065b4e324d0cd9c266b89f88a260648d98ed79...   \n",
       "..                                                ...   \n",
       "95  ad583e0653836a97a8f5bb1f902d922d9ab9fecc4bc697...   \n",
       "96  93abb20e2c40fff22542321f3ddd6153ddcbe2bc848079...   \n",
       "97  96cd0d7d3ff218e47b9ce6d613adeea63e924a37abc7b0...   \n",
       "98  642de29575434285741163a98de7b899f8d8dd6b8317ab...   \n",
       "99  b3b0be15d12b1c0c7004f17563a8a672218d45e6cdb39a...   \n",
       "\n",
       "                                                 tags  \n",
       "0                [[t, sm41623576], [client, coracle]]  \n",
       "1                                                  []  \n",
       "2                                                  []  \n",
       "3                                                  []  \n",
       "4                                                  []  \n",
       "..                                                ...  \n",
       "95                                         [[t, 911]]  \n",
       "96                                                 []  \n",
       "97  [[e, f4aa3e803d1069a54bea8d9f36f44be72d9340c42...  \n",
       "98  [[e, 0f9390a6cc2fcac800fa253964ca151576ae4557a...  \n",
       "99                                                 []  \n",
       "\n",
       "[100 rows x 7 columns]"
      ]
     },
     "execution_count": 19,
     "metadata": {},
     "output_type": "execute_result"
    }
   ],
   "source": [
    "df2"
   ]
  },
  {
   "cell_type": "code",
   "execution_count": 55,
   "metadata": {},
   "outputs": [
    {
     "data": {
      "text/plain": [
       "('787338757fc25d65cd929394d5e7713cf43638e8d259e8dcf5c73b834eb851f2',\n",
       " 'nostr:npub10pensatlcfwktnvjjw2dtem38n6rvw8g6fv73h84cuacxn4c28eqyfn34f')"
      ]
     },
     "execution_count": 55,
     "metadata": {},
     "output_type": "execute_result"
    }
   ],
   "source": [
    "pk.to_hex(), pk.to_nostr_uri()"
   ]
  },
  {
   "cell_type": "code",
   "execution_count": 47,
   "metadata": {},
   "outputs": [
    {
     "name": "stdout",
     "output_type": "stream",
     "text": [
      "{\"content\":\"Let's make things pretty. And useful. And awesome. #nostrdesign \\n\\nhttps://nostrdesign.org/\",\"created_at\":1694211711,\"id\":\"f9ce617c89cbe10168a11d67ec7cc4695ec35592cee0d4f7ac8267dd09543dad\",\"kind\":1,\"pubkey\":\"787338757fc25d65cd929394d5e7713cf43638e8d259e8dcf5c73b834eb851f2\",\"sig\":\"c2c4a6f76aab7f25236acffabd15e9c9cd9874d1f410355ab7bca254086bd3a838fe68cf6e48870e993e5a69eef20a4d93d9dd6e08af45f29c0ac7aa141ddc7a\",\"tags\":[[\"t\",\"nostrdesign\"],[\"t\",\"nostrdesign\"],[\"r\",\"https://nostrdesign.org/\"]]}\n",
      "{\"content\":\"Thank you nostr:npub1r0rs5q2gk0e3dk3nlc7gnu378ec6cnlenqp8a3cjhyzu6f8k5sgs4sq9ac and nostr:npub10000003zmk89narqpczy4ff6rnuht2wu05na7kpnh3mak7z2tqzsv8vwqk for spearheading this initiative 🙏💜\",\"created_at\":1694211554,\"id\":\"e68984b1d8f393595fc5ed7b36d1bc4700c9b6bacbae7d5f5c43c4a455b7bedb\",\"kind\":1,\"pubkey\":\"787338757fc25d65cd929394d5e7713cf43638e8d259e8dcf5c73b834eb851f2\",\"sig\":\"c3b8cd38acecd6c376796bcb87709b1998c38e14109a6c7434f6930042bf8e9712a5fdcff36b46a0af9c61e5cd0ca3921f44ab94c051849fc78df4f978654608\",\"tags\":[[\"e\",\"3c1957931ef93baba7dccbdb3e32679ca21fdf035f7ebbd6434667ed89dee833\",\"\",\"reply\"],[\"p\",\"787338757fc25d65cd929394d5e7713cf43638e8d259e8dcf5c73b834eb851f2\"],[\"p\",\"1bc70a0148b3f316da33fe3c89f23e3e71ac4ff998027ec712b905cd24f6a411\",\"\",\"mention\"],[\"p\",\"7bdef7be22dd8e59f4600e044aa53a1cf975a9dc7d27df5833bc77db784a5805\",\"\",\"mention\"]]}\n",
      "{\"content\":\"Are you working on an open-source project that needs some design help? Want to improve the UX of your nostr app? \\n\\nUse #nostrdesign to summon help or reach out to design@opensats.org \\n https://opensats.org/blog/announcing-nostr-design\",\"created_at\":1694211510,\"id\":\"3c1957931ef93baba7dccbdb3e32679ca21fdf035f7ebbd6434667ed89dee833\",\"kind\":1,\"pubkey\":\"787338757fc25d65cd929394d5e7713cf43638e8d259e8dcf5c73b834eb851f2\",\"sig\":\"7eb77f8a015004bf4600c5d35933f1b0d4c876d543f91434c11101dafa97a9ad9ce315411b291b09e08bd56759725fa148ac68289ac4b953499ac4d64b1cf59b\",\"tags\":[[\"t\",\"nostrdesign\"],[\"t\",\"nostrdesign\"],[\"r\",\"design@opensats.org\"],[\"r\",\"https://opensats.org/blog/announcing-nostr-design\"]]}\n",
      "{\"content\":\"New month, new LTS grantee! nostr:npub1s6z7hmmx2vud66f3utxd70qem8cwtggx0jgc7gh8pqwz2k8cltuqrdwk4c is the latest bitcoin core developer receiving long-term support from OpenSats. Welcome, Sjors! \\n https://opensats.org/blog/sjors-provoost-receives-opensats-lts-grant\",\"created_at\":1694166940,\"id\":\"3ff4d33e1016b1e49a59d4e3dbdd43f36b05bf82d501a5ec438a6c199a1b0be4\",\"kind\":1,\"pubkey\":\"787338757fc25d65cd929394d5e7713cf43638e8d259e8dcf5c73b834eb851f2\",\"sig\":\"800d5c392bd4dead93205bb8c6a7de92a1e5bd938b26d16b8ed660ee4dbd6c412b4f667bf3ded11e5883dc66b4ab1e4c932bd637638d6f256e0f09643ab9857c\",\"tags\":[[\"p\",\"8685ebef665338dd6931e2ccdf3c19d9f0e5a1067c918f22e7081c2558f8faf8\",\"\",\"mention\"],[\"r\",\"https://opensats.org/blog/sjors-provoost-receives-opensats-lts-grant\"]]}\n",
      "{\"content\":\"👀\",\"created_at\":1694037444,\"id\":\"cc904fefbdf3a8954d8881b3c95db2959940bfe5528f641ee27066f24d5361a0\",\"kind\":1,\"pubkey\":\"787338757fc25d65cd929394d5e7713cf43638e8d259e8dcf5c73b834eb851f2\",\"sig\":\"d9aa3f2dfc8fe5e7f072eccf09566e9664eaa75456093ac561a67d1cb8ab3ae42eec6b3ab790d55312f2035fa1e0f6154c72e10c498282fb07d8239df4b5e5f7\",\"tags\":[[\"e\",\"202f72d1d99fa82ff1660011a22f269b6ba6d87587cc1215299aefe24d2f8184\",\"\",\"reply\"],[\"p\",\"787338757fc25d65cd929394d5e7713cf43638e8d259e8dcf5c73b834eb851f2\"],[\"p\",\"fa984bd7dbb282f07e16e7ae87b26a2a7b9b90b7246a44771f0cf5ae58018f52\"],[\"p\",\"532d830dffe09c13e75e8b145c825718fc12b0003f61d61e9077721c7fff93cb\"],[\"p\",\"df173277182f3155d37b330211ba1de4a81500c02d195e964f91be774ec96708\"]]}\n",
      "{\"content\":\"Know someone who works on open-source freedom tech? Encourage them to apply for a grant! \\n\\nWorking on a project in need for funding? Apply yourself! \\n\\nhttps://opensats.org/apply\",\"created_at\":1693983764,\"id\":\"d66b161bc6e0ec759693a5e7c5568e58941618e6ae54d3b001a9108f0df45cbd\",\"kind\":1,\"pubkey\":\"787338757fc25d65cd929394d5e7713cf43638e8d259e8dcf5c73b834eb851f2\",\"sig\":\"882b415276a247139320bdbf6893731936b20c1d707bb9a4489be06260535628e86ea5f06a881f57a443414ca58aae21d6ee3aeb65c1047d61dd19b16a3e6482\",\"tags\":[[\"r\",\"https://opensats.org/apply\"]]}\n",
      "{\"content\":\"We're hiring! #jobstr \\n\\nhttps://bitcoinerjobs.com/job/1142291-head-of-fiat-operations-opensats-opensats\",\"created_at\":1693385269,\"id\":\"8f88a5f55452b94da4e282b2a3cfe9d96606de527be4e0cf457d2cac5a983208\",\"kind\":1,\"pubkey\":\"787338757fc25d65cd929394d5e7713cf43638e8d259e8dcf5c73b834eb851f2\",\"sig\":\"467a17e19f8ce102d484ac87c6018f10dfde98b5adebbca5020146241c34460983aa06a626ccf06369dd892cc2bb7fc9a6150fd332cbf27878517e413cd52287\",\"tags\":[[\"t\",\"jobstr\"],[\"t\",\"jobstr\"],[\"r\",\"https://bitcoinerjobs.com/job/1142291-head-of-fiat-operations-opensats-opensats\"]]}\n",
      "{\"content\":\"Can't stop, won't stop. OpenSats is providing grants to 8 additional open-source projects in the #bitcoin and #nostr ecosystem.\\n\\nhttps://opensats.org/blog/bitcoin-and-nostr-grants-august-2023\",\"created_at\":1692282438,\"id\":\"a262e5b2b55f285d91e825a0f8751bf324294112a74540911fd662cd5d4afab9\",\"kind\":1,\"pubkey\":\"787338757fc25d65cd929394d5e7713cf43638e8d259e8dcf5c73b834eb851f2\",\"sig\":\"4225c964e90c6b4bb34c988bcd04223efcf993322f7323c377432443cc25d1e55f334faa3f03c19113440444a7e6e6399631950c6d8e8c66c473306c40453340\",\"tags\":[[\"t\",\"bitcoin\"],[\"t\",\"nostr\"]]}\n",
      "{\"content\":\"You build, we support 🤝\\n\\nnostr:nevent1qqs9sx36gwe9gtkh829t8ztan9ga3lah2900pdx0q5hx2nrupstlhuqpzpmhxue69uhkummnw3ezumt0d5hsygrgmqgktyvpqzma5slu9rmarlqj24zxdcg3tzrtneamxfhktmzzwgpsgqqqqqqs5tt90l\",\"created_at\":1692267052,\"id\":\"4a7f963891d68802d122cea71369b81ecb84c33f578e7a88967f2f9f80125faa\",\"kind\":1,\"pubkey\":\"787338757fc25d65cd929394d5e7713cf43638e8d259e8dcf5c73b834eb851f2\",\"sig\":\"cbc419a019ab11320e2af8880771f542c23852c8aab3f26d233d43f8af92b6a40d3ac61ab86319504cdf3320d493a9cc635150992ad984a36e169b598c69a57a\",\"tags\":[[\"e\",\"581a3a43b2542ed73a8ab3897d9951d8ffb7515ef0b4cf052e654c7c0c17fbf0\",\"\",\"mention\"],[\"p\",\"68d81165918100b7da43fc28f7d1fc12554466e1115886b9e7bb326f65ec4272\",\"\",\"mention\"]]}\n",
      "{\"content\":\"Thank you for building, Josi. We're happy to support you for the long term 🫡\\n\\nhttps://opensats.org/blog/josi-baker-receives-opensats-lts-grant\",\"created_at\":1692219512,\"id\":\"bb11666d51331ed440b8f573de42b798e0de67a1cea7d5ea5d9959c3b9bbfd51\",\"kind\":1,\"pubkey\":\"787338757fc25d65cd929394d5e7713cf43638e8d259e8dcf5c73b834eb851f2\",\"sig\":\"bd74dfe3fdafad7205882c5cf9c61c68d0609ecdd21d232718cad26503b814a5588bc596c3de65c95667085631ea510b7045f509a94026c68d2d2df327f821d8\",\"tags\":[]}\n"
     ]
    }
   ],
   "source": [
    "# pk = PublicKey.from_bech32(\"npub1dergggklka99wwrs92yz8wdjs952h2ux2ha2ed598ngwu9w7a6fsh9xzpc\")\n",
    "pk = PublicKey.from_bech32(\"npub10pensatlcfwktnvjjw2dtem38n6rvw8g6fv73h84cuacxn4c28eqyfn34f\")\n",
    "\n",
    "# print(f\"\\nGetting profile metadata for {pk.to_bech32()}...\")\n",
    "# filter = Filter().kind(0).author(pk.to_hex()).limit(1)\n",
    "# events = client.get_events_of([filter], timedelta(seconds=10))\n",
    "# for event in events:\n",
    "#     metadata = Metadata.from_json(event.content())\n",
    "#     print(f\"Name: {metadata.get_name()}\")\n",
    "#     print(f\"NIP05: {metadata.get_nip05()}\")\n",
    "#     print(f\"LUD16: {metadata.get_lud16()}\")\n",
    "\n",
    "filter = Filter().kind(1).author(pk.to_hex()).limit(10)\n",
    "events = client.get_events_of([filter], timedelta(seconds=10))\n",
    "for event in events:\n",
    "    # print(json.dumps(event.as_json, indent=4))\n",
    "    print(event.as_json())\n",
    "    "
   ]
  },
  {
   "cell_type": "code",
   "execution_count": 26,
   "metadata": {},
   "outputs": [
    {
     "name": "stdout",
     "output_type": "stream",
     "text": [
      "\"{\\\"content\\\":\\\"Let's make things pretty. And useful. And awesome. #nostrdesign \\\\n\\\\nhttps://nostrdesign.org/\\\",\\\"created_at\\\":1694211711,\\\"id\\\":\\\"f9ce617c89cbe10168a11d67ec7cc4695ec35592cee0d4f7ac8267dd09543dad\\\",\\\"kind\\\":1,\\\"pubkey\\\":\\\"787338757fc25d65cd929394d5e7713cf43638e8d259e8dcf5c73b834eb851f2\\\",\\\"sig\\\":\\\"c2c4a6f76aab7f25236acffabd15e9c9cd9874d1f410355ab7bca254086bd3a838fe68cf6e48870e993e5a69eef20a4d93d9dd6e08af45f29c0ac7aa141ddc7a\\\",\\\"tags\\\":[[\\\"t\\\",\\\"nostrdesign\\\"],[\\\"t\\\",\\\"nostrdesign\\\"],[\\\"r\\\",\\\"https://nostrdesign.org/\\\"]]}\"\n",
      "\"{\\\"content\\\":\\\"Thank you nostr:npub1r0rs5q2gk0e3dk3nlc7gnu378ec6cnlenqp8a3cjhyzu6f8k5sgs4sq9ac and nostr:npub10000003zmk89narqpczy4ff6rnuht2wu05na7kpnh3mak7z2tqzsv8vwqk for spearheading this initiative \\ud83d\\ude4f\\ud83d\\udc9c\\\",\\\"created_at\\\":1694211554,\\\"id\\\":\\\"e68984b1d8f393595fc5ed7b36d1bc4700c9b6bacbae7d5f5c43c4a455b7bedb\\\",\\\"kind\\\":1,\\\"pubkey\\\":\\\"787338757fc25d65cd929394d5e7713cf43638e8d259e8dcf5c73b834eb851f2\\\",\\\"sig\\\":\\\"c3b8cd38acecd6c376796bcb87709b1998c38e14109a6c7434f6930042bf8e9712a5fdcff36b46a0af9c61e5cd0ca3921f44ab94c051849fc78df4f978654608\\\",\\\"tags\\\":[[\\\"e\\\",\\\"3c1957931ef93baba7dccbdb3e32679ca21fdf035f7ebbd6434667ed89dee833\\\",\\\"\\\",\\\"reply\\\"],[\\\"p\\\",\\\"787338757fc25d65cd929394d5e7713cf43638e8d259e8dcf5c73b834eb851f2\\\"],[\\\"p\\\",\\\"1bc70a0148b3f316da33fe3c89f23e3e71ac4ff998027ec712b905cd24f6a411\\\",\\\"\\\",\\\"mention\\\"],[\\\"p\\\",\\\"7bdef7be22dd8e59f4600e044aa53a1cf975a9dc7d27df5833bc77db784a5805\\\",\\\"\\\",\\\"mention\\\"]]}\"\n",
      "\"{\\\"content\\\":\\\"Are you working on an open-source project that needs some design help? Want to improve the UX of your nostr app? \\\\n\\\\nUse #nostrdesign to summon help or reach out to design@opensats.org \\\\n https://opensats.org/blog/announcing-nostr-design\\\",\\\"created_at\\\":1694211510,\\\"id\\\":\\\"3c1957931ef93baba7dccbdb3e32679ca21fdf035f7ebbd6434667ed89dee833\\\",\\\"kind\\\":1,\\\"pubkey\\\":\\\"787338757fc25d65cd929394d5e7713cf43638e8d259e8dcf5c73b834eb851f2\\\",\\\"sig\\\":\\\"7eb77f8a015004bf4600c5d35933f1b0d4c876d543f91434c11101dafa97a9ad9ce315411b291b09e08bd56759725fa148ac68289ac4b953499ac4d64b1cf59b\\\",\\\"tags\\\":[[\\\"t\\\",\\\"nostrdesign\\\"],[\\\"t\\\",\\\"nostrdesign\\\"],[\\\"r\\\",\\\"design@opensats.org\\\"],[\\\"r\\\",\\\"https://opensats.org/blog/announcing-nostr-design\\\"]]}\"\n",
      "\"{\\\"content\\\":\\\"New month, new LTS grantee! nostr:npub1s6z7hmmx2vud66f3utxd70qem8cwtggx0jgc7gh8pqwz2k8cltuqrdwk4c is the latest bitcoin core developer receiving long-term support from OpenSats. Welcome, Sjors! \\\\n https://opensats.org/blog/sjors-provoost-receives-opensats-lts-grant\\\",\\\"created_at\\\":1694166940,\\\"id\\\":\\\"3ff4d33e1016b1e49a59d4e3dbdd43f36b05bf82d501a5ec438a6c199a1b0be4\\\",\\\"kind\\\":1,\\\"pubkey\\\":\\\"787338757fc25d65cd929394d5e7713cf43638e8d259e8dcf5c73b834eb851f2\\\",\\\"sig\\\":\\\"800d5c392bd4dead93205bb8c6a7de92a1e5bd938b26d16b8ed660ee4dbd6c412b4f667bf3ded11e5883dc66b4ab1e4c932bd637638d6f256e0f09643ab9857c\\\",\\\"tags\\\":[[\\\"p\\\",\\\"8685ebef665338dd6931e2ccdf3c19d9f0e5a1067c918f22e7081c2558f8faf8\\\",\\\"\\\",\\\"mention\\\"],[\\\"r\\\",\\\"https://opensats.org/blog/sjors-provoost-receives-opensats-lts-grant\\\"]]}\"\n",
      "\"{\\\"content\\\":\\\"\\ud83d\\udc40\\\",\\\"created_at\\\":1694037444,\\\"id\\\":\\\"cc904fefbdf3a8954d8881b3c95db2959940bfe5528f641ee27066f24d5361a0\\\",\\\"kind\\\":1,\\\"pubkey\\\":\\\"787338757fc25d65cd929394d5e7713cf43638e8d259e8dcf5c73b834eb851f2\\\",\\\"sig\\\":\\\"d9aa3f2dfc8fe5e7f072eccf09566e9664eaa75456093ac561a67d1cb8ab3ae42eec6b3ab790d55312f2035fa1e0f6154c72e10c498282fb07d8239df4b5e5f7\\\",\\\"tags\\\":[[\\\"e\\\",\\\"202f72d1d99fa82ff1660011a22f269b6ba6d87587cc1215299aefe24d2f8184\\\",\\\"\\\",\\\"reply\\\"],[\\\"p\\\",\\\"787338757fc25d65cd929394d5e7713cf43638e8d259e8dcf5c73b834eb851f2\\\"],[\\\"p\\\",\\\"fa984bd7dbb282f07e16e7ae87b26a2a7b9b90b7246a44771f0cf5ae58018f52\\\"],[\\\"p\\\",\\\"532d830dffe09c13e75e8b145c825718fc12b0003f61d61e9077721c7fff93cb\\\"],[\\\"p\\\",\\\"df173277182f3155d37b330211ba1de4a81500c02d195e964f91be774ec96708\\\"]]}\"\n",
      "\"{\\\"content\\\":\\\"Know someone who works on open-source freedom tech? Encourage them to apply for a grant! \\\\n\\\\nWorking on a project in need for funding? Apply yourself! \\\\n\\\\nhttps://opensats.org/apply\\\",\\\"created_at\\\":1693983764,\\\"id\\\":\\\"d66b161bc6e0ec759693a5e7c5568e58941618e6ae54d3b001a9108f0df45cbd\\\",\\\"kind\\\":1,\\\"pubkey\\\":\\\"787338757fc25d65cd929394d5e7713cf43638e8d259e8dcf5c73b834eb851f2\\\",\\\"sig\\\":\\\"882b415276a247139320bdbf6893731936b20c1d707bb9a4489be06260535628e86ea5f06a881f57a443414ca58aae21d6ee3aeb65c1047d61dd19b16a3e6482\\\",\\\"tags\\\":[[\\\"r\\\",\\\"https://opensats.org/apply\\\"]]}\"\n",
      "\"{\\\"content\\\":\\\"We're hiring! #jobstr \\\\n\\\\nhttps://bitcoinerjobs.com/job/1142291-head-of-fiat-operations-opensats-opensats\\\",\\\"created_at\\\":1693385269,\\\"id\\\":\\\"8f88a5f55452b94da4e282b2a3cfe9d96606de527be4e0cf457d2cac5a983208\\\",\\\"kind\\\":1,\\\"pubkey\\\":\\\"787338757fc25d65cd929394d5e7713cf43638e8d259e8dcf5c73b834eb851f2\\\",\\\"sig\\\":\\\"467a17e19f8ce102d484ac87c6018f10dfde98b5adebbca5020146241c34460983aa06a626ccf06369dd892cc2bb7fc9a6150fd332cbf27878517e413cd52287\\\",\\\"tags\\\":[[\\\"t\\\",\\\"jobstr\\\"],[\\\"t\\\",\\\"jobstr\\\"],[\\\"r\\\",\\\"https://bitcoinerjobs.com/job/1142291-head-of-fiat-operations-opensats-opensats\\\"]]}\"\n",
      "\"{\\\"content\\\":\\\"Can't stop, won't stop. OpenSats is providing grants to 8 additional open-source projects in the #bitcoin and #nostr ecosystem.\\\\n\\\\nhttps://opensats.org/blog/bitcoin-and-nostr-grants-august-2023\\\",\\\"created_at\\\":1692282438,\\\"id\\\":\\\"a262e5b2b55f285d91e825a0f8751bf324294112a74540911fd662cd5d4afab9\\\",\\\"kind\\\":1,\\\"pubkey\\\":\\\"787338757fc25d65cd929394d5e7713cf43638e8d259e8dcf5c73b834eb851f2\\\",\\\"sig\\\":\\\"4225c964e90c6b4bb34c988bcd04223efcf993322f7323c377432443cc25d1e55f334faa3f03c19113440444a7e6e6399631950c6d8e8c66c473306c40453340\\\",\\\"tags\\\":[[\\\"t\\\",\\\"bitcoin\\\"],[\\\"t\\\",\\\"nostr\\\"]]}\"\n",
      "\"{\\\"content\\\":\\\"You build, we support \\ud83e\\udd1d\\\\n\\\\nnostr:nevent1qqs9sx36gwe9gtkh829t8ztan9ga3lah2900pdx0q5hx2nrupstlhuqpzpmhxue69uhkummnw3ezumt0d5hsygrgmqgktyvpqzma5slu9rmarlqj24zxdcg3tzrtneamxfhktmzzwgpsgqqqqqqs5tt90l\\\",\\\"created_at\\\":1692267052,\\\"id\\\":\\\"4a7f963891d68802d122cea71369b81ecb84c33f578e7a88967f2f9f80125faa\\\",\\\"kind\\\":1,\\\"pubkey\\\":\\\"787338757fc25d65cd929394d5e7713cf43638e8d259e8dcf5c73b834eb851f2\\\",\\\"sig\\\":\\\"cbc419a019ab11320e2af8880771f542c23852c8aab3f26d233d43f8af92b6a40d3ac61ab86319504cdf3320d493a9cc635150992ad984a36e169b598c69a57a\\\",\\\"tags\\\":[[\\\"e\\\",\\\"581a3a43b2542ed73a8ab3897d9951d8ffb7515ef0b4cf052e654c7c0c17fbf0\\\",\\\"\\\",\\\"mention\\\"],[\\\"p\\\",\\\"68d81165918100b7da43fc28f7d1fc12554466e1115886b9e7bb326f65ec4272\\\",\\\"\\\",\\\"mention\\\"]]}\"\n",
      "\"{\\\"content\\\":\\\"Thank you for building, Josi. We're happy to support you for the long term \\ud83e\\udee1\\\\n\\\\nhttps://opensats.org/blog/josi-baker-receives-opensats-lts-grant\\\",\\\"created_at\\\":1692219512,\\\"id\\\":\\\"bb11666d51331ed440b8f573de42b798e0de67a1cea7d5ea5d9959c3b9bbfd51\\\",\\\"kind\\\":1,\\\"pubkey\\\":\\\"787338757fc25d65cd929394d5e7713cf43638e8d259e8dcf5c73b834eb851f2\\\",\\\"sig\\\":\\\"bd74dfe3fdafad7205882c5cf9c61c68d0609ecdd21d232718cad26503b814a5588bc596c3de65c95667085631ea510b7045f509a94026c68d2d2df327f821d8\\\",\\\"tags\\\":[]}\"\n"
     ]
    }
   ],
   "source": [
    "for event in events:\n",
    "    print(json.dumps(event.as_json(), indent=4))\n",
    "    # print(event.as_json())\n",
    "    "
   ]
  },
  {
   "cell_type": "code",
   "execution_count": 32,
   "metadata": {},
   "outputs": [
    {
     "data": {
      "application/json": {
       "content": "Thank you for building, Josi. We're happy to support you for the long term 🫡\n\nhttps://opensats.org/blog/josi-baker-receives-opensats-lts-grant",
       "created_at": 1692219512,
       "id": "bb11666d51331ed440b8f573de42b798e0de67a1cea7d5ea5d9959c3b9bbfd51",
       "kind": 1,
       "pubkey": "787338757fc25d65cd929394d5e7713cf43638e8d259e8dcf5c73b834eb851f2",
       "sig": "bd74dfe3fdafad7205882c5cf9c61c68d0609ecdd21d232718cad26503b814a5588bc596c3de65c95667085631ea510b7045f509a94026c68d2d2df327f821d8",
       "tags": []
      },
      "text/plain": [
       "<IPython.core.display.JSON object>"
      ]
     },
     "metadata": {
      "application/json": {
       "expanded": false,
       "root": "root"
      }
     },
     "output_type": "display_data"
    }
   ],
   "source": [
    "display(JSON(event.as_json()))"
   ]
  },
  {
   "cell_type": "code",
   "execution_count": 51,
   "metadata": {},
   "outputs": [],
   "source": [
    "df = pd.DataFrame(map(lambda x: json.loads(x.as_json()), events))"
   ]
  },
  {
   "cell_type": "code",
   "execution_count": 52,
   "metadata": {},
   "outputs": [
    {
     "data": {
      "text/plain": [
       "pandas.core.series.Series"
      ]
     },
     "execution_count": 52,
     "metadata": {},
     "output_type": "execute_result"
    }
   ],
   "source": [
    "type(df.iloc[0])"
   ]
  },
  {
   "cell_type": "code",
   "execution_count": 1,
   "metadata": {},
   "outputs": [
    {
     "ename": "NameError",
     "evalue": "name 'df' is not defined",
     "output_type": "error",
     "traceback": [
      "\u001b[0;31m---------------------------------------------------------------------------\u001b[0m",
      "\u001b[0;31mNameError\u001b[0m                                 Traceback (most recent call last)",
      "Cell \u001b[0;32mIn[1], line 1\u001b[0m\n\u001b[0;32m----> 1\u001b[0m df\u001b[39m.\u001b[39miloc[\u001b[39m0\u001b[39m]\n",
      "\u001b[0;31mNameError\u001b[0m: name 'df' is not defined"
     ]
    }
   ],
   "source": [
    "df.iloc[0]"
   ]
  },
  {
   "cell_type": "code",
   "execution_count": 54,
   "metadata": {},
   "outputs": [
    {
     "data": {
      "text/html": [
       "<div>\n",
       "<style scoped>\n",
       "    .dataframe tbody tr th:only-of-type {\n",
       "        vertical-align: middle;\n",
       "    }\n",
       "\n",
       "    .dataframe tbody tr th {\n",
       "        vertical-align: top;\n",
       "    }\n",
       "\n",
       "    .dataframe thead th {\n",
       "        text-align: right;\n",
       "    }\n",
       "</style>\n",
       "<table border=\"1\" class=\"dataframe\">\n",
       "  <thead>\n",
       "    <tr style=\"text-align: right;\">\n",
       "      <th></th>\n",
       "      <th>content</th>\n",
       "      <th>created_at</th>\n",
       "      <th>id</th>\n",
       "      <th>kind</th>\n",
       "      <th>pubkey</th>\n",
       "      <th>sig</th>\n",
       "      <th>tags</th>\n",
       "    </tr>\n",
       "  </thead>\n",
       "  <tbody>\n",
       "    <tr>\n",
       "      <th>0</th>\n",
       "      <td>Let's make things pretty. And useful. And awes...</td>\n",
       "      <td>1694211711</td>\n",
       "      <td>f9ce617c89cbe10168a11d67ec7cc4695ec35592cee0d4...</td>\n",
       "      <td>1</td>\n",
       "      <td>787338757fc25d65cd929394d5e7713cf43638e8d259e8...</td>\n",
       "      <td>c2c4a6f76aab7f25236acffabd15e9c9cd9874d1f41035...</td>\n",
       "      <td>[[t, nostrdesign], [t, nostrdesign], [r, https...</td>\n",
       "    </tr>\n",
       "    <tr>\n",
       "      <th>1</th>\n",
       "      <td>Thank you nostr:npub1r0rs5q2gk0e3dk3nlc7gnu378...</td>\n",
       "      <td>1694211554</td>\n",
       "      <td>e68984b1d8f393595fc5ed7b36d1bc4700c9b6bacbae7d...</td>\n",
       "      <td>1</td>\n",
       "      <td>787338757fc25d65cd929394d5e7713cf43638e8d259e8...</td>\n",
       "      <td>c3b8cd38acecd6c376796bcb87709b1998c38e14109a6c...</td>\n",
       "      <td>[[e, 3c1957931ef93baba7dccbdb3e32679ca21fdf035...</td>\n",
       "    </tr>\n",
       "    <tr>\n",
       "      <th>2</th>\n",
       "      <td>Are you working on an open-source project that...</td>\n",
       "      <td>1694211510</td>\n",
       "      <td>3c1957931ef93baba7dccbdb3e32679ca21fdf035f7ebb...</td>\n",
       "      <td>1</td>\n",
       "      <td>787338757fc25d65cd929394d5e7713cf43638e8d259e8...</td>\n",
       "      <td>7eb77f8a015004bf4600c5d35933f1b0d4c876d543f914...</td>\n",
       "      <td>[[t, nostrdesign], [t, nostrdesign], [r, desig...</td>\n",
       "    </tr>\n",
       "    <tr>\n",
       "      <th>3</th>\n",
       "      <td>New month, new LTS grantee! nostr:npub1s6z7hmm...</td>\n",
       "      <td>1694166940</td>\n",
       "      <td>3ff4d33e1016b1e49a59d4e3dbdd43f36b05bf82d501a5...</td>\n",
       "      <td>1</td>\n",
       "      <td>787338757fc25d65cd929394d5e7713cf43638e8d259e8...</td>\n",
       "      <td>800d5c392bd4dead93205bb8c6a7de92a1e5bd938b26d1...</td>\n",
       "      <td>[[p, 8685ebef665338dd6931e2ccdf3c19d9f0e5a1067...</td>\n",
       "    </tr>\n",
       "    <tr>\n",
       "      <th>4</th>\n",
       "      <td>👀</td>\n",
       "      <td>1694037444</td>\n",
       "      <td>cc904fefbdf3a8954d8881b3c95db2959940bfe5528f64...</td>\n",
       "      <td>1</td>\n",
       "      <td>787338757fc25d65cd929394d5e7713cf43638e8d259e8...</td>\n",
       "      <td>d9aa3f2dfc8fe5e7f072eccf09566e9664eaa75456093a...</td>\n",
       "      <td>[[e, 202f72d1d99fa82ff1660011a22f269b6ba6d8758...</td>\n",
       "    </tr>\n",
       "    <tr>\n",
       "      <th>5</th>\n",
       "      <td>Know someone who works on open-source freedom ...</td>\n",
       "      <td>1693983764</td>\n",
       "      <td>d66b161bc6e0ec759693a5e7c5568e58941618e6ae54d3...</td>\n",
       "      <td>1</td>\n",
       "      <td>787338757fc25d65cd929394d5e7713cf43638e8d259e8...</td>\n",
       "      <td>882b415276a247139320bdbf6893731936b20c1d707bb9...</td>\n",
       "      <td>[[r, https://opensats.org/apply]]</td>\n",
       "    </tr>\n",
       "    <tr>\n",
       "      <th>6</th>\n",
       "      <td>We're hiring! #jobstr \\n\\nhttps://bitcoinerjob...</td>\n",
       "      <td>1693385269</td>\n",
       "      <td>8f88a5f55452b94da4e282b2a3cfe9d96606de527be4e0...</td>\n",
       "      <td>1</td>\n",
       "      <td>787338757fc25d65cd929394d5e7713cf43638e8d259e8...</td>\n",
       "      <td>467a17e19f8ce102d484ac87c6018f10dfde98b5adebbc...</td>\n",
       "      <td>[[t, jobstr], [t, jobstr], [r, https://bitcoin...</td>\n",
       "    </tr>\n",
       "    <tr>\n",
       "      <th>7</th>\n",
       "      <td>Can't stop, won't stop. OpenSats is providing ...</td>\n",
       "      <td>1692282438</td>\n",
       "      <td>a262e5b2b55f285d91e825a0f8751bf324294112a74540...</td>\n",
       "      <td>1</td>\n",
       "      <td>787338757fc25d65cd929394d5e7713cf43638e8d259e8...</td>\n",
       "      <td>4225c964e90c6b4bb34c988bcd04223efcf993322f7323...</td>\n",
       "      <td>[[t, bitcoin], [t, nostr]]</td>\n",
       "    </tr>\n",
       "    <tr>\n",
       "      <th>8</th>\n",
       "      <td>You build, we support 🤝\\n\\nnostr:nevent1qqs9sx...</td>\n",
       "      <td>1692267052</td>\n",
       "      <td>4a7f963891d68802d122cea71369b81ecb84c33f578e7a...</td>\n",
       "      <td>1</td>\n",
       "      <td>787338757fc25d65cd929394d5e7713cf43638e8d259e8...</td>\n",
       "      <td>cbc419a019ab11320e2af8880771f542c23852c8aab3f2...</td>\n",
       "      <td>[[e, 581a3a43b2542ed73a8ab3897d9951d8ffb7515ef...</td>\n",
       "    </tr>\n",
       "    <tr>\n",
       "      <th>9</th>\n",
       "      <td>Thank you for building, Josi. We're happy to s...</td>\n",
       "      <td>1692219512</td>\n",
       "      <td>bb11666d51331ed440b8f573de42b798e0de67a1cea7d5...</td>\n",
       "      <td>1</td>\n",
       "      <td>787338757fc25d65cd929394d5e7713cf43638e8d259e8...</td>\n",
       "      <td>bd74dfe3fdafad7205882c5cf9c61c68d0609ecdd21d23...</td>\n",
       "      <td>[]</td>\n",
       "    </tr>\n",
       "  </tbody>\n",
       "</table>\n",
       "</div>"
      ],
      "text/plain": [
       "                                             content  created_at  \\\n",
       "0  Let's make things pretty. And useful. And awes...  1694211711   \n",
       "1  Thank you nostr:npub1r0rs5q2gk0e3dk3nlc7gnu378...  1694211554   \n",
       "2  Are you working on an open-source project that...  1694211510   \n",
       "3  New month, new LTS grantee! nostr:npub1s6z7hmm...  1694166940   \n",
       "4                                                  👀  1694037444   \n",
       "5  Know someone who works on open-source freedom ...  1693983764   \n",
       "6  We're hiring! #jobstr \\n\\nhttps://bitcoinerjob...  1693385269   \n",
       "7  Can't stop, won't stop. OpenSats is providing ...  1692282438   \n",
       "8  You build, we support 🤝\\n\\nnostr:nevent1qqs9sx...  1692267052   \n",
       "9  Thank you for building, Josi. We're happy to s...  1692219512   \n",
       "\n",
       "                                                  id  kind  \\\n",
       "0  f9ce617c89cbe10168a11d67ec7cc4695ec35592cee0d4...     1   \n",
       "1  e68984b1d8f393595fc5ed7b36d1bc4700c9b6bacbae7d...     1   \n",
       "2  3c1957931ef93baba7dccbdb3e32679ca21fdf035f7ebb...     1   \n",
       "3  3ff4d33e1016b1e49a59d4e3dbdd43f36b05bf82d501a5...     1   \n",
       "4  cc904fefbdf3a8954d8881b3c95db2959940bfe5528f64...     1   \n",
       "5  d66b161bc6e0ec759693a5e7c5568e58941618e6ae54d3...     1   \n",
       "6  8f88a5f55452b94da4e282b2a3cfe9d96606de527be4e0...     1   \n",
       "7  a262e5b2b55f285d91e825a0f8751bf324294112a74540...     1   \n",
       "8  4a7f963891d68802d122cea71369b81ecb84c33f578e7a...     1   \n",
       "9  bb11666d51331ed440b8f573de42b798e0de67a1cea7d5...     1   \n",
       "\n",
       "                                              pubkey  \\\n",
       "0  787338757fc25d65cd929394d5e7713cf43638e8d259e8...   \n",
       "1  787338757fc25d65cd929394d5e7713cf43638e8d259e8...   \n",
       "2  787338757fc25d65cd929394d5e7713cf43638e8d259e8...   \n",
       "3  787338757fc25d65cd929394d5e7713cf43638e8d259e8...   \n",
       "4  787338757fc25d65cd929394d5e7713cf43638e8d259e8...   \n",
       "5  787338757fc25d65cd929394d5e7713cf43638e8d259e8...   \n",
       "6  787338757fc25d65cd929394d5e7713cf43638e8d259e8...   \n",
       "7  787338757fc25d65cd929394d5e7713cf43638e8d259e8...   \n",
       "8  787338757fc25d65cd929394d5e7713cf43638e8d259e8...   \n",
       "9  787338757fc25d65cd929394d5e7713cf43638e8d259e8...   \n",
       "\n",
       "                                                 sig  \\\n",
       "0  c2c4a6f76aab7f25236acffabd15e9c9cd9874d1f41035...   \n",
       "1  c3b8cd38acecd6c376796bcb87709b1998c38e14109a6c...   \n",
       "2  7eb77f8a015004bf4600c5d35933f1b0d4c876d543f914...   \n",
       "3  800d5c392bd4dead93205bb8c6a7de92a1e5bd938b26d1...   \n",
       "4  d9aa3f2dfc8fe5e7f072eccf09566e9664eaa75456093a...   \n",
       "5  882b415276a247139320bdbf6893731936b20c1d707bb9...   \n",
       "6  467a17e19f8ce102d484ac87c6018f10dfde98b5adebbc...   \n",
       "7  4225c964e90c6b4bb34c988bcd04223efcf993322f7323...   \n",
       "8  cbc419a019ab11320e2af8880771f542c23852c8aab3f2...   \n",
       "9  bd74dfe3fdafad7205882c5cf9c61c68d0609ecdd21d23...   \n",
       "\n",
       "                                                tags  \n",
       "0  [[t, nostrdesign], [t, nostrdesign], [r, https...  \n",
       "1  [[e, 3c1957931ef93baba7dccbdb3e32679ca21fdf035...  \n",
       "2  [[t, nostrdesign], [t, nostrdesign], [r, desig...  \n",
       "3  [[p, 8685ebef665338dd6931e2ccdf3c19d9f0e5a1067...  \n",
       "4  [[e, 202f72d1d99fa82ff1660011a22f269b6ba6d8758...  \n",
       "5                  [[r, https://opensats.org/apply]]  \n",
       "6  [[t, jobstr], [t, jobstr], [r, https://bitcoin...  \n",
       "7                         [[t, bitcoin], [t, nostr]]  \n",
       "8  [[e, 581a3a43b2542ed73a8ab3897d9951d8ffb7515ef...  \n",
       "9                                                 []  "
      ]
     },
     "execution_count": 54,
     "metadata": {},
     "output_type": "execute_result"
    }
   ],
   "source": [
    "df"
   ]
  },
  {
   "cell_type": "code",
   "execution_count": 46,
   "metadata": {},
   "outputs": [
    {
     "data": {
      "text/plain": [
       "'{\"content\":\"Let\\'s make things pretty. And useful. And awesome. #nostrdesign \\\\n\\\\nhttps://nostrdesign.org/\",\"created_at\":1694211711,\"id\":\"f9ce617c89cbe10168a11d67ec7cc4695ec35592cee0d4f7ac8267dd09543dad\",\"kind\":1,\"pubkey\":\"787338757fc25d65cd929394d5e7713cf43638e8d259e8dcf5c73b834eb851f2\",\"sig\":\"c2c4a6f76aab7f25236acffabd15e9c9cd9874d1f410355ab7bca254086bd3a838fe68cf6e48870e993e5a69eef20a4d93d9dd6e08af45f29c0ac7aa141ddc7a\",\"tags\":[[\"t\",\"nostrdesign\"],[\"t\",\"nostrdesign\"],[\"r\",\"https://nostrdesign.org/\"]]}'"
      ]
     },
     "execution_count": 46,
     "metadata": {},
     "output_type": "execute_result"
    }
   ],
   "source": [
    "events[0].as_json()"
   ]
  },
  {
   "cell_type": "code",
   "execution_count": 50,
   "metadata": {},
   "outputs": [
    {
     "data": {
      "text/plain": [
       "{'content': \"Thank you for building, Josi. We're happy to support you for the long term \\U0001fae1\\n\\nhttps://opensats.org/blog/josi-baker-receives-opensats-lts-grant\",\n",
       " 'created_at': 1692219512,\n",
       " 'id': 'bb11666d51331ed440b8f573de42b798e0de67a1cea7d5ea5d9959c3b9bbfd51',\n",
       " 'kind': 1,\n",
       " 'pubkey': '787338757fc25d65cd929394d5e7713cf43638e8d259e8dcf5c73b834eb851f2',\n",
       " 'sig': 'bd74dfe3fdafad7205882c5cf9c61c68d0609ecdd21d232718cad26503b814a5588bc596c3de65c95667085631ea510b7045f509a94026c68d2d2df327f821d8',\n",
       " 'tags': []}"
      ]
     },
     "execution_count": 50,
     "metadata": {},
     "output_type": "execute_result"
    }
   ],
   "source": [
    "json.loads(event.as_json())"
   ]
  },
  {
   "cell_type": "code",
   "execution_count": null,
   "metadata": {},
   "outputs": [],
   "source": []
  }
 ],
 "metadata": {
  "kernelspec": {
   "display_name": "nos",
   "language": "python",
   "name": "python3"
  },
  "language_info": {
   "codemirror_mode": {
    "name": "ipython",
    "version": 3
   },
   "file_extension": ".py",
   "mimetype": "text/x-python",
   "name": "python",
   "nbconvert_exporter": "python",
   "pygments_lexer": "ipython3",
   "version": "3.10.9"
  },
  "orig_nbformat": 4
 },
 "nbformat": 4,
 "nbformat_minor": 2
}
