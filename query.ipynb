{
 "cells": [
  {
   "cell_type": "code",
   "execution_count": null,
   "metadata": {},
   "outputs": [],
   "source": [
    "%load_ext autoreload\n",
    "%autoreload 2"
   ]
  },
  {
   "cell_type": "code",
   "execution_count": 266,
   "metadata": {},
   "outputs": [],
   "source": [
    "from datetime import datetime, timedelta\n",
    "import pandas as pd\n",
    "import json\n",
    "from ingest import parse_mention_tags, parse_reply_tags, parse_user_metadata\n",
    "from nostr_sdk import Keys, Client, EventBuilder, Filter, PublicKey, EventId, Options, Timestamp\n",
    "from datetime import timedelta\n",
    "import numpy as np\n",
    "import time\n",
    "from query import query_events, query_db\n",
    "from utils import postprocess\n",
    "\n",
    "from sqlalchemy import create_engine, Column, BigInteger, String\n",
    "from sqlalchemy.dialects.postgresql import JSONB\n",
    "from sqlalchemy.orm import declarative_base, sessionmaker\n",
    "from sqla_models import User\n",
    "import plotly.express as px\n",
    "\n",
    "pablo_npub = \"npub1l2vyh47mk2p0qlsku7hg0vn29faehy9hy34ygaclpn66ukqp3afqutajft\"\n",
    "pablo_hex = PublicKey.from_bech32(pablo_npub).to_hex()\n",
    "local_npub1 = \"npub1ytwcmu0768dz2axyj9c5dkfaedne2jdwatv0nr9m4utx6xpkv2ksfrt58k\"\n",
    "local_npub2 = \"npub18cd2agsh7qgju43zr9qwduggd4vnqtpyhzremtr6lwgpm3ue3t3qlx2snh\"\n"
   ]
  },
  {
   "cell_type": "code",
   "execution_count": 264,
   "metadata": {},
   "outputs": [],
   "source": [
    "engine = create_engine(\n",
    "    \"postgresql://postgres@localhost:5432/postgres\"\n",
    ")\n",
    "Session = sessionmaker(bind=engine)"
   ]
  },
  {
   "cell_type": "code",
   "execution_count": null,
   "metadata": {},
   "outputs": [],
   "source": [
    "keys = Keys.generate()\n",
    "# print(keys.public_key().to_bech32())\n",
    "opts = Options().timeout(timedelta(seconds=30))\n",
    "client = Client.with_opts(keys, opts)\n",
    "# client = Client(keys)\n",
    "client.add_relay(\"wss://relay.damus.io\")\n",
    "client.add_relay(\"wss://nostr.oxtr.dev\")\n",
    "client.add_relay('wss://relay.nostr.band')\n",
    "client.add_relay('wss://relay.primal.net')\n",
    "client.add_relay('wss://relay.mostr.pub')\n",
    "client.connect()\n",
    "# PublicKey.from_hex('031ea306188fee631a86f1a0e49cee8f3d62592b2e7be5f8eb1788e327db340a').to_bech32()"
   ]
  },
  {
   "cell_type": "code",
   "execution_count": 64,
   "metadata": {},
   "outputs": [
    {
     "data": {
      "text/plain": [
       "'npub1ujm8l8mupgwvu8pye2ged78pg3huectlmm6at66x5wffgvl2fkgsygt8l4'"
      ]
     },
     "execution_count": 64,
     "metadata": {},
     "output_type": "execute_result"
    }
   ],
   "source": [
    "PublicKey.from_hex(\"e4b67f9f7c0a1cce1c24ca9196f8e1446fcce17fdef5d5eb46a3929433ea4d91\").to_bech32()\n",
    "npub18cd2agsh7qgju43zr9qwduggd4vnqtpyhzremtr6lwgpm3ue3t3qlx2snh"
   ]
  },
  {
   "cell_type": "code",
   "execution_count": null,
   "metadata": {},
   "outputs": [],
   "source": [
    "df = query_events(\n",
    "    client, kind=1, npub=pablo_npub, num_days=5, num_limit=None, timeout_secs=30\n",
    ")"
   ]
  },
  {
   "cell_type": "code",
   "execution_count": null,
   "metadata": {},
   "outputs": [],
   "source": [
    "filter = Filter().limit(100000)\n",
    "all_events = client.get_events_of([filter], None)\n",
    "df_all = pd.DataFrame([json.loads(event.as_json()) for event in all_events]).set_index(\"id\")"
   ]
  },
  {
   "cell_type": "code",
   "execution_count": 221,
   "metadata": {},
   "outputs": [
    {
     "data": {
      "text/html": [
       "<div>\n",
       "<style scoped>\n",
       "    .dataframe tbody tr th:only-of-type {\n",
       "        vertical-align: middle;\n",
       "    }\n",
       "\n",
       "    .dataframe tbody tr th {\n",
       "        vertical-align: top;\n",
       "    }\n",
       "\n",
       "    .dataframe thead th {\n",
       "        text-align: right;\n",
       "    }\n",
       "</style>\n",
       "<table border=\"1\" class=\"dataframe\">\n",
       "  <thead>\n",
       "    <tr style=\"text-align: right;\">\n",
       "      <th></th>\n",
       "      <th>content</th>\n",
       "      <th>created_at</th>\n",
       "      <th>kind</th>\n",
       "      <th>pubkey</th>\n",
       "      <th>sig</th>\n",
       "      <th>tags</th>\n",
       "    </tr>\n",
       "    <tr>\n",
       "      <th>id</th>\n",
       "      <th></th>\n",
       "      <th></th>\n",
       "      <th></th>\n",
       "      <th></th>\n",
       "      <th></th>\n",
       "      <th></th>\n",
       "    </tr>\n",
       "  </thead>\n",
       "  <tbody>\n",
       "    <tr>\n",
       "      <th>6128eaaf4a580d21c78a7deba60ae98ecde0f146f5ee0bd909a4098307c777fd</th>\n",
       "      <td>On air: tobias. - Ya Po</td>\n",
       "      <td>1695510789</td>\n",
       "      <td>1311</td>\n",
       "      <td>f3f5992cdb39e6108768d543fbd384a11efc3713085617...</td>\n",
       "      <td>cd90c5caa901500fdcdf04970fe7350d31df3d75623222...</td>\n",
       "      <td>[[a, 30311:f3f5992cdb39e6108768d543fbd384a11ef...</td>\n",
       "    </tr>\n",
       "    <tr>\n",
       "      <th>241bfca5a293f2cb8b8b460e63afedf4a7391687b26b415b382ca5ab1265d433</th>\n",
       "      <td>trojan://16bcc187-a1a0-4b8a-8b69-627f38b7cc0d@...</td>\n",
       "      <td>1695510788</td>\n",
       "      <td>1</td>\n",
       "      <td>1e3aa9756736f8eabd7e37b985003fe809c7df1efa9779...</td>\n",
       "      <td>08de26629e23efa4784ce2d7a17bfea1b2dc12ec04853a...</td>\n",
       "      <td>[]</td>\n",
       "    </tr>\n",
       "    <tr>\n",
       "      <th>b6390d62541f5bfaddd0f4d1a79e087540b9c0703b0c7bedb6f0f413f3e53ea7</th>\n",
       "      <td>😢</td>\n",
       "      <td>1695510787</td>\n",
       "      <td>7</td>\n",
       "      <td>8e567e90f3214bb221a726c53c0b901dd23bdc4281e4df...</td>\n",
       "      <td>e80e829d7414c498fb054f5c73e4fc782bd069acbb6409...</td>\n",
       "      <td>[[e, e184d60897aeaa8e8fe08acb186516309c2b7cc3f...</td>\n",
       "    </tr>\n",
       "    <tr>\n",
       "      <th>44da6f5c6591ca9b088f65dc1d6a9605d4ecb8a72f1e0e0b151d236d291ecc50</th>\n",
       "      <td>Can join</td>\n",
       "      <td>1695510787</td>\n",
       "      <td>1</td>\n",
       "      <td>1833ee04459feb2ca4ae690d5f31269ad488c69e5fe903...</td>\n",
       "      <td>416357783de4913d548d103c91893659105f4605e5b9ec...</td>\n",
       "      <td>[[e, 95ecf35fae2b3b9b001702a75c1a8a4e4adb3681c...</td>\n",
       "    </tr>\n",
       "    <tr>\n",
       "      <th>241bfca5a293f2cb8b8b460e63afedf4a7391687b26b415b382ca5ab1265d433</th>\n",
       "      <td>trojan://16bcc187-a1a0-4b8a-8b69-627f38b7cc0d@...</td>\n",
       "      <td>1695510788</td>\n",
       "      <td>1</td>\n",
       "      <td>1e3aa9756736f8eabd7e37b985003fe809c7df1efa9779...</td>\n",
       "      <td>08de26629e23efa4784ce2d7a17bfea1b2dc12ec04853a...</td>\n",
       "      <td>[]</td>\n",
       "    </tr>\n",
       "    <tr>\n",
       "      <th>...</th>\n",
       "      <td>...</td>\n",
       "      <td>...</td>\n",
       "      <td>...</td>\n",
       "      <td>...</td>\n",
       "      <td>...</td>\n",
       "      <td>...</td>\n",
       "    </tr>\n",
       "    <tr>\n",
       "      <th>53ba622ca8e648aa6821e78c71bf11bfc2fc286c6e55c2c5e2297728c54a0a30</th>\n",
       "      <td>Don’t you just adore TikTok in that case.</td>\n",
       "      <td>1695381897</td>\n",
       "      <td>1</td>\n",
       "      <td>496d38f69865530028c7d212314d3ce6d605f3528a6c40...</td>\n",
       "      <td>ae4538ef4cdf27731b5c576d8bb98b9bb523d809cc6e28...</td>\n",
       "      <td>[[e, 53dd4e345484d653a93836f56509913ed1f3a52b7...</td>\n",
       "    </tr>\n",
       "    <tr>\n",
       "      <th>6b5fa12b729c59f167d6a56e1068dccfa4f7c3051e02bc4b8b77f5ccb119196d</th>\n",
       "      <td></td>\n",
       "      <td>1695381891</td>\n",
       "      <td>10002</td>\n",
       "      <td>3664b775beb87cc62c80f1e0d7c82d996f92230b0f3a9b...</td>\n",
       "      <td>7d0d2b6c3f847b93059e8d690aea1fa253053a04d03b00...</td>\n",
       "      <td>[[r, wss://relay.mostr.pub], [r, wss://relay.s...</td>\n",
       "    </tr>\n",
       "    <tr>\n",
       "      <th>39c74ab63be92ba37951ac83669da630551bb25ef799809ac7896ca03352990e</th>\n",
       "      <td>{\"name\":\"Vibeke Hiatt\",\"about\":\"Wife - Mother ...</td>\n",
       "      <td>1695381891</td>\n",
       "      <td>0</td>\n",
       "      <td>3664b775beb87cc62c80f1e0d7c82d996f92230b0f3a9b...</td>\n",
       "      <td>4a2a7152655563320bb1fd6c6910ae96707e2530f465c8...</td>\n",
       "      <td>[[proxy, https://creativewriting.social/users/...</td>\n",
       "    </tr>\n",
       "    <tr>\n",
       "      <th>f948a344ffaf4925e06a2093ad955c18a4bbb9fc72dc4b1e64cc452ffe67ce1e</th>\n",
       "      <td>nostr:npub1ecj3mfr9lzvx7wh6fmh59vz6eet324mdtdl...</td>\n",
       "      <td>1695381889</td>\n",
       "      <td>1</td>\n",
       "      <td>05d53939c386db3f81a39eacbe2ad152cc1e6c02c7e7ef...</td>\n",
       "      <td>9c9bebcf7f2b0dcd46dde619e5a4546d8b27bb534da072...</td>\n",
       "      <td>[[p, ce251da465f8986f3afa4eef42b05ace5715576d5...</td>\n",
       "    </tr>\n",
       "    <tr>\n",
       "      <th>6e587970abc395af2900efd1adf69f590a52e9b8cbc665a6903514b3dc222892</th>\n",
       "      <td>nostr:npub1s468mx2knuyy8m6a540mjt6enf3pmm8hevn...</td>\n",
       "      <td>1695381889</td>\n",
       "      <td>1</td>\n",
       "      <td>749a08da3a61995e04ccd34a3dff34f05f1f961c9bcc82...</td>\n",
       "      <td>9851ccffe9657050b462ddbcf231e88b2c14ef8ed6239e...</td>\n",
       "      <td>[[p, 85747d99569f0843ef5da55fb92f599a621decf7c...</td>\n",
       "    </tr>\n",
       "  </tbody>\n",
       "</table>\n",
       "<p>100245 rows × 6 columns</p>\n",
       "</div>"
      ],
      "text/plain": [
       "                                                                                              content  \\\n",
       "id                                                                                                      \n",
       "6128eaaf4a580d21c78a7deba60ae98ecde0f146f5ee0bd...                            On air: tobias. - Ya Po   \n",
       "241bfca5a293f2cb8b8b460e63afedf4a7391687b26b415...  trojan://16bcc187-a1a0-4b8a-8b69-627f38b7cc0d@...   \n",
       "b6390d62541f5bfaddd0f4d1a79e087540b9c0703b0c7be...                                                  😢   \n",
       "44da6f5c6591ca9b088f65dc1d6a9605d4ecb8a72f1e0e0...                                           Can join   \n",
       "241bfca5a293f2cb8b8b460e63afedf4a7391687b26b415...  trojan://16bcc187-a1a0-4b8a-8b69-627f38b7cc0d@...   \n",
       "...                                                                                               ...   \n",
       "53ba622ca8e648aa6821e78c71bf11bfc2fc286c6e55c2c...          Don’t you just adore TikTok in that case.   \n",
       "6b5fa12b729c59f167d6a56e1068dccfa4f7c3051e02bc4...                                                      \n",
       "39c74ab63be92ba37951ac83669da630551bb25ef799809...  {\"name\":\"Vibeke Hiatt\",\"about\":\"Wife - Mother ...   \n",
       "f948a344ffaf4925e06a2093ad955c18a4bbb9fc72dc4b1...  nostr:npub1ecj3mfr9lzvx7wh6fmh59vz6eet324mdtdl...   \n",
       "6e587970abc395af2900efd1adf69f590a52e9b8cbc665a...  nostr:npub1s468mx2knuyy8m6a540mjt6enf3pmm8hevn...   \n",
       "\n",
       "                                                    created_at   kind  \\\n",
       "id                                                                      \n",
       "6128eaaf4a580d21c78a7deba60ae98ecde0f146f5ee0bd...  1695510789   1311   \n",
       "241bfca5a293f2cb8b8b460e63afedf4a7391687b26b415...  1695510788      1   \n",
       "b6390d62541f5bfaddd0f4d1a79e087540b9c0703b0c7be...  1695510787      7   \n",
       "44da6f5c6591ca9b088f65dc1d6a9605d4ecb8a72f1e0e0...  1695510787      1   \n",
       "241bfca5a293f2cb8b8b460e63afedf4a7391687b26b415...  1695510788      1   \n",
       "...                                                        ...    ...   \n",
       "53ba622ca8e648aa6821e78c71bf11bfc2fc286c6e55c2c...  1695381897      1   \n",
       "6b5fa12b729c59f167d6a56e1068dccfa4f7c3051e02bc4...  1695381891  10002   \n",
       "39c74ab63be92ba37951ac83669da630551bb25ef799809...  1695381891      0   \n",
       "f948a344ffaf4925e06a2093ad955c18a4bbb9fc72dc4b1...  1695381889      1   \n",
       "6e587970abc395af2900efd1adf69f590a52e9b8cbc665a...  1695381889      1   \n",
       "\n",
       "                                                                                               pubkey  \\\n",
       "id                                                                                                      \n",
       "6128eaaf4a580d21c78a7deba60ae98ecde0f146f5ee0bd...  f3f5992cdb39e6108768d543fbd384a11efc3713085617...   \n",
       "241bfca5a293f2cb8b8b460e63afedf4a7391687b26b415...  1e3aa9756736f8eabd7e37b985003fe809c7df1efa9779...   \n",
       "b6390d62541f5bfaddd0f4d1a79e087540b9c0703b0c7be...  8e567e90f3214bb221a726c53c0b901dd23bdc4281e4df...   \n",
       "44da6f5c6591ca9b088f65dc1d6a9605d4ecb8a72f1e0e0...  1833ee04459feb2ca4ae690d5f31269ad488c69e5fe903...   \n",
       "241bfca5a293f2cb8b8b460e63afedf4a7391687b26b415...  1e3aa9756736f8eabd7e37b985003fe809c7df1efa9779...   \n",
       "...                                                                                               ...   \n",
       "53ba622ca8e648aa6821e78c71bf11bfc2fc286c6e55c2c...  496d38f69865530028c7d212314d3ce6d605f3528a6c40...   \n",
       "6b5fa12b729c59f167d6a56e1068dccfa4f7c3051e02bc4...  3664b775beb87cc62c80f1e0d7c82d996f92230b0f3a9b...   \n",
       "39c74ab63be92ba37951ac83669da630551bb25ef799809...  3664b775beb87cc62c80f1e0d7c82d996f92230b0f3a9b...   \n",
       "f948a344ffaf4925e06a2093ad955c18a4bbb9fc72dc4b1...  05d53939c386db3f81a39eacbe2ad152cc1e6c02c7e7ef...   \n",
       "6e587970abc395af2900efd1adf69f590a52e9b8cbc665a...  749a08da3a61995e04ccd34a3dff34f05f1f961c9bcc82...   \n",
       "\n",
       "                                                                                                  sig  \\\n",
       "id                                                                                                      \n",
       "6128eaaf4a580d21c78a7deba60ae98ecde0f146f5ee0bd...  cd90c5caa901500fdcdf04970fe7350d31df3d75623222...   \n",
       "241bfca5a293f2cb8b8b460e63afedf4a7391687b26b415...  08de26629e23efa4784ce2d7a17bfea1b2dc12ec04853a...   \n",
       "b6390d62541f5bfaddd0f4d1a79e087540b9c0703b0c7be...  e80e829d7414c498fb054f5c73e4fc782bd069acbb6409...   \n",
       "44da6f5c6591ca9b088f65dc1d6a9605d4ecb8a72f1e0e0...  416357783de4913d548d103c91893659105f4605e5b9ec...   \n",
       "241bfca5a293f2cb8b8b460e63afedf4a7391687b26b415...  08de26629e23efa4784ce2d7a17bfea1b2dc12ec04853a...   \n",
       "...                                                                                               ...   \n",
       "53ba622ca8e648aa6821e78c71bf11bfc2fc286c6e55c2c...  ae4538ef4cdf27731b5c576d8bb98b9bb523d809cc6e28...   \n",
       "6b5fa12b729c59f167d6a56e1068dccfa4f7c3051e02bc4...  7d0d2b6c3f847b93059e8d690aea1fa253053a04d03b00...   \n",
       "39c74ab63be92ba37951ac83669da630551bb25ef799809...  4a2a7152655563320bb1fd6c6910ae96707e2530f465c8...   \n",
       "f948a344ffaf4925e06a2093ad955c18a4bbb9fc72dc4b1...  9c9bebcf7f2b0dcd46dde619e5a4546d8b27bb534da072...   \n",
       "6e587970abc395af2900efd1adf69f590a52e9b8cbc665a...  9851ccffe9657050b462ddbcf231e88b2c14ef8ed6239e...   \n",
       "\n",
       "                                                                                                 tags  \n",
       "id                                                                                                     \n",
       "6128eaaf4a580d21c78a7deba60ae98ecde0f146f5ee0bd...  [[a, 30311:f3f5992cdb39e6108768d543fbd384a11ef...  \n",
       "241bfca5a293f2cb8b8b460e63afedf4a7391687b26b415...                                                 []  \n",
       "b6390d62541f5bfaddd0f4d1a79e087540b9c0703b0c7be...  [[e, e184d60897aeaa8e8fe08acb186516309c2b7cc3f...  \n",
       "44da6f5c6591ca9b088f65dc1d6a9605d4ecb8a72f1e0e0...  [[e, 95ecf35fae2b3b9b001702a75c1a8a4e4adb3681c...  \n",
       "241bfca5a293f2cb8b8b460e63afedf4a7391687b26b415...                                                 []  \n",
       "...                                                                                               ...  \n",
       "53ba622ca8e648aa6821e78c71bf11bfc2fc286c6e55c2c...  [[e, 53dd4e345484d653a93836f56509913ed1f3a52b7...  \n",
       "6b5fa12b729c59f167d6a56e1068dccfa4f7c3051e02bc4...  [[r, wss://relay.mostr.pub], [r, wss://relay.s...  \n",
       "39c74ab63be92ba37951ac83669da630551bb25ef799809...  [[proxy, https://creativewriting.social/users/...  \n",
       "f948a344ffaf4925e06a2093ad955c18a4bbb9fc72dc4b1...  [[p, ce251da465f8986f3afa4eef42b05ace5715576d5...  \n",
       "6e587970abc395af2900efd1adf69f590a52e9b8cbc665a...  [[p, 85747d99569f0843ef5da55fb92f599a621decf7c...  \n",
       "\n",
       "[100245 rows x 6 columns]"
      ]
     },
     "execution_count": 221,
     "metadata": {},
     "output_type": "execute_result"
    }
   ],
   "source": [
    "df_all"
   ]
  },
  {
   "cell_type": "code",
   "execution_count": 193,
   "metadata": {},
   "outputs": [
    {
     "data": {
      "text/plain": [
       "'npub1aeh2zw4elewy5682lxc6xnlqzjnxksq303gwu2npfaxd49vmde6qcq4nwx'"
      ]
     },
     "execution_count": 193,
     "metadata": {},
     "output_type": "execute_result"
    }
   ],
   "source": [
    "PublicKey.from_hex(\"ee6ea13ab9fe5c4a68eaf9b1a34fe014a66b40117c50ee2a614f4cda959b6e74\").to_bech32()"
   ]
  },
  {
   "cell_type": "code",
   "execution_count": 219,
   "metadata": {},
   "outputs": [
    {
     "data": {
      "text/plain": [
       "988"
      ]
     },
     "execution_count": 219,
     "metadata": {},
     "output_type": "execute_result"
    }
   ],
   "source": [
    "# df_all = pd.read_pickle('df_all.pkl')\n",
    "# df_reply = parse_reply_tags(df_all)\n",
    "# df_mention = parse_mention_tags(df_all)\n",
    "# df_reply.to_sql('reply', engine, if_exists=\"replace\")\n",
    "# df_mention.to_sql('mention', engine, if_exists=\"replace\")\n",
    "df_user = parse_user_metadata(df_all)\n",
    "user_cols = [col.name for col in inspect(User).columns]\n",
    "user_cols = [col for col in user_cols if col != \"id\"]\n",
    "df_user[user_cols].to_sql('user', engine, if_exists=\"replace\")"
   ]
  },
  {
   "cell_type": "code",
   "execution_count": 200,
   "metadata": {},
   "outputs": [],
   "source": [
    "row = df_user.loc['91fd1de594297ff4cdeae5a58aa7be91dd281bd0df56ae9af191f5add3372e30']"
   ]
  },
  {
   "cell_type": "code",
   "execution_count": 95,
   "metadata": {},
   "outputs": [
    {
     "data": {
      "text/plain": [
       "content       {\"lud16\":\"dmnyc@getalby.com\",\"picture\":\"https:...\n",
       "created_at                                           1695510781\n",
       "kind                                                          0\n",
       "pubkey        ee6ea13ab9fe5c4a68eaf9b1a34fe014a66b40117c50ee...\n",
       "sig           7e7449785210bfd771037220d73f9916bfcf4bd12901f6...\n",
       "tags                                                         []\n",
       "Name: 399c16be9f1401de6fc3553a8631b939cee983762ce677796f81ee092d547411, dtype: object"
      ]
     },
     "execution_count": 95,
     "metadata": {},
     "output_type": "execute_result"
    }
   ],
   "source": [
    "df_all.loc[df_all.kind == 0].iloc[0]"
   ]
  },
  {
   "cell_type": "code",
   "execution_count": null,
   "metadata": {},
   "outputs": [],
   "source": [
    "Timestamp.now().to_human_datetime()"
   ]
  },
  {
   "cell_type": "code",
   "execution_count": null,
   "metadata": {},
   "outputs": [],
   "source": [
    "Timestamp.from_secs(int(one_day_ago.timestamp())).to_human_datetime()"
   ]
  },
  {
   "cell_type": "code",
   "execution_count": null,
   "metadata": {},
   "outputs": [],
   "source": [
    "# # Filter().event(event_id)\n",
    "# from datetime import datetime, timedelta\n",
    "\n",
    "# # Calculate the timestamp for 1 day ago\n",
    "# one_day_ago = datetime.now() - timedelta(days=1)\n",
    "# filter = Filter().author(pablo_hex).since(Timestamp.from_secs(int(one_day_ago.timestamp())))\n",
    "\n",
    "filter = Filter().author(pablo_hex).since(get_filter_timestamp(num_days=1))\n",
    "pablo_events = client.get_events_of([filter], None)\n",
    "df_pablo = pd.DataFrame([json.loads(event.as_json()) for event in pablo_events]).set_index(\"id\")"
   ]
  },
  {
   "cell_type": "code",
   "execution_count": 267,
   "metadata": {},
   "outputs": [],
   "source": [
    "dfp_local = df = query_db(\n",
    "    Session=Session,\n",
    "    npub=pablo_npub,\n",
    ")"
   ]
  },
  {
   "cell_type": "code",
   "execution_count": 270,
   "metadata": {},
   "outputs": [
    {
     "data": {
      "text/plain": [
       "4"
      ]
     },
     "execution_count": 270,
     "metadata": {},
     "output_type": "execute_result"
    }
   ],
   "source": [
    "len(dfp_local)"
   ]
  },
  {
   "cell_type": "code",
   "execution_count": null,
   "metadata": {},
   "outputs": [],
   "source": [
    "dfp = postprocess(df_pablo)"
   ]
  },
  {
   "cell_type": "code",
   "execution_count": 223,
   "metadata": {},
   "outputs": [
    {
     "data": {
      "text/plain": [
       "('2023-09-23 02:38PM', '2023-09-24 12:58PM')"
      ]
     },
     "execution_count": 223,
     "metadata": {},
     "output_type": "execute_result"
    }
   ],
   "source": [
    "dfp.created_at.min(), dfp.created_at.max()"
   ]
  },
  {
   "cell_type": "code",
   "execution_count": 250,
   "metadata": {},
   "outputs": [],
   "source": [
    "dfp_cols = [col for col in dfp.columns if col != 'tags']"
   ]
  },
  {
   "cell_type": "code",
   "execution_count": 260,
   "metadata": {},
   "outputs": [
    {
     "data": {
      "text/plain": [
       "['content', 'created_at', 'kind', 'pubkey', 'sig']"
      ]
     },
     "execution_count": 260,
     "metadata": {},
     "output_type": "execute_result"
    }
   ],
   "source": [
    "dfp_cols"
   ]
  },
  {
   "cell_type": "code",
   "execution_count": 259,
   "metadata": {},
   "outputs": [
    {
     "data": {
      "text/plain": [
       "'fd5331cf9373e9ecb376d5bc6a6aee6cba5dc506780a793629bb92950a553340'"
      ]
     },
     "execution_count": 259,
     "metadata": {},
     "output_type": "execute_result"
    }
   ],
   "source": [
    "dfp.index.value_counts().idxmax()"
   ]
  },
  {
   "cell_type": "code",
   "execution_count": 263,
   "metadata": {},
   "outputs": [
    {
     "data": {
      "text/html": [
       "<div>\n",
       "<style scoped>\n",
       "    .dataframe tbody tr th:only-of-type {\n",
       "        vertical-align: middle;\n",
       "    }\n",
       "\n",
       "    .dataframe tbody tr th {\n",
       "        vertical-align: top;\n",
       "    }\n",
       "\n",
       "    .dataframe thead th {\n",
       "        text-align: right;\n",
       "    }\n",
       "</style>\n",
       "<table border=\"1\" class=\"dataframe\">\n",
       "  <thead>\n",
       "    <tr style=\"text-align: right;\">\n",
       "      <th></th>\n",
       "      <th>content</th>\n",
       "      <th>created_at</th>\n",
       "      <th>kind</th>\n",
       "      <th>pubkey</th>\n",
       "      <th>sig</th>\n",
       "    </tr>\n",
       "    <tr>\n",
       "      <th>id</th>\n",
       "      <th></th>\n",
       "      <th></th>\n",
       "      <th></th>\n",
       "      <th></th>\n",
       "      <th></th>\n",
       "    </tr>\n",
       "  </thead>\n",
       "  <tbody>\n",
       "    <tr>\n",
       "      <th>fd5331cf9373e9ecb376d5bc6a6aee6cba5dc506780a793629bb92950a553340</th>\n",
       "      <td>Is No Bullshit Bitcoin and anti-nostr publicat...</td>\n",
       "      <td>2023-09-24 12:11AM</td>\n",
       "      <td>1</td>\n",
       "      <td>fa984bd7dbb282f07e16e7ae87b26a2a7b9b90b7246a44...</td>\n",
       "      <td>982b8f33b370cb348a300f2e572320156f0bf267514b4e...</td>\n",
       "    </tr>\n",
       "  </tbody>\n",
       "</table>\n",
       "</div>"
      ],
      "text/plain": [
       "                                                                                              content  \\\n",
       "id                                                                                                      \n",
       "fd5331cf9373e9ecb376d5bc6a6aee6cba5dc506780a793...  Is No Bullshit Bitcoin and anti-nostr publicat...   \n",
       "\n",
       "                                                            created_at  kind  \\\n",
       "id                                                                             \n",
       "fd5331cf9373e9ecb376d5bc6a6aee6cba5dc506780a793...  2023-09-24 12:11AM     1   \n",
       "\n",
       "                                                                                               pubkey  \\\n",
       "id                                                                                                      \n",
       "fd5331cf9373e9ecb376d5bc6a6aee6cba5dc506780a793...  fa984bd7dbb282f07e16e7ae87b26a2a7b9b90b7246a44...   \n",
       "\n",
       "                                                                                                  sig  \n",
       "id                                                                                                     \n",
       "fd5331cf9373e9ecb376d5bc6a6aee6cba5dc506780a793...  982b8f33b370cb348a300f2e572320156f0bf267514b4e...  "
      ]
     },
     "execution_count": 263,
     "metadata": {},
     "output_type": "execute_result"
    }
   ],
   "source": [
    "dfp.loc[\"fd5331cf9373e9ecb376d5bc6a6aee6cba5dc506780a793629bb92950a553340\", dfp_cols].drop_duplicates()"
   ]
  },
  {
   "cell_type": "code",
   "execution_count": null,
   "metadata": {},
   "outputs": [],
   "source": []
  },
  {
   "cell_type": "code",
   "execution_count": 247,
   "metadata": {},
   "outputs": [
    {
     "data": {
      "text/plain": [
       "Index(['7b56a20fc02eefdb3eb11cc93766ba6c9752078b876eb6e2fdeae2af002cd962',\n",
       "       '4a0424cfd0fcb5d7e4fa045f1485321187a76e972e8cf143981aead47af399b3',\n",
       "       '354e5b041704e4c67d3a20a2bee98c06d27242468842e06df7bf772ea77b6df3',\n",
       "       '4ab4551d903cf0122e99fd96c34ca39f525cf4b0f95fcf1e51dd1de45561bb15',\n",
       "       'f5c0ceaf710bba35a4c79d955f5b71b9e4cf8ae945b91d04cc42a42c734175a1',\n",
       "       '9ae2b24a52cc386ea2f5d00b96e886fa7957c3d6e0ccb06ac865acb36a808deb',\n",
       "       '5fba33fbdc5ba2e4c9b05cb1205ba62a209806d3541ce33e9a918a6387809d51',\n",
       "       'b49982e0a448016d5228f44e79d97e34395e5e17e46ddfd436bd7682c1a94a5a',\n",
       "       'adb95e5fb97cad946ef0b6b18f3f52004eb2e898fb808ceac4e8fc97f2b43883',\n",
       "       'd774ec466f4eae53881b30e7c08087eff81b7f9db7e4a1bd7820422d631f8220',\n",
       "       ...\n",
       "       'db40bf515f67da629cf63a18eb53f8ddc7bce27fb3cbcb3cc7dc4dbb0ffc6e39',\n",
       "       '8b52eb32a286f98f2664ca0aa95d33ab6fce0c3d6e293a967b900ea7c112c145',\n",
       "       '7b56a20fc02eefdb3eb11cc93766ba6c9752078b876eb6e2fdeae2af002cd962',\n",
       "       'f5c0ceaf710bba35a4c79d955f5b71b9e4cf8ae945b91d04cc42a42c734175a1',\n",
       "       '354e5b041704e4c67d3a20a2bee98c06d27242468842e06df7bf772ea77b6df3',\n",
       "       'b49982e0a448016d5228f44e79d97e34395e5e17e46ddfd436bd7682c1a94a5a',\n",
       "       '63d03967fe04b0c86ce5fed7b3c981b25996e9fc782265af2b72953e8d27e8a4',\n",
       "       'fd5331cf9373e9ecb376d5bc6a6aee6cba5dc506780a793629bb92950a553340',\n",
       "       'adb95e5fb97cad946ef0b6b18f3f52004eb2e898fb808ceac4e8fc97f2b43883',\n",
       "       '9ae2b24a52cc386ea2f5d00b96e886fa7957c3d6e0ccb06ac865acb36a808deb'],\n",
       "      dtype='object', name='id', length=138)"
      ]
     },
     "execution_count": 247,
     "metadata": {},
     "output_type": "execute_result"
    }
   ],
   "source": [
    "dfp.index"
   ]
  },
  {
   "cell_type": "code",
   "execution_count": 251,
   "metadata": {},
   "outputs": [],
   "source": [
    "grouped = dfp.groupby(list(dfp_cols)).size().reset_index(name='count')\n",
    "duplicates = grouped[grouped['count'] > 1]"
   ]
  },
  {
   "cell_type": "code",
   "execution_count": 255,
   "metadata": {},
   "outputs": [],
   "source": [
    "def find_diff_cols(row1, row2):\n",
    "    \"\"\"Find columns with different values between two rows.\n",
    "\n",
    "    Parameters:\n",
    "        row1, row2 (pd.Series): Rows to compare.\n",
    "\n",
    "    Returns:\n",
    "        List[str]: List of column names with different values.\n",
    "    \"\"\"\n",
    "    # Ensure the rows are from the same DataFrame\n",
    "    if not row1.index.equals(row2.index):\n",
    "        raise ValueError(\"Rows must have the same columns.\")\n",
    "    \n",
    "    diff_cols = [col for col in row1.index if row1[col] != row2[col]]\n",
    "    return diff_cols"
   ]
  },
  {
   "cell_type": "code",
   "execution_count": null,
   "metadata": {},
   "outputs": [],
   "source": []
  },
  {
   "cell_type": "code",
   "execution_count": 253,
   "metadata": {},
   "outputs": [
    {
     "data": {
      "text/plain": [
       "(138, 138)"
      ]
     },
     "execution_count": 253,
     "metadata": {},
     "output_type": "execute_result"
    }
   ],
   "source": [
    "len(dfp), len(dfp[dfp_cols].duplicated(keep=False))"
   ]
  },
  {
   "cell_type": "code",
   "execution_count": null,
   "metadata": {},
   "outputs": [],
   "source": [
    "PublicKey.from_hex('22dd8df1fed1da2574c4917146d93dcb679549aeead8f98cbbaf166d183662ad').to_bech32()"
   ]
  },
  {
   "cell_type": "code",
   "execution_count": null,
   "metadata": {},
   "outputs": [],
   "source": [
    "PublicKey.from_hex('3e1aaea217f0112e56221940e6f1086d59302c24b8879dac7afb901dc7998ae2').to_bech32()\n"
   ]
  },
  {
   "cell_type": "code",
   "execution_count": null,
   "metadata": {},
   "outputs": [],
   "source": [
    "len(all_events)"
   ]
  },
  {
   "cell_type": "code",
   "execution_count": null,
   "metadata": {},
   "outputs": [],
   "source": [
    "pd.to_pickle(df_all, 'df_all.pkl')"
   ]
  },
  {
   "cell_type": "code",
   "execution_count": 56,
   "metadata": {},
   "outputs": [
    {
     "data": {
      "text/plain": [
       "245"
      ]
     },
     "execution_count": 56,
     "metadata": {},
     "output_type": "execute_result"
    }
   ],
   "source": [
    "# df = pd.read_pickle('df_all.pkl')\n",
    "df_all.to_sql('event', engine, if_exists=\"replace\", dtype={'tags': JSONB,})"
   ]
  },
  {
   "cell_type": "code",
   "execution_count": null,
   "metadata": {},
   "outputs": [],
   "source": [
    "users = df.pubkey.unique()[:10]\n",
    "df_temp = df[df.pubkey.isin(users)]"
   ]
  },
  {
   "cell_type": "code",
   "execution_count": null,
   "metadata": {},
   "outputs": [],
   "source": [
    "EventId.from_hex(\"be169dcde5d3a423916827449f37bd09be0e2cbb34ddf62204d6c0ba97d03a0c\").to_bech32()"
   ]
  },
  {
   "cell_type": "code",
   "execution_count": null,
   "metadata": {},
   "outputs": [],
   "source": [
    "df_reply = parse_reply_tags(df)\n",
    "df_mention = parse_mention_tags(df)"
   ]
  },
  {
   "cell_type": "code",
   "execution_count": null,
   "metadata": {},
   "outputs": [],
   "source": [
    "df_reply.columns, df_mention.columns"
   ]
  },
  {
   "cell_type": "code",
   "execution_count": null,
   "metadata": {},
   "outputs": [],
   "source": [
    "df_mention"
   ]
  },
  {
   "cell_type": "code",
   "execution_count": null,
   "metadata": {},
   "outputs": [],
   "source": [
    "dft = df[df.pubkey.isin(top_pubkeys)]"
   ]
  },
  {
   "cell_type": "code",
   "execution_count": null,
   "metadata": {},
   "outputs": [],
   "source": [
    "top_pubkeys = df.groupby('pubkey').size().sort_values(ascending=False).index[5:10]"
   ]
  },
  {
   "cell_type": "code",
   "execution_count": null,
   "metadata": {},
   "outputs": [],
   "source": [
    "dft.groupby(['pubkey', 'kind']).size().reset_index()"
   ]
  },
  {
   "cell_type": "code",
   "execution_count": null,
   "metadata": {},
   "outputs": [],
   "source": [
    "df_mention.dtypes"
   ]
  },
  {
   "cell_type": "code",
   "execution_count": null,
   "metadata": {},
   "outputs": [],
   "source": [
    "dft.kind = dft.kind.astype(str)\n",
    "px.histogram(dft, x=\"pubkey\", color=\"kind\")\n",
    "\n",
    "# fig = px.histogram(\n",
    "#     x=df.kind.astype(str), title=f\"Histogram of events by kind for {npub_value}\"\n",
    "# )\n",
    "\n",
    "# px.histogram(dfx, x=\"kind\", y=\"count\", color=\"pubkey\", pattern_shape=\"nation\", pattern_shape_sequence=[\".\", \"x\", \"+\"])\n",
    "# px.bar(\n",
    "#     dft.groupby(['pubkey', 'kind']).size().reset_index(),\n",
    "#     )"
   ]
  },
  {
   "cell_type": "code",
   "execution_count": null,
   "metadata": {},
   "outputs": [],
   "source": [
    "df.groupby('pubkey').size().sort_values(ascending=False)[:10]"
   ]
  },
  {
   "cell_type": "code",
   "execution_count": null,
   "metadata": {},
   "outputs": [],
   "source": [
    "df.columns"
   ]
  },
  {
   "cell_type": "code",
   "execution_count": null,
   "metadata": {},
   "outputs": [],
   "source": [
    "df_mention.columns"
   ]
  },
  {
   "cell_type": "code",
   "execution_count": null,
   "metadata": {},
   "outputs": [],
   "source": [
    "df_temp"
   ]
  },
  {
   "cell_type": "code",
   "execution_count": null,
   "metadata": {},
   "outputs": [],
   "source": [
    "# df = px.data.tips()\n",
    "\n",
    "# fig = px.histogram(df, x=\"total_bill\", y=\"tip\", color=\"sex\", marginal=\"rug\", hover_data=df.columns)\n",
    "# fig.show()\n",
    "\n",
    "fig = px.histogram(df_temp, x=\"pubkey\", y=\"count\", color=\"kind\", pattern_shape=\"nation\", pattern_shape_sequence=[\".\", \"x\", \"+\"])\n",
    "# fig = px.histogram(df, x=\"total_bill\", y=\"tip\", color=\"sex\", marginal=\"rug\", hover_data=df.co lumns)\n",
    "fig.show()"
   ]
  },
  {
   "cell_type": "code",
   "execution_count": null,
   "metadata": {},
   "outputs": [],
   "source": [
    "# EventId.from_hex('3f770d65d3a764a9c5cb503ae123e62ec7598ad035d836e2a810f3877a745b24').to_bech32()\n",
    "# PublicKey.from_hex('3f770d65d3a764a9c5cb503ae123e62ec7598ad035d836e2a810f3877a745b24').to_bech32()"
   ]
  },
  {
   "cell_type": "code",
   "execution_count": null,
   "metadata": {},
   "outputs": [],
   "source": [
    "grp = df_reply.groupby('event_id').size().reset_index(name='count')\n",
    "grp.sort_values('count', ascending=False)['event_id'].iloc[0]"
   ]
  },
  {
   "cell_type": "code",
   "execution_count": null,
   "metadata": {},
   "outputs": [],
   "source": [
    "# thread\n",
    "df_reply[df_reply.event_id == orig_id].sort_values('created_at', ascending=True)['source_id'].iloc[0]"
   ]
  },
  {
   "cell_type": "code",
   "execution_count": null,
   "metadata": {},
   "outputs": [],
   "source": [
    "pablo = \"npub1l2vyh47mk2p0qlsku7hg0vn29faehy9hy34ygaclpn66ukqp3afqutajft\"\n",
    "PublicKey.from_bech32(pablo).to_hex()"
   ]
  },
  {
   "cell_type": "code",
   "execution_count": null,
   "metadata": {},
   "outputs": [],
   "source": [
    "pablo = \"npub1l2vyh47mk2p0qlsku7hg0vn29faehy9hy34ygaclpn66ukqp3afqutajft\"\n",
    "pk = PublicKey.from_bech32(pablo)\n",
    "filter = Filter().author(pk.to_hex()).limit(50000)\n",
    "\n",
    "events_pablo = client.get_events_of([filter], timedelta(seconds=1000))\n",
    "df_pablo = pd.DataFrame([json.loads(event.as_json()) for event in events_pablo]).set_index(\"id\")"
   ]
  },
  {
   "cell_type": "code",
   "execution_count": null,
   "metadata": {},
   "outputs": [],
   "source": [
    "def get_events(npub):\n",
    "    # Subtract 7 days from the current date and time\n",
    "    start_ts = (datetime.now() - timedelta(days=7)).timestamp()\n",
    "    # timestamp = int(seven_days_ago.timestamp())\n",
    "    pk = PublicKey.from_bech32(npub)\n",
    "    filter = Filter().author(pk.to_hex()).since(start_ts)\n",
    "    event = client.get_events_of([filter], timedelta(seconds=1000))"
   ]
  },
  {
   "cell_type": "code",
   "execution_count": null,
   "metadata": {},
   "outputs": [],
   "source": [
    "df_pablo = pd.read_pickle('pablo.pkl')"
   ]
  },
  {
   "cell_type": "code",
   "execution_count": null,
   "metadata": {},
   "outputs": [],
   "source": [
    "# pd.to_pickle(df_pablo, 'pablo.pkl')\n",
    "len(df_pablo)"
   ]
  },
  {
   "cell_type": "code",
   "execution_count": null,
   "metadata": {},
   "outputs": [],
   "source": [
    "temp = df_pablo.loc['5ff739f0d1998ed71a52e45d043a1a98d95aa4cac4072d7046cc01df448b5227'].iloc[0]['tags'][0]"
   ]
  },
  {
   "cell_type": "code",
   "execution_count": null,
   "metadata": {},
   "outputs": [],
   "source": [
    "# df.to_sql('events', engine, if_exists=\"replace\", dtype={\n",
    "#     'tags': JSONB,\n",
    "#     'tags_relay_url': JSONB,\n",
    "# })\n",
    "\n",
    "# df_e.to_sql('replys', engine, if_exists=\"replace\")\n",
    "# df_p.to_sql('mentions', engine, if_exists=\"replace\")"
   ]
  },
  {
   "cell_type": "code",
   "execution_count": null,
   "metadata": {},
   "outputs": [],
   "source": [
    "df_pablo.columns"
   ]
  },
  {
   "cell_type": "code",
   "execution_count": null,
   "metadata": {},
   "outputs": [],
   "source": [
    "df_reply.columns"
   ]
  },
  {
   "cell_type": "code",
   "execution_count": null,
   "metadata": {},
   "outputs": [],
   "source": [
    "df_mention.columns"
   ]
  },
  {
   "cell_type": "code",
   "execution_count": null,
   "metadata": {},
   "outputs": [],
   "source": [
    "grp = df_e.groupby('event_id').size().reset_index(name='count')"
   ]
  },
  {
   "cell_type": "code",
   "execution_count": null,
   "metadata": {},
   "outputs": [],
   "source": [
    "grp.sort_values('count', ascending=False)['event_id'].iloc[2]"
   ]
  },
  {
   "cell_type": "code",
   "execution_count": null,
   "metadata": {},
   "outputs": [],
   "source": [
    "# EventId.from_hex('ef53730b18bc0a77db1078f66bebe516a13e10e036357e2750e7890da1ae047c').to_bech32()\n",
    "EventId.from_hex('b6b186d3a97cb621ada7ffea9f26589c32643802b012024f4a1f2bc850faef5b') # should be nevent1 not note1\n"
   ]
  },
  {
   "cell_type": "code",
   "execution_count": null,
   "metadata": {},
   "outputs": [],
   "source": [
    "EventId.from_hex('b6b186d3a97cb621ada7ffea9f26589c32643802b012024f4a1f2bc850faef5b').to_bech32()"
   ]
  },
  {
   "cell_type": "code",
   "execution_count": null,
   "metadata": {},
   "outputs": [],
   "source": [
    "df_e[df_e.event_id == 'a6f436a59fdb5e23c757b1e30478742996c54413df777843e0a731af56a96eea']['source_id'].iloc[0]"
   ]
  },
  {
   "cell_type": "code",
   "execution_count": null,
   "metadata": {},
   "outputs": [],
   "source": [
    "results = pd.read_sql(\"select * from replys\", engine)"
   ]
  },
  {
   "cell_type": "code",
   "execution_count": null,
   "metadata": {},
   "outputs": [],
   "source": [
    "df_e.head()"
   ]
  },
  {
   "cell_type": "code",
   "execution_count": null,
   "metadata": {},
   "outputs": [],
   "source": [
    "results"
   ]
  },
  {
   "cell_type": "code",
   "execution_count": null,
   "metadata": {},
   "outputs": [],
   "source": [
    "df_e['e_col4'].unique()"
   ]
  },
  {
   "cell_type": "code",
   "execution_count": null,
   "metadata": {},
   "outputs": [],
   "source": [
    "df_p['p_col3'].unique()"
   ]
  },
  {
   "cell_type": "code",
   "execution_count": null,
   "metadata": {},
   "outputs": [],
   "source": [
    "df_pablo.head()"
   ]
  },
  {
   "cell_type": "code",
   "execution_count": null,
   "metadata": {},
   "outputs": [],
   "source": [
    "tags_count = []\n",
    "for item in df_pablo['tags']:\n",
    "    print(item)\n",
    "    break\n",
    "# result = [(lst[0], len(lst)) if lst else (None, 0) for lst in df_pablo['tags']]\n",
    "\n",
    "# print(result)"
   ]
  },
  {
   "cell_type": "code",
   "execution_count": null,
   "metadata": {},
   "outputs": [],
   "source": [
    "result[0]"
   ]
  },
  {
   "cell_type": "code",
   "execution_count": null,
   "metadata": {},
   "outputs": [],
   "source": [
    "df_pablo.iloc[1]['tags']"
   ]
  },
  {
   "cell_type": "code",
   "execution_count": null,
   "metadata": {},
   "outputs": [],
   "source": [
    "# def query_events(client, kind=None, num_limit=1000):\n",
    "filter = Filter().limit(50000)\n",
    "events = client.get_events_of([filter], timedelta(seconds=1000))\n",
    "df = pd.DataFrame([json.loads(event.as_json()) for event in events]).set_index(\"id\")"
   ]
  },
  {
   "cell_type": "code",
   "execution_count": null,
   "metadata": {},
   "outputs": [],
   "source": [
    "out = df['tags'].apply(lambda x: x.keys() if x else None)"
   ]
  },
  {
   "cell_type": "code",
   "execution_count": null,
   "metadata": {},
   "outputs": [],
   "source": [
    "df.tags.iloc[0]"
   ]
  },
  {
   "cell_type": "code",
   "execution_count": null,
   "metadata": {},
   "outputs": [],
   "source": [
    "from collections import defaultdict\n",
    "all_tags = defaultdict(int)\n",
    "for row in out.values:\n",
    "    if row is None:\n",
    "        continue\n",
    "    for item in list(row):\n",
    "        all_tags[item] += 1"
   ]
  },
  {
   "cell_type": "code",
   "execution_count": null,
   "metadata": {},
   "outputs": [],
   "source": [
    "all_tags"
   ]
  },
  {
   "cell_type": "code",
   "execution_count": null,
   "metadata": {},
   "outputs": [],
   "source": [
    "len(all_tags)"
   ]
  },
  {
   "cell_type": "code",
   "execution_count": null,
   "metadata": {},
   "outputs": [],
   "source": [
    "df.iloc[0]['pubkey']"
   ]
  },
  {
   "cell_type": "code",
   "execution_count": null,
   "metadata": {},
   "outputs": [],
   "source": [
    "# Using the `size` method which returns the count of each group\n",
    "grouped = df.groupby('pubkey').size().reset_index(name='count')\n",
    "\n",
    "# OR using the `count` method\n",
    "# grouped = df.groupby('kind')['kind'].count().reset_index(name='count')\n"
   ]
  },
  {
   "cell_type": "code",
   "execution_count": null,
   "metadata": {},
   "outputs": [],
   "source": [
    "grouped.sort_values('count', ascending=False).head(10)"
   ]
  },
  {
   "cell_type": "code",
   "execution_count": null,
   "metadata": {},
   "outputs": [],
   "source": [
    "# pd.to_pickle(df, 'events_50000.pkl')\n",
    "# df = pd.read_pickle('events_100.pkl')"
   ]
  },
  {
   "cell_type": "code",
   "execution_count": null,
   "metadata": {},
   "outputs": [],
   "source": [
    "PublicKey.from_hex(df_pablo.pubkey.unique()[0]).to_bech32()"
   ]
  },
  {
   "cell_type": "code",
   "execution_count": null,
   "metadata": {},
   "outputs": [],
   "source": [
    "for i in range(20):\n",
    "    print(df_pablo.iloc[i]['tags'])"
   ]
  },
  {
   "cell_type": "code",
   "execution_count": null,
   "metadata": {},
   "outputs": [],
   "source": [
    "df"
   ]
  },
  {
   "cell_type": "code",
   "execution_count": null,
   "metadata": {},
   "outputs": [],
   "source": [
    "df_pablo.iloc[9]['tags']"
   ]
  },
  {
   "cell_type": "code",
   "execution_count": null,
   "metadata": {},
   "outputs": [],
   "source": [
    "df_pablo.iloc[13]['tags']"
   ]
  },
  {
   "cell_type": "code",
   "execution_count": null,
   "metadata": {},
   "outputs": [],
   "source": [
    "df_pablo.head()"
   ]
  },
  {
   "cell_type": "code",
   "execution_count": null,
   "metadata": {},
   "outputs": [],
   "source": [
    "df_pablo.to_sql('pablo', engine, if_exists=\"replace\", dtype={'tags': JSONB})"
   ]
  },
  {
   "cell_type": "code",
   "execution_count": null,
   "metadata": {},
   "outputs": [],
   "source": [
    "# df = query_events(client)\n",
    "# loses association with key (e or p may have different relay url)\n",
    "df[\"tags_relay_url\"] = df[\"tags\"].apply(\n",
    "    lambda x: {item[0]: item[2] for item in x if len(item) > 2} or None\n",
    ")\n",
    "df['tags'] = df['tags'].apply(lambda x: {item[0]: item[1] if len(item) > 1 else None for item in x} or None)\n",
    "\n",
    "df.to_sql('events', engine, if_exists=\"replace\", dtype={\n",
    "    'tags': JSONB,\n",
    "    'tags_relay_url': JSONB,\n",
    "})\n",
    "\n",
    "# sql_query = \"SELECT * FROM events\"\n",
    "# sql_query = \"SELECT * FROM events WHERE tags ? 't'\"\n",
    "# sql_query = \"SELECT * FROM events;\"\n",
    "\n",
    "# df_results = pd.read_sql(sql_query, engine)\n"
   ]
  },
  {
   "cell_type": "code",
   "execution_count": null,
   "metadata": {},
   "outputs": [],
   "source": [
    "# Create a SQLAlchemy engine and session factory\n",
    "Session = sessionmaker(bind=engine)\n",
    "\n",
    "# Define the ORM class for the 'events' table\n",
    "Base = declarative_base()\n",
    "\n",
    "class Events(Base):\n",
    "    __tablename__ = \"events\"\n",
    "    id = Column(String, primary_key=True)\n",
    "    created_at = Column(BigInteger)\n",
    "    kind = Column(BigInteger)\n",
    "    tags = Column(JSONB)\n",
    "    tags_relay_url = Column(JSONB)\n",
    "    pubkey = Column(String)\n",
    "    content = Column(String)\n",
    "    sig = Column(String)\n"
   ]
  },
  {
   "cell_type": "code",
   "execution_count": null,
   "metadata": {},
   "outputs": [],
   "source": [
    "# Create a session and query the table using the ORM\n",
    "with Session() as session:\n",
    "    results = session.query(Events).all()\n",
    "\n",
    "# Convert the results into a pandas DataFrame\n",
    "df = pd.DataFrame([r.__dict__ for r in results])\n",
    "\n",
    "# Removing unnecessary meta-data related columns\n",
    "# df = df.drop('_sa_instance_state', axis=1)\n",
    "\n",
    "print(df)"
   ]
  },
  {
   "cell_type": "code",
   "execution_count": null,
   "metadata": {},
   "outputs": [],
   "source": [
    "npub = \"npub1dergggklka99wwrs92yz8wdjs952h2ux2ha2ed598ngwu9w7a6fsh9xzpc\"\n",
    "pk = PublicKey.from_bech32(npub)\n",
    "pk.to_hex()"
   ]
  },
  {
   "cell_type": "code",
   "execution_count": null,
   "metadata": {},
   "outputs": [],
   "source": [
    "event_id = EventId.from_hex(df.loc[0, 'id'])\n",
    "event_id.to_bech32()"
   ]
  },
  {
   "cell_type": "code",
   "execution_count": null,
   "metadata": {},
   "outputs": [],
   "source": [
    "event_id.to_bech32()"
   ]
  },
  {
   "cell_type": "code",
   "execution_count": null,
   "metadata": {},
   "outputs": [],
   "source": [
    "type(keys), type(keys.public_key()), type(keys.public_key().to_bech32())"
   ]
  },
  {
   "cell_type": "code",
   "execution_count": null,
   "metadata": {},
   "outputs": [],
   "source": [
    "# sql_query = \"SELECT * FROM events\"\n",
    "# sql_query = \"SELECT * FROM events WHERE tags ? 't'\"\n",
    "sql_query = \"SELECT * FROM events WHERE tags->>'t' = 'sm41623576'\";\n",
    "\n",
    "df_results = pd.read_sql(sql_query, engine)"
   ]
  },
  {
   "cell_type": "code",
   "execution_count": null,
   "metadata": {},
   "outputs": [],
   "source": [
    "# create kind name -> kind val dict\n",
    "# handle 3rd field (recommended relay url optional) in tag list (see nips1)\n",
    "# get events for all kinds\n",
    "# get zaps\n",
    "# large query"
   ]
  },
  {
   "cell_type": "code",
   "execution_count": null,
   "metadata": {},
   "outputs": [],
   "source": [
    "def query_zaps():\n",
    "    filter = Filter().kind(9735).limit(10)\n",
    "    events = client.get_events_of([filter], timedelta(seconds=10))\n",
    "    return pd.DataFrame([json.loads(event.as_json()) for event in events])"
   ]
  }
 ],
 "metadata": {
  "kernelspec": {
   "display_name": "nos",
   "language": "python",
   "name": "python3"
  },
  "language_info": {
   "codemirror_mode": {
    "name": "ipython",
    "version": 3
   },
   "file_extension": ".py",
   "mimetype": "text/x-python",
   "name": "python",
   "nbconvert_exporter": "python",
   "pygments_lexer": "ipython3",
   "version": "3.10.12"
  },
  "orig_nbformat": 4
 },
 "nbformat": 4,
 "nbformat_minor": 2
}
